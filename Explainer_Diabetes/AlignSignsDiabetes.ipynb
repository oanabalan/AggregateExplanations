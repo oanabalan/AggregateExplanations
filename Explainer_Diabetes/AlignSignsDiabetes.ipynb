{
 "cells": [
  {
   "cell_type": "code",
   "execution_count": 7,
   "id": "1f075ada-6f7d-4d8c-8117-0867f6e2fc3c",
   "metadata": {},
   "outputs": [
    {
     "name": "stdout",
     "output_type": "stream",
     "text": [
      "[1.0, 0.8529322363101685, 0.8529322363101685, 1.0]\n",
      "[1.0, 0.7992561360194493, 0.7992561360194493, 1.0]\n",
      "[1.0, 0.5139157707824377, 0.5139157707824377, 1.0]\n",
      "[1.0, 0.7303715093942544, 0.7303715093942544, 1.0]\n",
      "[1.0, 0.8151696229458787, 0.8151696229458787, 1.0]\n",
      "[1.0, 0.859741020226912, 0.859741020226912, 1.0]\n"
     ]
    },
    {
     "name": "stderr",
     "output_type": "stream",
     "text": [
      "C:\\Users\\STUDENT018\\AppData\\Local\\Temp\\ipykernel_18644\\3747841283.py:120: RuntimeWarning: invalid value encountered in scalar divide\n",
      "  wsim[j] = wsim[j] + (1 / ( i - k)) * np.dot(A,B)/(norm(A)*norm(B))\n",
      "C:\\Users\\STUDENT018\\AppData\\Local\\Temp\\ipykernel_18644\\3747841283.py:145: RuntimeWarning: invalid value encountered in scalar divide\n",
      "  return np.dot(A,B)/(norm(A)*norm(B))\n"
     ]
    },
    {
     "name": "stdout",
     "output_type": "stream",
     "text": [
      "[nan, nan, nan, 1.0]\n",
      "[1.0, 0.8821908032505447, 0.8821908032505447, 1.0]\n",
      "[1.0, 0.6833163831348599, 0.6833163831348599, 1.0]\n",
      "[1.0, 0.9373439982544827, 0.9373439982544827, 1.0]\n",
      "[1.0, 0.7691330189811443, 0.7691330189811443, 1.0]\n",
      "[1.0, 0.6682475996427619, 0.6682475996427619, 1.0]\n",
      "[1.0, 0.5295338602937484, 0.5295338602937484, 1.0]\n",
      "[1.0, 0.8322308243332783, 0.8322308243332783, 1.0]\n",
      "[1.0, 0.7846243140410141, 0.7846243140410141, 1.0]\n",
      "[1.0, 0.9823002285448057, 0.9823002285448057, 1.0]\n",
      "[1.0, 0.6905251113890154, 0.6905251113890154, 1.0]\n",
      "[1.0, 0.8253634031037865, 0.8253634031037865, 1.0]\n",
      "[1.0, 0.636337511250203, 0.636337511250203, 1.0]\n",
      "[1.0, 0.7185489646662588, 0.7185489646662588, 1.0]\n",
      "[1.0, 0.5001958327904507, 0.5001958327904507, 1.0]\n",
      "[1.0, 0.6223407302510591, 0.6223407302510591, 1.0]\n",
      "[1.0, 0.6135667102086387, 0.6135667102086387, 1.0]\n",
      "[1.0, 0.5377268313634843, 0.5377268313634843, 1.0]\n",
      "[1.0, 0.49439430503701826, 0.49439430503701826, 1.0]\n",
      "[1.0, 0.8304667080967161, 0.8304667080967161, 1.0]\n",
      "[1.0, 0.49439430503701814, 0.49439430503701814, 1.0]\n"
     ]
    },
    {
     "name": "stderr",
     "output_type": "stream",
     "text": [
      "C:\\Users\\STUDENT018\\AppData\\Local\\Temp\\ipykernel_18644\\3747841283.py:120: RuntimeWarning: invalid value encountered in scalar divide\n",
      "  wsim[j] = wsim[j] + (1 / ( i - k)) * np.dot(A,B)/(norm(A)*norm(B))\n",
      "C:\\Users\\STUDENT018\\AppData\\Local\\Temp\\ipykernel_18644\\3747841283.py:136: RuntimeWarning: invalid value encountered in scalar divide\n",
      "  wsim[j] = wsim[j] + (1 / ( i - k)) * np.dot(A,B)/(norm(A)*norm(B))\n",
      "C:\\Users\\STUDENT018\\AppData\\Local\\Temp\\ipykernel_18644\\3747841283.py:145: RuntimeWarning: invalid value encountered in scalar divide\n",
      "  return np.dot(A,B)/(norm(A)*norm(B))\n"
     ]
    },
    {
     "name": "stdout",
     "output_type": "stream",
     "text": [
      "[1.0, nan, nan, nan]\n",
      "[1.0, 0.4983833804400871, 0.4983833804400871, 1.0]\n",
      "[1.0, 0.5280399869335766, 0.5280399869335766, 1.0]\n",
      "[1.0, 0.7496914870492095, 0.7496914870492095, 1.0]\n",
      "[1.0, 0.8290036776582684, 0.8290036776582684, 1.0]\n"
     ]
    },
    {
     "name": "stderr",
     "output_type": "stream",
     "text": [
      "C:\\Users\\STUDENT018\\AppData\\Local\\Temp\\ipykernel_18644\\3747841283.py:120: RuntimeWarning: invalid value encountered in scalar divide\n",
      "  wsim[j] = wsim[j] + (1 / ( i - k)) * np.dot(A,B)/(norm(A)*norm(B))\n",
      "C:\\Users\\STUDENT018\\AppData\\Local\\Temp\\ipykernel_18644\\3747841283.py:136: RuntimeWarning: invalid value encountered in scalar divide\n",
      "  wsim[j] = wsim[j] + (1 / ( i - k)) * np.dot(A,B)/(norm(A)*norm(B))\n",
      "C:\\Users\\STUDENT018\\AppData\\Local\\Temp\\ipykernel_18644\\3747841283.py:145: RuntimeWarning: invalid value encountered in scalar divide\n",
      "  return np.dot(A,B)/(norm(A)*norm(B))\n"
     ]
    },
    {
     "name": "stdout",
     "output_type": "stream",
     "text": [
      "[nan, nan, nan, 1.0]\n",
      "[1.0, 0.7552680002628307, 0.7552680002628307, 1.0]\n",
      "[1.0, 0.6918211873272252, 0.6918211873272252, 1.0]\n",
      "[1.0, 0.8962700771277794, 0.8962700771277794, 1.0]\n",
      "[1.0, 0.7896355376311277, 0.7896355376311277, 1.0]\n",
      "[1.0, 0.6326706105614768, 0.6326706105614768, 1.0]\n"
     ]
    },
    {
     "name": "stderr",
     "output_type": "stream",
     "text": [
      "C:\\Users\\STUDENT018\\AppData\\Local\\Temp\\ipykernel_18644\\3747841283.py:120: RuntimeWarning: invalid value encountered in scalar divide\n",
      "  wsim[j] = wsim[j] + (1 / ( i - k)) * np.dot(A,B)/(norm(A)*norm(B))\n",
      "C:\\Users\\STUDENT018\\AppData\\Local\\Temp\\ipykernel_18644\\3747841283.py:136: RuntimeWarning: invalid value encountered in scalar divide\n",
      "  wsim[j] = wsim[j] + (1 / ( i - k)) * np.dot(A,B)/(norm(A)*norm(B))\n",
      "C:\\Users\\STUDENT018\\AppData\\Local\\Temp\\ipykernel_18644\\3747841283.py:145: RuntimeWarning: invalid value encountered in scalar divide\n",
      "  return np.dot(A,B)/(norm(A)*norm(B))\n"
     ]
    },
    {
     "name": "stdout",
     "output_type": "stream",
     "text": [
      "[1.0, nan, nan, nan]\n",
      "[1.0, 0.5390423057084182, 0.5390423057084182, 1.0]\n",
      "[1.0, 0.786597125366777, 0.786597125366777, 1.0]\n",
      "[1.0, 0.6431494037430225, 0.6431494037430225, 1.0]\n",
      "[1.0, 0.741413923129742, 0.741413923129742, 1.0]\n",
      "[1.0, 0.6561835166905506, 0.6561835166905506, 1.0]\n",
      "[1.0, 0.6135667102086388, 0.6135667102086388, 1.0]\n",
      "[1.0, 0.660569395630392, 0.660569395630392, 1.0]\n",
      "[1.0, 0.6248232054052929, 0.6248232054052929, 1.0]\n",
      "[1.0, 0.5728258906068067, 0.5728258906068067, 1.0]\n",
      "[1.0, 0.7551324457547741, 0.7551324457547741, 1.0]\n",
      "[1.0, 0.8240618747258036, 0.8240618747258036, 1.0]\n"
     ]
    },
    {
     "name": "stderr",
     "output_type": "stream",
     "text": [
      "C:\\Users\\STUDENT018\\AppData\\Local\\Temp\\ipykernel_18644\\3747841283.py:120: RuntimeWarning: invalid value encountered in scalar divide\n",
      "  wsim[j] = wsim[j] + (1 / ( i - k)) * np.dot(A,B)/(norm(A)*norm(B))\n",
      "C:\\Users\\STUDENT018\\AppData\\Local\\Temp\\ipykernel_18644\\3747841283.py:145: RuntimeWarning: invalid value encountered in scalar divide\n",
      "  return np.dot(A,B)/(norm(A)*norm(B))\n"
     ]
    },
    {
     "name": "stdout",
     "output_type": "stream",
     "text": [
      "[nan, nan, nan, 1.0]\n",
      "[1.0, 0.8215156335501927, 0.8215156335501927, 1.0]\n",
      "[1.0, 0.7634797061088368, 0.7634797061088368, 1.0]\n",
      "[1.0, 0.7052412351954267, 0.7052412351954267, 1.0]\n",
      "[1.0, 0.6333931902899969, 0.6333931902899969, 1.0]\n",
      "[1.0, 0.7235218425436203, 0.7235218425436203, 1.0]\n",
      "[1.0, 0.49439430503701814, 0.49439430503701814, 1.0]\n",
      "[1.0, 0.743767540519901, 0.743767540519901, 1.0]\n",
      "[1.0, 0.6403500970823609, 0.6403500970823609, 1.0]\n",
      "[1.0, 0.7249835230336472, 0.7249835230336472, 1.0]\n",
      "[1.0, 0.6563628338469958, 0.6563628338469958, 1.0]\n",
      "[1.0, 0.7583196612595005, 0.7583196612595005, 1.0]\n",
      "[1.0, 0.5438440191948436, 0.5438440191948436, 1.0]\n",
      "[1.0, 0.6405542388678835, 0.6405542388678835, 1.0]\n",
      "[1.0, 0.7949323213959021, 0.7949323213959021, 1.0]\n",
      "[1.0, 0.9277721679892752, 0.9277721679892752, 1.0]\n",
      "[1.0, 0.6435078305036158, 0.6435078305036158, 1.0]\n",
      "[1.0, 0.6387949792188954, 0.6387949792188954, 1.0]\n"
     ]
    },
    {
     "name": "stderr",
     "output_type": "stream",
     "text": [
      "C:\\Users\\STUDENT018\\AppData\\Local\\Temp\\ipykernel_18644\\3747841283.py:120: RuntimeWarning: invalid value encountered in scalar divide\n",
      "  wsim[j] = wsim[j] + (1 / ( i - k)) * np.dot(A,B)/(norm(A)*norm(B))\n",
      "C:\\Users\\STUDENT018\\AppData\\Local\\Temp\\ipykernel_18644\\3747841283.py:136: RuntimeWarning: invalid value encountered in scalar divide\n",
      "  wsim[j] = wsim[j] + (1 / ( i - k)) * np.dot(A,B)/(norm(A)*norm(B))\n",
      "C:\\Users\\STUDENT018\\AppData\\Local\\Temp\\ipykernel_18644\\3747841283.py:145: RuntimeWarning: invalid value encountered in scalar divide\n",
      "  return np.dot(A,B)/(norm(A)*norm(B))\n"
     ]
    },
    {
     "name": "stdout",
     "output_type": "stream",
     "text": [
      "[nan, nan, nan, 1.0]\n",
      "[1.0, 0.8777762132755316, 0.8777762132755316, 1.0]\n",
      "[1.0, 0.791994459370724, 0.791994459370724, 1.0]\n",
      "[1.0, 0.8225075467538145, 0.8225075467538145, 1.0]\n",
      "[1.0, 0.5058280359245543, 0.5058280359245543, 1.0]\n",
      "[1.0, 0.7024493101094824, 0.7024493101094824, 1.0]\n",
      "[1.0, 0.9427873202260889, 0.9427873202260889, 1.0]\n",
      "[1.0, 0.5689356180601232, 0.5689356180601232, 1.0]\n",
      "[1.0, 0.6409888276119993, 0.6409888276119993, 1.0]\n",
      "[1.0, 0.6939054896536561, 0.6939054896536561, 1.0]\n",
      "[1.0, 0.8440770625227162, 0.8440770625227162, 1.0]\n",
      "[1.0, 0.6414476306416168, 0.6414476306416168, 1.0]\n",
      "[1.0, 0.8263679481980684, 0.8263679481980684, 1.0]\n",
      "[1.0, 0.6452587987915245, 0.6452587987915245, 1.0]\n",
      "[1.0, 0.5635553862864419, 0.5635553862864419, 1.0]\n",
      "[1.0, 0.6394080296743403, 0.6394080296743403, 1.0]\n",
      "[1.0, 0.7385762931060527, 0.7385762931060527, 1.0]\n",
      "[1.0, 0.7242983755312489, 0.7242983755312489, 1.0]\n",
      "[1.0, 0.5097233073920262, 0.5097233073920262, 1.0]\n",
      "[1.0, 0.7604506604198317, 0.7604506604198317, 1.0]\n",
      "[1.0, 0.6569363689714498, 0.6569363689714498, 1.0]\n",
      "[1.0, 0.5208645086874637, 0.5208645086874637, 1.0]\n",
      "[1.0, 0.5863445650777803, 0.5863445650777803, 1.0]\n",
      "[1.0, 0.8028725008032923, 0.8028725008032923, 1.0]\n",
      "[1.0, 0.5187752812931369, 0.5187752812931369, 1.0]\n",
      "[1.0, 0.898899807656491, 0.898899807656491, 1.0]\n",
      "[1.0, 0.4943943050370179, 0.4943943050370179, 1.0]\n",
      "[1.0, 0.8424725924663807, 0.8424725924663807, 1.0]\n",
      "[1.0, 0.7154597605471377, 0.7154597605471377, 1.0]\n"
     ]
    },
    {
     "name": "stderr",
     "output_type": "stream",
     "text": [
      "C:\\Users\\STUDENT018\\AppData\\Local\\Temp\\ipykernel_18644\\3747841283.py:120: RuntimeWarning: invalid value encountered in scalar divide\n",
      "  wsim[j] = wsim[j] + (1 / ( i - k)) * np.dot(A,B)/(norm(A)*norm(B))\n",
      "C:\\Users\\STUDENT018\\AppData\\Local\\Temp\\ipykernel_18644\\3747841283.py:136: RuntimeWarning: invalid value encountered in scalar divide\n",
      "  wsim[j] = wsim[j] + (1 / ( i - k)) * np.dot(A,B)/(norm(A)*norm(B))\n",
      "C:\\Users\\STUDENT018\\AppData\\Local\\Temp\\ipykernel_18644\\3747841283.py:145: RuntimeWarning: invalid value encountered in scalar divide\n",
      "  return np.dot(A,B)/(norm(A)*norm(B))\n"
     ]
    },
    {
     "name": "stdout",
     "output_type": "stream",
     "text": [
      "[nan, nan, nan, nan]\n",
      "[1.0, 0.8460791311899897, 0.8460791311899897, 1.0]\n",
      "[1.0, 0.7853063518552816, 0.7853063518552816, 1.0]\n",
      "[1.0, 0.624941134126302, 0.624941134126302, 1.0]\n",
      "[1.0, 0.6305795246757111, 0.6305795246757111, 1.0]\n",
      "[1.0, 0.49439430503701814, 0.49439430503701814, 1.0]\n"
     ]
    },
    {
     "name": "stderr",
     "output_type": "stream",
     "text": [
      "C:\\Users\\STUDENT018\\AppData\\Local\\Temp\\ipykernel_18644\\3747841283.py:120: RuntimeWarning: invalid value encountered in scalar divide\n",
      "  wsim[j] = wsim[j] + (1 / ( i - k)) * np.dot(A,B)/(norm(A)*norm(B))\n",
      "C:\\Users\\STUDENT018\\AppData\\Local\\Temp\\ipykernel_18644\\3747841283.py:145: RuntimeWarning: invalid value encountered in scalar divide\n",
      "  return np.dot(A,B)/(norm(A)*norm(B))\n"
     ]
    },
    {
     "name": "stdout",
     "output_type": "stream",
     "text": [
      "[nan, nan, nan, 1.0]\n",
      "[1.0, 0.49439430503701803, 0.49439430503701803, 1.0]\n",
      "[1.0, 0.7076030139847077, 0.7076030139847077, 1.0]\n",
      "[1.0, 0.7867121432375739, 0.7867121432375739, 1.0]\n",
      "[1.0, 0.5161457135194113, 0.5161457135194113, 1.0]\n",
      "[1.0, 0.8147486171355365, 0.8147486171355365, 1.0]\n",
      "[1.0, 0.8100041161153373, 0.8100041161153373, 1.0]\n",
      "[1.0, 0.6403500970823609, 0.6403500970823609, 1.0]\n",
      "[1.0, 0.5449858788589708, 0.5449858788589708, 1.0]\n",
      "[1.0, 0.8108166635327847, 0.8108166635327847, 1.0]\n",
      "[1.0, 0.7400306634807294, 0.7400306634807294, 1.0]\n",
      "[1.0, 0.5481678460936804, 0.5481678460936804, 1.0]\n",
      "[nan, nan, nan, 1.0]\n",
      "[1.0, 0.7030843479710419, 0.7030843479710419, 1.0]\n",
      "[1.0, 0.5554183105646618, 0.5554183105646618, 1.0]\n",
      "[1.0, 0.79213577626563, 0.79213577626563, 1.0]\n"
     ]
    },
    {
     "name": "stderr",
     "output_type": "stream",
     "text": [
      "C:\\Users\\STUDENT018\\AppData\\Local\\Temp\\ipykernel_18644\\3747841283.py:120: RuntimeWarning: invalid value encountered in scalar divide\n",
      "  wsim[j] = wsim[j] + (1 / ( i - k)) * np.dot(A,B)/(norm(A)*norm(B))\n",
      "C:\\Users\\STUDENT018\\AppData\\Local\\Temp\\ipykernel_18644\\3747841283.py:136: RuntimeWarning: invalid value encountered in scalar divide\n",
      "  wsim[j] = wsim[j] + (1 / ( i - k)) * np.dot(A,B)/(norm(A)*norm(B))\n",
      "C:\\Users\\STUDENT018\\AppData\\Local\\Temp\\ipykernel_18644\\3747841283.py:145: RuntimeWarning: invalid value encountered in scalar divide\n",
      "  return np.dot(A,B)/(norm(A)*norm(B))\n"
     ]
    },
    {
     "name": "stdout",
     "output_type": "stream",
     "text": [
      "[nan, nan, nan, 1.0]\n",
      "[1.0, 0.5248601422537699, 0.5248601422537699, 1.0]\n",
      "[1.0, 0.5558860730687827, 0.5558860730687827, 1.0]\n",
      "[1.0, 0.6295780905042188, 0.6295780905042188, 1.0]\n",
      "[1.0, 0.8175975037387775, 0.8175975037387775, 1.0]\n",
      "[1.0, 0.5038505579298395, 0.5038505579298395, 1.0]\n",
      "[1.0, 0.592264496389936, 0.592264496389936, 1.0]\n",
      "[1.0, 0.8007224985939438, 0.8007224985939438, 1.0]\n",
      "[1.0, 0.5527383673739226, 0.5527383673739226, 1.0]\n",
      "[1.0, 0.7586571081912694, 0.7586571081912694, 1.0]\n",
      "[1.0, 0.5012962873256153, 0.5012962873256153, 1.0]\n",
      "[1.0, 0.8049485080898242, 0.8049485080898242, 1.0]\n",
      "[1.0, 0.5085381078728931, 0.5085381078728931, 1.0]\n",
      "[1.0, 0.9152253376728609, 0.9152253376728609, 1.0]\n",
      "[1.0, 0.7581560285988072, 0.7581560285988072, 1.0]\n"
     ]
    },
    {
     "name": "stderr",
     "output_type": "stream",
     "text": [
      "C:\\Users\\STUDENT018\\AppData\\Local\\Temp\\ipykernel_18644\\3747841283.py:120: RuntimeWarning: invalid value encountered in scalar divide\n",
      "  wsim[j] = wsim[j] + (1 / ( i - k)) * np.dot(A,B)/(norm(A)*norm(B))\n",
      "C:\\Users\\STUDENT018\\AppData\\Local\\Temp\\ipykernel_18644\\3747841283.py:136: RuntimeWarning: invalid value encountered in scalar divide\n",
      "  wsim[j] = wsim[j] + (1 / ( i - k)) * np.dot(A,B)/(norm(A)*norm(B))\n",
      "C:\\Users\\STUDENT018\\AppData\\Local\\Temp\\ipykernel_18644\\3747841283.py:145: RuntimeWarning: invalid value encountered in scalar divide\n",
      "  return np.dot(A,B)/(norm(A)*norm(B))\n"
     ]
    },
    {
     "name": "stdout",
     "output_type": "stream",
     "text": [
      "[1.0, nan, nan, nan]\n",
      "[1.0, 0.7993118547134457, 0.7993118547134457, 1.0]\n"
     ]
    },
    {
     "name": "stderr",
     "output_type": "stream",
     "text": [
      "C:\\Users\\STUDENT018\\AppData\\Local\\Temp\\ipykernel_18644\\3747841283.py:120: RuntimeWarning: invalid value encountered in scalar divide\n",
      "  wsim[j] = wsim[j] + (1 / ( i - k)) * np.dot(A,B)/(norm(A)*norm(B))\n",
      "C:\\Users\\STUDENT018\\AppData\\Local\\Temp\\ipykernel_18644\\3747841283.py:136: RuntimeWarning: invalid value encountered in scalar divide\n",
      "  wsim[j] = wsim[j] + (1 / ( i - k)) * np.dot(A,B)/(norm(A)*norm(B))\n",
      "C:\\Users\\STUDENT018\\AppData\\Local\\Temp\\ipykernel_18644\\3747841283.py:145: RuntimeWarning: invalid value encountered in scalar divide\n",
      "  return np.dot(A,B)/(norm(A)*norm(B))\n"
     ]
    },
    {
     "name": "stdout",
     "output_type": "stream",
     "text": [
      "[1.0, nan, nan, nan]\n",
      "[1.0, 0.984739889479217, 0.984739889479217, 1.0]\n",
      "[1.0, 0.9906023968281361, 0.9906023968281361, 1.0]\n"
     ]
    },
    {
     "name": "stderr",
     "output_type": "stream",
     "text": [
      "C:\\Users\\STUDENT018\\AppData\\Local\\Temp\\ipykernel_18644\\3747841283.py:120: RuntimeWarning: invalid value encountered in scalar divide\n",
      "  wsim[j] = wsim[j] + (1 / ( i - k)) * np.dot(A,B)/(norm(A)*norm(B))\n",
      "C:\\Users\\STUDENT018\\AppData\\Local\\Temp\\ipykernel_18644\\3747841283.py:136: RuntimeWarning: invalid value encountered in scalar divide\n",
      "  wsim[j] = wsim[j] + (1 / ( i - k)) * np.dot(A,B)/(norm(A)*norm(B))\n",
      "C:\\Users\\STUDENT018\\AppData\\Local\\Temp\\ipykernel_18644\\3747841283.py:145: RuntimeWarning: invalid value encountered in scalar divide\n",
      "  return np.dot(A,B)/(norm(A)*norm(B))\n"
     ]
    },
    {
     "name": "stdout",
     "output_type": "stream",
     "text": [
      "[1.0, nan, nan, nan]\n",
      "[1.0, 0.7979020759302377, 0.7979020759302377, 1.0]\n",
      "[1.0, 0.7007027853767643, 0.7007027853767643, 1.0]\n",
      "[nan, nan, nan, 1.0]\n",
      "[1.0, 0.7205080457866685, 0.7205080457866685, 1.0]\n",
      "[1.0, 0.8633131920581628, 0.8633131920581628, 1.0]\n",
      "[1.0, 0.8526477909764159, 0.8526477909764159, 1.0]\n",
      "[1.0, 0.6271802221853501, 0.6271802221853501, 1.0]\n",
      "[1.0, 0.7307925843007204, 0.7307925843007204, 1.0]\n",
      "[1.0, 0.8995454955661949, 0.8995454955661949, 1.0]\n",
      "[1.0, 0.6295231109908194, 0.6295231109908194, 1.0]\n",
      "[1.0, 0.6139850150485655, 0.6139850150485655, 1.0]\n",
      "[1.0, 0.8194381594006509, 0.8194381594006509, 1.0]\n",
      "[1.0, 0.7267625048312614, 0.7267625048312614, 1.0]\n",
      "[1.0, 0.4990534111877668, 0.4990534111877668, 1.0]\n",
      "[1.0, 0.6372529293874201, 0.6372529293874201, 1.0]\n",
      "[1.0, 0.49879703934027997, 0.49879703934027997, 1.0]\n",
      "[1.0, 0.7011489732627239, 0.7011489732627239, 1.0]\n",
      "[1.0, 0.5587008570419235, 0.5587008570419235, 1.0]\n"
     ]
    },
    {
     "name": "stderr",
     "output_type": "stream",
     "text": [
      "C:\\Users\\STUDENT018\\AppData\\Local\\Temp\\ipykernel_18644\\3747841283.py:120: RuntimeWarning: invalid value encountered in scalar divide\n",
      "  wsim[j] = wsim[j] + (1 / ( i - k)) * np.dot(A,B)/(norm(A)*norm(B))\n",
      "C:\\Users\\STUDENT018\\AppData\\Local\\Temp\\ipykernel_18644\\3747841283.py:136: RuntimeWarning: invalid value encountered in scalar divide\n",
      "  wsim[j] = wsim[j] + (1 / ( i - k)) * np.dot(A,B)/(norm(A)*norm(B))\n",
      "C:\\Users\\STUDENT018\\AppData\\Local\\Temp\\ipykernel_18644\\3747841283.py:145: RuntimeWarning: invalid value encountered in scalar divide\n",
      "  return np.dot(A,B)/(norm(A)*norm(B))\n"
     ]
    },
    {
     "name": "stdout",
     "output_type": "stream",
     "text": [
      "[nan, nan, nan, 1.0]\n",
      "[1.0, 0.6899438330956624, 0.6899438330956624, 1.0]\n",
      "[1.0, 0.740317006684569, 0.740317006684569, 1.0]\n",
      "[1.0, 0.5129426339359999, 0.5129426339359999, 1.0]\n",
      "[1.0, 0.5423507052249359, 0.5423507052249359, 1.0]\n",
      "[1.0, 0.8295381403390492, 0.8295381403390492, 1.0]\n",
      "[1.0, 0.7617405299665798, 0.7617405299665798, 1.0]\n",
      "[1.0, 0.6721272161558174, 0.6721272161558174, 1.0]\n",
      "[1.0, 0.6183245199157016, 0.6183245199157016, 1.0]\n",
      "[1.0, 0.6998900797939076, 0.6998900797939076, 1.0]\n",
      "[1.0, 0.7803830291218025, 0.7803830291218025, 1.0]\n",
      "[1.0, 0.8365914833641244, 0.8365914833641244, 1.0]\n",
      "[1.0, 0.757411324967892, 0.757411324967892, 1.0]\n",
      "[1.0, 0.8380382913448444, 0.8380382913448444, 1.0]\n",
      "[1.0, 0.6412735179741937, 0.6412735179741937, 1.0]\n",
      "[1.0, 0.5268384473740433, 0.5268384473740433, 1.0]\n",
      "[1.0, 0.816461068872923, 0.816461068872923, 1.0]\n",
      "[1.0, 0.7008069656544492, 0.7008069656544492, 1.0]\n",
      "[1.0, 0.8578760756716246, 0.8578760756716246, 1.0]\n",
      "[1.0, 0.6358639748801576, 0.6358639748801576, 1.0]\n",
      "[1.0, 0.6729434166845378, 0.6729434166845378, 1.0]\n",
      "[1.0, 0.5065237384355783, 0.5065237384355783, 1.0]\n",
      "[1.0, 0.7136291602298526, 0.7136291602298526, 1.0]\n",
      "[1.0, 0.7557661364965141, 0.7557661364965141, 1.0]\n",
      "[1.0, 0.7345654139681539, 0.7345654139681539, 1.0]\n",
      "[1.0, 0.7707743184318793, 0.7707743184318793, 1.0]\n",
      "[1.0, 0.9048538473044064, 0.9048538473044064, 1.0]\n",
      "[1.0, 0.6647471160764624, 0.6647471160764624, 1.0]\n",
      "[1.0, 0.6691548305825931, 0.6691548305825931, 1.0]\n",
      "[1.0, 0.8314665216900942, 0.8314665216900942, 1.0]\n",
      "[1.0, 0.7453872885779113, 0.7453872885779113, 1.0]\n",
      "[1.0, 0.9623094274941327, 0.9623094274941327, 1.0]\n",
      "[1.0, 0.659441273721057, 0.659441273721057, 1.0]\n",
      "[1.0, 0.7470838644235209, 0.7470838644235209, 1.0]\n",
      "[1.0, 0.6507773729580155, 0.6507773729580155, 1.0]\n",
      "[1.0, 0.6599173970987796, 0.6599173970987796, 1.0]\n",
      "[1.0, 0.4994196187232794, 0.4994196187232794, 1.0]\n",
      "[1.0, 0.5387354122059121, 0.5387354122059121, 1.0]\n",
      "[1.0, 0.59577775151495, 0.59577775151495, 1.0]\n",
      "[1.0, 0.5665044208662703, 0.5665044208662703, 1.0]\n",
      "[1.0, 0.6725014298552546, 0.6725014298552546, 1.0]\n",
      "[1.0, 0.8572849233981923, 0.8572849233981923, 1.0]\n",
      "[1.0, 0.8213368469838951, 0.8213368469838951, 1.0]\n",
      "[1.0, 0.7653041035098853, 0.7653041035098853, 1.0]\n",
      "[1.0, 0.7179857925936064, 0.7179857925936064, 1.0]\n"
     ]
    },
    {
     "name": "stderr",
     "output_type": "stream",
     "text": [
      "C:\\Users\\STUDENT018\\AppData\\Local\\Temp\\ipykernel_18644\\3747841283.py:120: RuntimeWarning: invalid value encountered in scalar divide\n",
      "  wsim[j] = wsim[j] + (1 / ( i - k)) * np.dot(A,B)/(norm(A)*norm(B))\n",
      "C:\\Users\\STUDENT018\\AppData\\Local\\Temp\\ipykernel_18644\\3747841283.py:145: RuntimeWarning: invalid value encountered in scalar divide\n",
      "  return np.dot(A,B)/(norm(A)*norm(B))\n"
     ]
    },
    {
     "name": "stdout",
     "output_type": "stream",
     "text": [
      "[nan, nan, nan, 1.0]\n",
      "[1.0, 0.5713759537860305, 0.5713759537860305, 1.0]\n",
      "[1.0, 0.6966029634432902, 0.6966029634432902, 1.0]\n",
      "[1.0, 0.5384976423216928, 0.5384976423216928, 1.0]\n",
      "[nan, nan, nan, 1.0]\n",
      "[1.0, 0.8816395532654921, 0.8816395532654921, 1.0]\n",
      "[1.0, 0.6295231109908193, 0.6295231109908193, 1.0]\n"
     ]
    },
    {
     "name": "stderr",
     "output_type": "stream",
     "text": [
      "C:\\Users\\STUDENT018\\AppData\\Local\\Temp\\ipykernel_18644\\3747841283.py:120: RuntimeWarning: invalid value encountered in scalar divide\n",
      "  wsim[j] = wsim[j] + (1 / ( i - k)) * np.dot(A,B)/(norm(A)*norm(B))\n",
      "C:\\Users\\STUDENT018\\AppData\\Local\\Temp\\ipykernel_18644\\3747841283.py:136: RuntimeWarning: invalid value encountered in scalar divide\n",
      "  wsim[j] = wsim[j] + (1 / ( i - k)) * np.dot(A,B)/(norm(A)*norm(B))\n",
      "C:\\Users\\STUDENT018\\AppData\\Local\\Temp\\ipykernel_18644\\3747841283.py:145: RuntimeWarning: invalid value encountered in scalar divide\n",
      "  return np.dot(A,B)/(norm(A)*norm(B))\n"
     ]
    },
    {
     "name": "stdout",
     "output_type": "stream",
     "text": [
      "[1.0, nan, nan, nan]\n",
      "[1.0, 0.6448446661526197, 0.6448446661526197, 1.0]\n",
      "[1.0, 0.6593187627313322, 0.6593187627313322, 1.0]\n",
      "[1.0, 0.8125306720064429, 0.8125306720064429, 1.0]\n",
      "[1.0, 0.5227702217467847, 0.5227702217467847, 1.0]\n",
      "[1.0, 0.6403500970823609, 0.6403500970823609, 1.0]\n",
      "[1.0, 0.7058760164887865, 0.7058760164887865, 1.0]\n",
      "[1.0, 0.8610549135349471, 0.8610549135349471, 1.0]\n",
      "[1.0, 0.6927394155791263, 0.6927394155791263, 1.0]\n",
      "[1.0, 0.6376678573419291, 0.6376678573419291, 1.0]\n",
      "[1.0, 0.5494812203905748, 0.5494812203905748, 1.0]\n",
      "[1.0, 0.7311853436424977, 0.7311853436424977, 1.0]\n",
      "[1.0, 0.774688451268516, 0.774688451268516, 1.0]\n",
      "[1.0, 0.5019681142953138, 0.5019681142953138, 1.0]\n",
      "[1.0, 0.6688092832347368, 0.6688092832347368, 1.0]\n",
      "[1.0, 0.6456648139271725, 0.6456648139271725, 1.0]\n",
      "[1.0, 0.7668143946610153, 0.7668143946610153, 1.0]\n",
      "[1.0, 0.7596613608409346, 0.7596613608409346, 1.0]\n",
      "[1.0, 0.7517062114507462, 0.7517062114507462, 1.0]\n",
      "[1.0, 0.892074111778667, 0.892074111778667, 1.0]\n",
      "[1.0, 0.6511197666584481, 0.6511197666584481, 1.0]\n",
      "[1.0, 0.7430794270646324, 0.7430794270646324, 1.0]\n"
     ]
    },
    {
     "name": "stderr",
     "output_type": "stream",
     "text": [
      "C:\\Users\\STUDENT018\\AppData\\Local\\Temp\\ipykernel_18644\\3747841283.py:120: RuntimeWarning: invalid value encountered in scalar divide\n",
      "  wsim[j] = wsim[j] + (1 / ( i - k)) * np.dot(A,B)/(norm(A)*norm(B))\n",
      "C:\\Users\\STUDENT018\\AppData\\Local\\Temp\\ipykernel_18644\\3747841283.py:145: RuntimeWarning: invalid value encountered in scalar divide\n",
      "  return np.dot(A,B)/(norm(A)*norm(B))\n"
     ]
    },
    {
     "name": "stdout",
     "output_type": "stream",
     "text": [
      "[nan, nan, nan, 1.0]\n",
      "[1.0, 0.6473488638202273, 0.6473488638202273, 1.0]\n",
      "[1.0, 0.7293955607109552, 0.7293955607109552, 1.0]\n",
      "[1.0, 0.6505605347038057, 0.6505605347038057, 1.0]\n",
      "[1.0, 0.5031420132134098, 0.5031420132134098, 1.0]\n",
      "[1.0, 0.6480586722471733, 0.6480586722471733, 1.0]\n",
      "[1.0, 0.6187775367831381, 0.6187775367831381, 1.0]\n",
      "[1.0, 0.6259196927064499, 0.6259196927064499, 1.0]\n",
      "[1.0, 0.564448503302544, 0.564448503302544, 1.0]\n",
      "[1.0, 0.7723073537640942, 0.7723073537640942, 1.0]\n",
      "[1.0, 0.731273645873646, 0.731273645873646, 1.0]\n",
      "[1.0, 0.950260172375036, 0.950260172375036, 1.0]\n",
      "[1.0, 0.6673253201522179, 0.6673253201522179, 1.0]\n",
      "[1.0, 0.6163085861553468, 0.6163085861553468, 1.0]\n",
      "[1.0, 0.7772748887609513, 0.7772748887609513, 1.0]\n",
      "[1.0, 0.7297934806918938, 0.7297934806918938, 1.0]\n",
      "[1.0, 0.5063675852993977, 0.5063675852993977, 1.0]\n",
      "[1.0, 0.5272306735486917, 0.5272306735486917, 1.0]\n",
      "[1.0, 0.8397828541063624, 0.8397828541063624, 1.0]\n",
      "[1.0, 0.6403500970823608, 0.6403500970823608, 1.0]\n"
     ]
    },
    {
     "name": "stderr",
     "output_type": "stream",
     "text": [
      "C:\\Users\\STUDENT018\\AppData\\Local\\Temp\\ipykernel_18644\\3747841283.py:120: RuntimeWarning: invalid value encountered in scalar divide\n",
      "  wsim[j] = wsim[j] + (1 / ( i - k)) * np.dot(A,B)/(norm(A)*norm(B))\n",
      "C:\\Users\\STUDENT018\\AppData\\Local\\Temp\\ipykernel_18644\\3747841283.py:136: RuntimeWarning: invalid value encountered in scalar divide\n",
      "  wsim[j] = wsim[j] + (1 / ( i - k)) * np.dot(A,B)/(norm(A)*norm(B))\n",
      "C:\\Users\\STUDENT018\\AppData\\Local\\Temp\\ipykernel_18644\\3747841283.py:145: RuntimeWarning: invalid value encountered in scalar divide\n",
      "  return np.dot(A,B)/(norm(A)*norm(B))\n"
     ]
    },
    {
     "name": "stdout",
     "output_type": "stream",
     "text": [
      "[nan, nan, nan, nan]\n",
      "[1.0, 0.6796933202384862, 0.6796933202384862, 1.0]\n",
      "[1.0, 0.6763176557690265, 0.6763176557690265, 1.0]\n",
      "[1.0, 0.5288738264684785, 0.5288738264684785, 1.0]\n",
      "[1.0, 0.8172116153007953, 0.8172116153007953, 1.0]\n",
      "[1.0, 0.5022408172327356, 0.5022408172327356, 1.0]\n",
      "[1.0, 0.6135667102086387, 0.6135667102086387, 1.0]\n",
      "[1.0, 0.5249783308379827, 0.5249783308379827, 1.0]\n",
      "[1.0, 0.6966365830222107, 0.6966365830222107, 1.0]\n",
      "[1.0, 0.7784694481331431, 0.7784694481331431, 1.0]\n",
      "[1.0, 0.706295797150514, 0.706295797150514, 1.0]\n",
      "[1.0, 0.8274724295115877, 0.8274724295115877, 1.0]\n",
      "[1.0, 0.8164904009426609, 0.8164904009426609, 1.0]\n",
      "[1.0, 0.7033947949954883, 0.7033947949954883, 1.0]\n",
      "[1.0, 0.7108134197692911, 0.7108134197692911, 1.0]\n",
      "[1.0, 0.5222059443460654, 0.5222059443460654, 1.0]\n",
      "[1.0, 0.5501896961407428, 0.5501896961407428, 1.0]\n",
      "[1.0, 0.7008069656544491, 0.7008069656544491, 1.0]\n",
      "[1.0, 0.49439430503701803, 0.49439430503701803, 1.0]\n"
     ]
    },
    {
     "name": "stderr",
     "output_type": "stream",
     "text": [
      "C:\\Users\\STUDENT018\\AppData\\Local\\Temp\\ipykernel_18644\\3747841283.py:120: RuntimeWarning: invalid value encountered in scalar divide\n",
      "  wsim[j] = wsim[j] + (1 / ( i - k)) * np.dot(A,B)/(norm(A)*norm(B))\n",
      "C:\\Users\\STUDENT018\\AppData\\Local\\Temp\\ipykernel_18644\\3747841283.py:136: RuntimeWarning: invalid value encountered in scalar divide\n",
      "  wsim[j] = wsim[j] + (1 / ( i - k)) * np.dot(A,B)/(norm(A)*norm(B))\n",
      "C:\\Users\\STUDENT018\\AppData\\Local\\Temp\\ipykernel_18644\\3747841283.py:145: RuntimeWarning: invalid value encountered in scalar divide\n",
      "  return np.dot(A,B)/(norm(A)*norm(B))\n"
     ]
    },
    {
     "name": "stdout",
     "output_type": "stream",
     "text": [
      "[nan, nan, nan, 1.0]\n",
      "[1.0, 0.7884893270116977, 0.7884893270116977, 1.0]\n",
      "[1.0, 0.5226990968901006, 0.5226990968901006, 1.0]\n",
      "[1.0, 0.8362461484873644, 0.8362461484873644, 1.0]\n",
      "[1.0, 0.5036541792274618, 0.5036541792274618, 1.0]\n",
      "[1.0, 0.6661550006718815, 0.6661550006718815, 1.0]\n"
     ]
    },
    {
     "name": "stderr",
     "output_type": "stream",
     "text": [
      "C:\\Users\\STUDENT018\\AppData\\Local\\Temp\\ipykernel_18644\\3747841283.py:120: RuntimeWarning: invalid value encountered in scalar divide\n",
      "  wsim[j] = wsim[j] + (1 / ( i - k)) * np.dot(A,B)/(norm(A)*norm(B))\n",
      "C:\\Users\\STUDENT018\\AppData\\Local\\Temp\\ipykernel_18644\\3747841283.py:145: RuntimeWarning: invalid value encountered in scalar divide\n",
      "  return np.dot(A,B)/(norm(A)*norm(B))\n"
     ]
    },
    {
     "name": "stdout",
     "output_type": "stream",
     "text": [
      "[nan, nan, nan, 1.0]\n",
      "[1.0, 0.7372216152589334, 0.7372216152589334, 1.0]\n",
      "[1.0, 0.6562497897853428, 0.6562497897853428, 1.0]\n",
      "[1.0, 0.7977577220148071, 0.7977577220148071, 1.0]\n",
      "[1.0, 0.7544756802889121, 0.7544756802889121, 1.0]\n",
      "[1.0, 0.6865413737699048, 0.6865413737699048, 1.0]\n",
      "[1.0, 0.7713259493713199, 0.7713259493713199, 1.0]\n",
      "[1.0, 0.7923211837881354, 0.7923211837881354, 1.0]\n",
      "[1.0, 0.539942459424192, 0.539942459424192, 1.0]\n"
     ]
    },
    {
     "name": "stderr",
     "output_type": "stream",
     "text": [
      "C:\\Users\\STUDENT018\\AppData\\Local\\Temp\\ipykernel_18644\\3747841283.py:120: RuntimeWarning: invalid value encountered in scalar divide\n",
      "  wsim[j] = wsim[j] + (1 / ( i - k)) * np.dot(A,B)/(norm(A)*norm(B))\n",
      "C:\\Users\\STUDENT018\\AppData\\Local\\Temp\\ipykernel_18644\\3747841283.py:136: RuntimeWarning: invalid value encountered in scalar divide\n",
      "  wsim[j] = wsim[j] + (1 / ( i - k)) * np.dot(A,B)/(norm(A)*norm(B))\n",
      "C:\\Users\\STUDENT018\\AppData\\Local\\Temp\\ipykernel_18644\\3747841283.py:145: RuntimeWarning: invalid value encountered in scalar divide\n",
      "  return np.dot(A,B)/(norm(A)*norm(B))\n"
     ]
    },
    {
     "name": "stdout",
     "output_type": "stream",
     "text": [
      "[1.0, nan, nan, nan]\n",
      "[1.0, 0.5418135518367084, 0.5418135518367084, 1.0]\n"
     ]
    },
    {
     "name": "stderr",
     "output_type": "stream",
     "text": [
      "C:\\Users\\STUDENT018\\AppData\\Local\\Temp\\ipykernel_18644\\3747841283.py:120: RuntimeWarning: invalid value encountered in scalar divide\n",
      "  wsim[j] = wsim[j] + (1 / ( i - k)) * np.dot(A,B)/(norm(A)*norm(B))\n",
      "C:\\Users\\STUDENT018\\AppData\\Local\\Temp\\ipykernel_18644\\3747841283.py:136: RuntimeWarning: invalid value encountered in scalar divide\n",
      "  wsim[j] = wsim[j] + (1 / ( i - k)) * np.dot(A,B)/(norm(A)*norm(B))\n",
      "C:\\Users\\STUDENT018\\AppData\\Local\\Temp\\ipykernel_18644\\3747841283.py:145: RuntimeWarning: invalid value encountered in scalar divide\n",
      "  return np.dot(A,B)/(norm(A)*norm(B))\n"
     ]
    },
    {
     "name": "stdout",
     "output_type": "stream",
     "text": [
      "[nan, nan, nan, 1.0]\n",
      "[1.0, 0.7675654277861499, 0.7675654277861499, 1.0]\n",
      "[1.0, 0.9267802894429634, 0.9267802894429634, 1.0]\n",
      "[1.0, 0.6703599631935854, 0.6703599631935854, 1.0]\n",
      "[1.0, 0.6646065765263605, 0.6646065765263605, 1.0]\n",
      "[1.0, 0.7526887873949809, 0.7526887873949809, 1.0]\n",
      "[1.0, 0.7662092180170439, 0.7662092180170439, 1.0]\n",
      "[1.0, 0.7189961562392221, 0.7189961562392221, 1.0]\n",
      "[1.0, 0.7103161032510105, 0.7103161032510105, 1.0]\n",
      "[1.0, 0.669976472253737, 0.669976472253737, 1.0]\n",
      "[1.0, 0.6945317015830867, 0.6945317015830867, 1.0]\n",
      "[1.0, 0.7229017453619121, 0.7229017453619121, 1.0]\n",
      "[1.0, 0.7008069656544492, 0.7008069656544492, 1.0]\n",
      "[1.0, 0.7792223781070667, 0.7792223781070667, 1.0]\n",
      "[1.0, 0.6628908870756788, 0.6628908870756788, 1.0]\n",
      "[1.0, 0.6793676405581197, 0.6793676405581197, 1.0]\n",
      "[1.0, 0.8810776812145736, 0.8810776812145736, 1.0]\n"
     ]
    },
    {
     "name": "stderr",
     "output_type": "stream",
     "text": [
      "C:\\Users\\STUDENT018\\AppData\\Local\\Temp\\ipykernel_18644\\3747841283.py:120: RuntimeWarning: invalid value encountered in scalar divide\n",
      "  wsim[j] = wsim[j] + (1 / ( i - k)) * np.dot(A,B)/(norm(A)*norm(B))\n",
      "C:\\Users\\STUDENT018\\AppData\\Local\\Temp\\ipykernel_18644\\3747841283.py:136: RuntimeWarning: invalid value encountered in scalar divide\n",
      "  wsim[j] = wsim[j] + (1 / ( i - k)) * np.dot(A,B)/(norm(A)*norm(B))\n",
      "C:\\Users\\STUDENT018\\AppData\\Local\\Temp\\ipykernel_18644\\3747841283.py:145: RuntimeWarning: invalid value encountered in scalar divide\n",
      "  return np.dot(A,B)/(norm(A)*norm(B))\n"
     ]
    },
    {
     "name": "stdout",
     "output_type": "stream",
     "text": [
      "[1.0, nan, nan, nan]\n",
      "[1.0, 0.5204586109626732, 0.5204586109626732, 1.0]\n",
      "[1.0, 0.7471848942753957, 0.7471848942753957, 1.0]\n",
      "[1.0, 0.9894678875278363, 0.9894678875278363, 1.0]\n",
      "[1.0, 0.6446671879133784, 0.6446671879133784, 1.0]\n",
      "[1.0, 0.8987761817107183, 0.8987761817107183, 1.0]\n",
      "[1.0, 0.6199184628018395, 0.6199184628018395, 1.0]\n",
      "[1.0, 0.5346134084009864, 0.5346134084009864, 1.0]\n",
      "[1.0, 0.7444965599342718, 0.7444965599342718, 1.0]\n",
      "[1.0, 0.6258446209085493, 0.6258446209085493, 1.0]\n",
      "[1.0, 0.5073094593917115, 0.5073094593917115, 1.0]\n",
      "[1.0, 0.8935636719735174, 0.8935636719735174, 1.0]\n",
      "[1.0, 0.9835573050853973, 0.9835573050853973, 1.0]\n",
      "[1.0, 0.7267166476634932, 0.7267166476634932, 1.0]\n",
      "[1.0, 0.737855609298562, 0.737855609298562, 1.0]\n",
      "[1.0, 0.9555095351429668, 0.9555095351429668, 1.0]\n",
      "[1.0, 0.7279330640778388, 0.7279330640778388, 1.0]\n",
      "[1.0, 0.6423106237720755, 0.6423106237720755, 1.0]\n",
      "[1.0, 0.6135667102086387, 0.6135667102086387, 1.0]\n",
      "[1.0, 0.5641174847920222, 0.5641174847920222, 1.0]\n",
      "[1.0, 0.7534776406643663, 0.7534776406643663, 1.0]\n",
      "[1.0, 0.7679372884583426, 0.7679372884583426, 1.0]\n",
      "[1.0, 0.7327391153802592, 0.7327391153802592, 1.0]\n",
      "[1.0, 0.5188537884377832, 0.5188537884377832, 1.0]\n",
      "[1.0, 0.8384152940654619, 0.8384152940654619, 1.0]\n",
      "[1.0, 0.7111509192149471, 0.7111509192149471, 1.0]\n",
      "[1.0, 0.7594741382324516, 0.7594741382324516, 1.0]\n",
      "[1.0, 0.7039769304313999, 0.7039769304313999, 1.0]\n",
      "[1.0, 0.6533155799334056, 0.6533155799334056, 1.0]\n"
     ]
    },
    {
     "name": "stderr",
     "output_type": "stream",
     "text": [
      "C:\\Users\\STUDENT018\\AppData\\Local\\Temp\\ipykernel_18644\\3747841283.py:120: RuntimeWarning: invalid value encountered in scalar divide\n",
      "  wsim[j] = wsim[j] + (1 / ( i - k)) * np.dot(A,B)/(norm(A)*norm(B))\n",
      "C:\\Users\\STUDENT018\\AppData\\Local\\Temp\\ipykernel_18644\\3747841283.py:136: RuntimeWarning: invalid value encountered in scalar divide\n",
      "  wsim[j] = wsim[j] + (1 / ( i - k)) * np.dot(A,B)/(norm(A)*norm(B))\n",
      "C:\\Users\\STUDENT018\\AppData\\Local\\Temp\\ipykernel_18644\\3747841283.py:145: RuntimeWarning: invalid value encountered in scalar divide\n",
      "  return np.dot(A,B)/(norm(A)*norm(B))\n"
     ]
    },
    {
     "name": "stdout",
     "output_type": "stream",
     "text": [
      "[nan, nan, nan, 1.0]\n",
      "[1.0, 0.7023434788627237, 0.7023434788627237, 1.0]\n",
      "[1.0, 0.8538590846061052, 0.8538590846061052, 1.0]\n",
      "[1.0, 0.9552613692875233, 0.9552613692875233, 1.0]\n"
     ]
    },
    {
     "name": "stderr",
     "output_type": "stream",
     "text": [
      "C:\\Users\\STUDENT018\\AppData\\Local\\Temp\\ipykernel_18644\\3747841283.py:120: RuntimeWarning: invalid value encountered in scalar divide\n",
      "  wsim[j] = wsim[j] + (1 / ( i - k)) * np.dot(A,B)/(norm(A)*norm(B))\n",
      "C:\\Users\\STUDENT018\\AppData\\Local\\Temp\\ipykernel_18644\\3747841283.py:136: RuntimeWarning: invalid value encountered in scalar divide\n",
      "  wsim[j] = wsim[j] + (1 / ( i - k)) * np.dot(A,B)/(norm(A)*norm(B))\n",
      "C:\\Users\\STUDENT018\\AppData\\Local\\Temp\\ipykernel_18644\\3747841283.py:145: RuntimeWarning: invalid value encountered in scalar divide\n",
      "  return np.dot(A,B)/(norm(A)*norm(B))\n"
     ]
    },
    {
     "name": "stdout",
     "output_type": "stream",
     "text": [
      "[1.0, nan, nan, nan]\n",
      "[1.0, 0.6452169553870001, 0.6452169553870001, 1.0]\n",
      "[1.0, 0.8074318788266105, 0.8074318788266105, 1.0]\n",
      "[1.0, 0.5348975254356729, 0.5348975254356729, 1.0]\n",
      "[1.0, 0.6639904652060047, 0.6639904652060047, 1.0]\n",
      "[1.0, 0.6679655186941594, 0.6679655186941594, 1.0]\n",
      "[1.0, 0.7530017193388002, 0.7530017193388002, 1.0]\n",
      "[1.0, 0.6731529127944491, 0.6731529127944491, 1.0]\n",
      "[1.0, 0.5420558462459822, 0.5420558462459822, 1.0]\n",
      "[1.0, 0.7674220507294498, 0.7674220507294498, 1.0]\n"
     ]
    },
    {
     "name": "stderr",
     "output_type": "stream",
     "text": [
      "C:\\Users\\STUDENT018\\AppData\\Local\\Temp\\ipykernel_18644\\3747841283.py:120: RuntimeWarning: invalid value encountered in scalar divide\n",
      "  wsim[j] = wsim[j] + (1 / ( i - k)) * np.dot(A,B)/(norm(A)*norm(B))\n",
      "C:\\Users\\STUDENT018\\AppData\\Local\\Temp\\ipykernel_18644\\3747841283.py:136: RuntimeWarning: invalid value encountered in scalar divide\n",
      "  wsim[j] = wsim[j] + (1 / ( i - k)) * np.dot(A,B)/(norm(A)*norm(B))\n",
      "C:\\Users\\STUDENT018\\AppData\\Local\\Temp\\ipykernel_18644\\3747841283.py:145: RuntimeWarning: invalid value encountered in scalar divide\n",
      "  return np.dot(A,B)/(norm(A)*norm(B))\n"
     ]
    },
    {
     "name": "stdout",
     "output_type": "stream",
     "text": [
      "[nan, nan, nan, 1.0]\n",
      "[1.0, 0.7512591176915406, 0.7512591176915406, 1.0]\n",
      "[1.0, 0.7894688783274136, 0.7894688783274136, 1.0]\n",
      "[1.0, 0.9258055594043487, 0.9258055594043487, 1.0]\n",
      "[1.0, 0.7805152429496287, 0.7805152429496287, 1.0]\n",
      "[1.0, 0.7540760439612937, 0.7540760439612937, 1.0]\n",
      "[1.0, 0.6436295803798582, 0.6436295803798582, 1.0]\n",
      "[1.0, 0.7295624681076084, 0.7295624681076084, 1.0]\n",
      "[1.0, 0.7639884271401062, 0.7639884271401062, 1.0]\n",
      "[1.0, 0.6490624999949942, 0.6490624999949942, 1.0]\n",
      "[1.0, 0.5096599564671315, 0.5096599564671315, 1.0]\n",
      "[1.0, 0.6557070235693322, 0.6557070235693322, 1.0]\n",
      "[1.0, 0.9288865277731522, 0.9288865277731522, 1.0]\n",
      "[1.0, 0.866884035453971, 0.866884035453971, 1.0]\n",
      "[1.0, 0.716600782855357, 0.716600782855357, 1.0]\n",
      "[1.0, 0.7108290373204542, 0.7108290373204542, 1.0]\n",
      "[1.0, 0.8051165853023113, 0.8051165853023113, 1.0]\n",
      "[1.0, 0.7845500794638116, 0.7845500794638116, 1.0]\n",
      "[1.0, 0.9774668930278684, 0.9774668930278684, 1.0]\n",
      "[1.0, 0.5686918936336521, 0.5686918936336521, 1.0]\n"
     ]
    },
    {
     "name": "stderr",
     "output_type": "stream",
     "text": [
      "C:\\Users\\STUDENT018\\AppData\\Local\\Temp\\ipykernel_18644\\3747841283.py:120: RuntimeWarning: invalid value encountered in scalar divide\n",
      "  wsim[j] = wsim[j] + (1 / ( i - k)) * np.dot(A,B)/(norm(A)*norm(B))\n",
      "C:\\Users\\STUDENT018\\AppData\\Local\\Temp\\ipykernel_18644\\3747841283.py:136: RuntimeWarning: invalid value encountered in scalar divide\n",
      "  wsim[j] = wsim[j] + (1 / ( i - k)) * np.dot(A,B)/(norm(A)*norm(B))\n",
      "C:\\Users\\STUDENT018\\AppData\\Local\\Temp\\ipykernel_18644\\3747841283.py:145: RuntimeWarning: invalid value encountered in scalar divide\n",
      "  return np.dot(A,B)/(norm(A)*norm(B))\n"
     ]
    },
    {
     "name": "stdout",
     "output_type": "stream",
     "text": [
      "[nan, nan, nan, 1.0]\n",
      "[1.0, 0.5024378067515749, 0.5024378067515749, 1.0]\n",
      "[1.0, 0.500945941746482, 0.500945941746482, 1.0]\n",
      "[1.0, 0.9252843941598836, 0.9252843941598836, 1.0]\n",
      "[1.0, 0.7006453239245439, 0.7006453239245439, 1.0]\n",
      "[1.0, 0.7176130431830098, 0.7176130431830098, 1.0]\n",
      "[1.0, 0.5383862916878434, 0.5383862916878434, 1.0]\n",
      "[1.0, 0.7438571276327176, 0.7438571276327176, 1.0]\n"
     ]
    },
    {
     "name": "stderr",
     "output_type": "stream",
     "text": [
      "C:\\Users\\STUDENT018\\AppData\\Local\\Temp\\ipykernel_18644\\3747841283.py:120: RuntimeWarning: invalid value encountered in scalar divide\n",
      "  wsim[j] = wsim[j] + (1 / ( i - k)) * np.dot(A,B)/(norm(A)*norm(B))\n",
      "C:\\Users\\STUDENT018\\AppData\\Local\\Temp\\ipykernel_18644\\3747841283.py:136: RuntimeWarning: invalid value encountered in scalar divide\n",
      "  wsim[j] = wsim[j] + (1 / ( i - k)) * np.dot(A,B)/(norm(A)*norm(B))\n",
      "C:\\Users\\STUDENT018\\AppData\\Local\\Temp\\ipykernel_18644\\3747841283.py:145: RuntimeWarning: invalid value encountered in scalar divide\n",
      "  return np.dot(A,B)/(norm(A)*norm(B))\n"
     ]
    },
    {
     "name": "stdout",
     "output_type": "stream",
     "text": [
      "[nan, nan, nan, 1.0]\n",
      "[1.0, 0.5582695755530908, 0.5582695755530908, 1.0]\n",
      "[1.0, 0.7683927080502302, 0.7683927080502302, 1.0]\n",
      "[1.0, 0.500261504088959, 0.500261504088959, 1.0]\n",
      "[1.0, 0.9182154749398415, 0.9182154749398415, 1.0]\n",
      "[1.0, 0.4943943050370179, 0.4943943050370179, 1.0]\n",
      "[1.0, 0.794171529528185, 0.794171529528185, 1.0]\n",
      "[1.0, 0.5648515235855306, 0.5648515235855306, 1.0]\n",
      "[1.0, 0.8683980822798082, 0.8683980822798082, 1.0]\n",
      "[1.0, 0.5668040423860521, 0.5668040423860521, 1.0]\n",
      "[1.0, 0.9251899162358388, 0.9251899162358388, 1.0]\n",
      "[1.0, 0.49439430503701826, 0.49439430503701826, 1.0]\n",
      "[1.0, 0.742823751592565, 0.742823751592565, 1.0]\n",
      "[1.0, 0.8524355588484961, 0.8524355588484961, 1.0]\n",
      "[1.0, 0.8323346759381275, 0.8323346759381275, 1.0]\n",
      "[1.0, 0.6738907355290583, 0.6738907355290583, 1.0]\n",
      "[1.0, 0.7742677275559218, 0.7742677275559218, 1.0]\n",
      "[1.0, 0.7996050085644566, 0.7996050085644566, 1.0]\n",
      "[1.0, 0.7891165618198607, 0.7891165618198607, 1.0]\n",
      "[1.0, 0.7303294195576417, 0.7303294195576417, 1.0]\n",
      "[1.0, 0.6920889145174822, 0.6920889145174822, 1.0]\n",
      "[1.0, 0.6484789942314599, 0.6484789942314599, 1.0]\n",
      "[1.0, 0.7150587211292677, 0.7150587211292677, 1.0]\n",
      "[1.0, 0.5045008401867705, 0.5045008401867705, 1.0]\n",
      "[1.0, 0.6915556403383591, 0.6915556403383591, 1.0]\n",
      "[1.0, 0.7599914187979022, 0.7599914187979022, 1.0]\n",
      "[1.0, 0.696685530710255, 0.696685530710255, 1.0]\n",
      "[1.0, 0.6453378701279047, 0.6453378701279047, 1.0]\n",
      "[1.0, 0.838722692977503, 0.838722692977503, 1.0]\n",
      "[1.0, 0.7048574290293136, 0.7048574290293136, 1.0]\n",
      "[1.0, 0.9310909340916663, 0.9310909340916663, 1.0]\n",
      "[1.0, 0.5772856531478996, 0.5772856531478996, 1.0]\n",
      "[1.0, 0.5111629451290751, 0.5111629451290751, 1.0]\n",
      "[1.0, 0.5107474777108101, 0.5107474777108101, 1.0]\n",
      "[1.0, 0.5144865853469415, 0.5144865853469415, 1.0]\n",
      "[1.0, 0.7250228539741587, 0.7250228539741587, 1.0]\n",
      "[1.0, 0.6234153484281193, 0.6234153484281193, 1.0]\n",
      "[1.0, 0.7367414467238631, 0.7367414467238631, 1.0]\n",
      "[1.0, 0.7249726424880576, 0.7249726424880576, 1.0]\n",
      "[1.0, 0.6712452892314945, 0.6712452892314945, 1.0]\n",
      "[1.0, 0.5255818947858146, 0.5255818947858146, 1.0]\n",
      "[1.0, 0.5184880040296976, 0.5184880040296976, 1.0]\n",
      "[1.0, 0.5133565757648966, 0.5133565757648966, 1.0]\n",
      "[1.0, 0.9888903768463648, 0.9888903768463648, 1.0]\n",
      "[1.0, 0.5224176499931256, 0.5224176499931256, 1.0]\n",
      "[1.0, 0.5240290798891607, 0.5240290798891607, 1.0]\n",
      "[1.0, 0.714391371332316, 0.714391371332316, 1.0]\n",
      "[1.0, 0.6697003709137873, 0.6697003709137873, 1.0]\n",
      "[1.0, 0.5063503777327815, 0.5063503777327815, 1.0]\n",
      "[1.0, 0.724661651163049, 0.724661651163049, 1.0]\n",
      "[1.0, 0.7230318762875683, 0.7230318762875683, 1.0]\n",
      "[1.0, 0.8455589491232116, 0.8455589491232116, 1.0]\n",
      "[1.0, 0.6885698147595312, 0.6885698147595312, 1.0]\n",
      "[1.0, 0.7518908534330132, 0.7518908534330132, 1.0]\n",
      "[1.0, 0.7358046529262268, 0.7358046529262268, 1.0]\n",
      "[1.0, 0.8316344076918167, 0.8316344076918167, 1.0]\n",
      "[1.0, 0.9011412544639013, 0.9011412544639013, 1.0]\n",
      "[1.0, 0.8209799658192855, 0.8209799658192855, 1.0]\n",
      "[1.0, 0.6475525745237307, 0.6475525745237307, 1.0]\n",
      "[1.0, 0.7899477422104679, 0.7899477422104679, 1.0]\n",
      "[1.0, 0.5002212821660512, 0.5002212821660512, 1.0]\n",
      "[1.0, 0.9943651951920593, 0.9943651951920593, 1.0]\n",
      "[1.0, 0.5460561383235119, 0.5460561383235119, 1.0]\n",
      "[1.0, 0.6522733839063247, 0.6522733839063247, 1.0]\n",
      "[1.0, 0.7478953011787269, 0.7478953011787269, 1.0]\n",
      "[1.0, 0.7785584820905319, 0.7785584820905319, 1.0]\n",
      "[1.0, 0.9871124921589117, 0.9871124921589117, 1.0]\n",
      "[1.0, 0.7840043281095208, 0.7840043281095208, 1.0]\n",
      "[nan, nan, nan, 1.0]\n",
      "[1.0, 0.6926215853306111, 0.6926215853306111, 1.0]\n",
      "[1.0, 0.6977285677027071, 0.6977285677027071, 1.0]\n",
      "[1.0, 0.7433116732740292, 0.7433116732740292, 1.0]\n",
      "[1.0, 0.7193123154117678, 0.7193123154117678, 1.0]\n",
      "[1.0, 0.9273004972078196, 0.9273004972078196, 1.0]\n"
     ]
    },
    {
     "name": "stderr",
     "output_type": "stream",
     "text": [
      "C:\\Users\\STUDENT018\\AppData\\Local\\Temp\\ipykernel_18644\\3747841283.py:120: RuntimeWarning: invalid value encountered in scalar divide\n",
      "  wsim[j] = wsim[j] + (1 / ( i - k)) * np.dot(A,B)/(norm(A)*norm(B))\n",
      "C:\\Users\\STUDENT018\\AppData\\Local\\Temp\\ipykernel_18644\\3747841283.py:145: RuntimeWarning: invalid value encountered in scalar divide\n",
      "  return np.dot(A,B)/(norm(A)*norm(B))\n"
     ]
    },
    {
     "name": "stdout",
     "output_type": "stream",
     "text": [
      "[nan, nan, nan, 1.0]\n",
      "[1.0, 0.8671697704776353, 0.8671697704776353, 1.0]\n",
      "[1.0, 0.7260639215943574, 0.7260639215943574, 1.0]\n",
      "[1.0, 0.7482342874332187, 0.7482342874332187, 1.0]\n",
      "[1.0, 0.6961803871044385, 0.6961803871044385, 1.0]\n",
      "[1.0, 0.6970406084108202, 0.6970406084108202, 1.0]\n",
      "[1.0, 0.7337314407007377, 0.7337314407007377, 1.0]\n"
     ]
    },
    {
     "name": "stderr",
     "output_type": "stream",
     "text": [
      "C:\\Users\\STUDENT018\\AppData\\Local\\Temp\\ipykernel_18644\\3747841283.py:120: RuntimeWarning: invalid value encountered in scalar divide\n",
      "  wsim[j] = wsim[j] + (1 / ( i - k)) * np.dot(A,B)/(norm(A)*norm(B))\n",
      "C:\\Users\\STUDENT018\\AppData\\Local\\Temp\\ipykernel_18644\\3747841283.py:136: RuntimeWarning: invalid value encountered in scalar divide\n",
      "  wsim[j] = wsim[j] + (1 / ( i - k)) * np.dot(A,B)/(norm(A)*norm(B))\n",
      "C:\\Users\\STUDENT018\\AppData\\Local\\Temp\\ipykernel_18644\\3747841283.py:145: RuntimeWarning: invalid value encountered in scalar divide\n",
      "  return np.dot(A,B)/(norm(A)*norm(B))\n"
     ]
    },
    {
     "name": "stdout",
     "output_type": "stream",
     "text": [
      "[1.0, nan, nan, nan]\n"
     ]
    },
    {
     "name": "stderr",
     "output_type": "stream",
     "text": [
      "C:\\Users\\STUDENT018\\AppData\\Local\\Temp\\ipykernel_18644\\3747841283.py:120: RuntimeWarning: invalid value encountered in scalar divide\n",
      "  wsim[j] = wsim[j] + (1 / ( i - k)) * np.dot(A,B)/(norm(A)*norm(B))\n",
      "C:\\Users\\STUDENT018\\AppData\\Local\\Temp\\ipykernel_18644\\3747841283.py:136: RuntimeWarning: invalid value encountered in scalar divide\n",
      "  wsim[j] = wsim[j] + (1 / ( i - k)) * np.dot(A,B)/(norm(A)*norm(B))\n",
      "C:\\Users\\STUDENT018\\AppData\\Local\\Temp\\ipykernel_18644\\3747841283.py:145: RuntimeWarning: invalid value encountered in scalar divide\n",
      "  return np.dot(A,B)/(norm(A)*norm(B))\n"
     ]
    },
    {
     "name": "stdout",
     "output_type": "stream",
     "text": [
      "[1.0, nan, nan, nan]\n",
      "[1.0, 0.5274866789185372, 0.5274866789185372, 1.0]\n",
      "[1.0, 0.614796496159993, 0.614796496159993, 1.0]\n",
      "[1.0, 0.5426634477798788, 0.5426634477798788, 1.0]\n",
      "[1.0, 0.49900556608085966, 0.49900556608085966, 1.0]\n",
      "[1.0, 0.7415353336641559, 0.7415353336641559, 1.0]\n",
      "[1.0, 0.6266067028492371, 0.6266067028492371, 1.0]\n"
     ]
    },
    {
     "name": "stderr",
     "output_type": "stream",
     "text": [
      "C:\\Users\\STUDENT018\\AppData\\Local\\Temp\\ipykernel_18644\\3747841283.py:120: RuntimeWarning: invalid value encountered in scalar divide\n",
      "  wsim[j] = wsim[j] + (1 / ( i - k)) * np.dot(A,B)/(norm(A)*norm(B))\n",
      "C:\\Users\\STUDENT018\\AppData\\Local\\Temp\\ipykernel_18644\\3747841283.py:136: RuntimeWarning: invalid value encountered in scalar divide\n",
      "  wsim[j] = wsim[j] + (1 / ( i - k)) * np.dot(A,B)/(norm(A)*norm(B))\n",
      "C:\\Users\\STUDENT018\\AppData\\Local\\Temp\\ipykernel_18644\\3747841283.py:145: RuntimeWarning: invalid value encountered in scalar divide\n",
      "  return np.dot(A,B)/(norm(A)*norm(B))\n"
     ]
    },
    {
     "name": "stdout",
     "output_type": "stream",
     "text": [
      "[1.0, nan, nan, nan]\n"
     ]
    },
    {
     "name": "stderr",
     "output_type": "stream",
     "text": [
      "C:\\Users\\STUDENT018\\AppData\\Local\\Temp\\ipykernel_18644\\3747841283.py:120: RuntimeWarning: invalid value encountered in scalar divide\n",
      "  wsim[j] = wsim[j] + (1 / ( i - k)) * np.dot(A,B)/(norm(A)*norm(B))\n",
      "C:\\Users\\STUDENT018\\AppData\\Local\\Temp\\ipykernel_18644\\3747841283.py:136: RuntimeWarning: invalid value encountered in scalar divide\n",
      "  wsim[j] = wsim[j] + (1 / ( i - k)) * np.dot(A,B)/(norm(A)*norm(B))\n",
      "C:\\Users\\STUDENT018\\AppData\\Local\\Temp\\ipykernel_18644\\3747841283.py:145: RuntimeWarning: invalid value encountered in scalar divide\n",
      "  return np.dot(A,B)/(norm(A)*norm(B))\n"
     ]
    },
    {
     "name": "stdout",
     "output_type": "stream",
     "text": [
      "[nan, nan, nan, 1.0]\n",
      "[1.0, 0.6875181724028857, 0.6875181724028857, 1.0]\n",
      "[1.0, 0.7860732324573289, 0.7860732324573289, 1.0]\n",
      "[1.0, 0.5394918700363512, 0.5394918700363512, 1.0]\n",
      "[1.0, 0.49439430503701803, 0.49439430503701803, 1.0]\n",
      "[1.0, 0.7349190944998525, 0.7349190944998525, 1.0]\n",
      "[1.0, 0.7539598293718899, 0.7539598293718899, 1.0]\n",
      "[1.0, 0.826730691419329, 0.826730691419329, 1.0]\n",
      "[1.0, 0.9641318816414453, 0.9641318816414453, 1.0]\n",
      "[1.0, 0.9457325799892993, 0.9457325799892993, 1.0]\n",
      "[1.0, 0.5482781967579915, 0.5482781967579915, 1.0]\n",
      "[1.0, 0.6851438855037534, 0.6851438855037534, 1.0]\n",
      "[1.0, 0.5077417150592558, 0.5077417150592558, 1.0]\n",
      "[1.0, 0.5755987116099133, 0.5755987116099133, 1.0]\n",
      "[1.0, 0.6635426733009175, 0.6635426733009175, 1.0]\n",
      "[1.0, 0.7260721234644506, 0.7260721234644506, 1.0]\n"
     ]
    },
    {
     "name": "stderr",
     "output_type": "stream",
     "text": [
      "C:\\Users\\STUDENT018\\AppData\\Local\\Temp\\ipykernel_18644\\3747841283.py:120: RuntimeWarning: invalid value encountered in scalar divide\n",
      "  wsim[j] = wsim[j] + (1 / ( i - k)) * np.dot(A,B)/(norm(A)*norm(B))\n",
      "C:\\Users\\STUDENT018\\AppData\\Local\\Temp\\ipykernel_18644\\3747841283.py:145: RuntimeWarning: invalid value encountered in scalar divide\n",
      "  return np.dot(A,B)/(norm(A)*norm(B))\n"
     ]
    },
    {
     "name": "stdout",
     "output_type": "stream",
     "text": [
      "[nan, nan, nan, 1.0]\n",
      "[1.0, 0.873053486986687, 0.873053486986687, 1.0]\n",
      "[1.0, 0.726556500929519, 0.726556500929519, 1.0]\n",
      "[1.0, 0.7468354222012726, 0.7468354222012726, 1.0]\n",
      "[1.0, 0.7048074175825261, 0.7048074175825261, 1.0]\n",
      "[1.0, 0.8387016710290639, 0.8387016710290639, 1.0]\n",
      "[1.0, 0.7669381252354329, 0.7669381252354329, 1.0]\n",
      "[1.0, 0.5133314034518185, 0.5133314034518185, 1.0]\n",
      "[1.0, 0.6910429010269254, 0.6910429010269254, 1.0]\n",
      "[1.0, 0.6521336579768883, 0.6521336579768883, 1.0]\n",
      "[1.0, 0.7424345500286218, 0.7424345500286218, 1.0]\n",
      "[1.0, 0.9182983808858615, 0.9182983808858615, 1.0]\n",
      "[1.0, 0.7250184774146954, 0.7250184774146954, 1.0]\n",
      "[1.0, 0.8464170831241016, 0.8464170831241016, 1.0]\n",
      "[1.0, 0.7482148314517225, 0.7482148314517225, 1.0]\n",
      "[1.0, 0.6729244109368231, 0.6729244109368231, 1.0]\n",
      "[1.0, 0.6495481395581533, 0.6495481395581533, 1.0]\n",
      "[1.0, 0.9004838466530672, 0.9004838466530672, 1.0]\n"
     ]
    },
    {
     "name": "stderr",
     "output_type": "stream",
     "text": [
      "C:\\Users\\STUDENT018\\AppData\\Local\\Temp\\ipykernel_18644\\3747841283.py:120: RuntimeWarning: invalid value encountered in scalar divide\n",
      "  wsim[j] = wsim[j] + (1 / ( i - k)) * np.dot(A,B)/(norm(A)*norm(B))\n",
      "C:\\Users\\STUDENT018\\AppData\\Local\\Temp\\ipykernel_18644\\3747841283.py:136: RuntimeWarning: invalid value encountered in scalar divide\n",
      "  wsim[j] = wsim[j] + (1 / ( i - k)) * np.dot(A,B)/(norm(A)*norm(B))\n",
      "C:\\Users\\STUDENT018\\AppData\\Local\\Temp\\ipykernel_18644\\3747841283.py:145: RuntimeWarning: invalid value encountered in scalar divide\n",
      "  return np.dot(A,B)/(norm(A)*norm(B))\n"
     ]
    },
    {
     "name": "stdout",
     "output_type": "stream",
     "text": [
      "[nan, nan, nan, nan]\n",
      "[1.0, 0.6646952943560059, 0.6646952943560059, 1.0]\n",
      "[1.0, 0.6482576780384302, 0.6482576780384302, 1.0]\n",
      "[1.0, 0.7624855924054181, 0.7624855924054181, 1.0]\n",
      "[1.0, 0.6518776850461929, 0.6518776850461929, 1.0]\n",
      "[1.0, 0.4943943050370179, 0.4943943050370179, 1.0]\n",
      "[1.0, 0.7654883523659489, 0.7654883523659489, 1.0]\n",
      "[1.0, 0.6521380551549488, 0.6521380551549488, 1.0]\n",
      "[1.0, 0.5923794711197415, 0.5923794711197415, 1.0]\n",
      "[1.0, 0.7393028325646873, 0.7393028325646873, 1.0]\n",
      "[1.0, 0.6790194001004006, 0.6790194001004006, 1.0]\n"
     ]
    },
    {
     "name": "stderr",
     "output_type": "stream",
     "text": [
      "C:\\Users\\STUDENT018\\AppData\\Local\\Temp\\ipykernel_18644\\3747841283.py:120: RuntimeWarning: invalid value encountered in scalar divide\n",
      "  wsim[j] = wsim[j] + (1 / ( i - k)) * np.dot(A,B)/(norm(A)*norm(B))\n",
      "C:\\Users\\STUDENT018\\AppData\\Local\\Temp\\ipykernel_18644\\3747841283.py:136: RuntimeWarning: invalid value encountered in scalar divide\n",
      "  wsim[j] = wsim[j] + (1 / ( i - k)) * np.dot(A,B)/(norm(A)*norm(B))\n",
      "C:\\Users\\STUDENT018\\AppData\\Local\\Temp\\ipykernel_18644\\3747841283.py:145: RuntimeWarning: invalid value encountered in scalar divide\n",
      "  return np.dot(A,B)/(norm(A)*norm(B))\n"
     ]
    },
    {
     "name": "stdout",
     "output_type": "stream",
     "text": [
      "[nan, nan, nan, 1.0]\n",
      "[1.0, 0.5048435787049488, 0.5048435787049488, 1.0]\n",
      "[1.0, 0.6229348337692723, 0.6229348337692723, 1.0]\n"
     ]
    },
    {
     "name": "stderr",
     "output_type": "stream",
     "text": [
      "C:\\Users\\STUDENT018\\AppData\\Local\\Temp\\ipykernel_18644\\3747841283.py:120: RuntimeWarning: invalid value encountered in scalar divide\n",
      "  wsim[j] = wsim[j] + (1 / ( i - k)) * np.dot(A,B)/(norm(A)*norm(B))\n",
      "C:\\Users\\STUDENT018\\AppData\\Local\\Temp\\ipykernel_18644\\3747841283.py:136: RuntimeWarning: invalid value encountered in scalar divide\n",
      "  wsim[j] = wsim[j] + (1 / ( i - k)) * np.dot(A,B)/(norm(A)*norm(B))\n",
      "C:\\Users\\STUDENT018\\AppData\\Local\\Temp\\ipykernel_18644\\3747841283.py:145: RuntimeWarning: invalid value encountered in scalar divide\n",
      "  return np.dot(A,B)/(norm(A)*norm(B))\n"
     ]
    },
    {
     "name": "stdout",
     "output_type": "stream",
     "text": [
      "[nan, nan, nan, 1.0]\n",
      "[1.0, 0.7231609202162402, 0.7231609202162402, 1.0]\n",
      "[1.0, 0.6840117472591287, 0.6840117472591287, 1.0]\n",
      "[1.0, 0.8405766463323523, 0.8405766463323523, 1.0]\n",
      "[1.0, 0.6167621729261358, 0.6167621729261358, 1.0]\n",
      "[1.0, 0.5913671121520182, 0.5913671121520182, 1.0]\n",
      "[1.0, 0.7739567039776526, 0.7739567039776526, 1.0]\n",
      "[1.0, 0.6519138293242881, 0.6519138293242881, 1.0]\n",
      "[1.0, 0.9124271581062536, 0.9124271581062536, 1.0]\n",
      "[1.0, 0.7243522121461173, 0.7243522121461173, 1.0]\n",
      "[1.0, 0.8386801724773559, 0.8386801724773559, 1.0]\n",
      "[1.0, 0.8130955453119268, 0.8130955453119268, 1.0]\n"
     ]
    },
    {
     "name": "stderr",
     "output_type": "stream",
     "text": [
      "C:\\Users\\STUDENT018\\AppData\\Local\\Temp\\ipykernel_18644\\3747841283.py:120: RuntimeWarning: invalid value encountered in scalar divide\n",
      "  wsim[j] = wsim[j] + (1 / ( i - k)) * np.dot(A,B)/(norm(A)*norm(B))\n",
      "C:\\Users\\STUDENT018\\AppData\\Local\\Temp\\ipykernel_18644\\3747841283.py:145: RuntimeWarning: invalid value encountered in scalar divide\n",
      "  return np.dot(A,B)/(norm(A)*norm(B))\n"
     ]
    },
    {
     "name": "stdout",
     "output_type": "stream",
     "text": [
      "[nan, nan, nan, 1.0]\n"
     ]
    },
    {
     "name": "stderr",
     "output_type": "stream",
     "text": [
      "C:\\Users\\STUDENT018\\AppData\\Local\\Temp\\ipykernel_18644\\3747841283.py:120: RuntimeWarning: invalid value encountered in scalar divide\n",
      "  wsim[j] = wsim[j] + (1 / ( i - k)) * np.dot(A,B)/(norm(A)*norm(B))\n",
      "C:\\Users\\STUDENT018\\AppData\\Local\\Temp\\ipykernel_18644\\3747841283.py:136: RuntimeWarning: invalid value encountered in scalar divide\n",
      "  wsim[j] = wsim[j] + (1 / ( i - k)) * np.dot(A,B)/(norm(A)*norm(B))\n",
      "C:\\Users\\STUDENT018\\AppData\\Local\\Temp\\ipykernel_18644\\3747841283.py:145: RuntimeWarning: invalid value encountered in scalar divide\n",
      "  return np.dot(A,B)/(norm(A)*norm(B))\n"
     ]
    },
    {
     "name": "stdout",
     "output_type": "stream",
     "text": [
      "[nan, nan, nan, 1.0]\n",
      "[1.0, 0.925843689746214, 0.925843689746214, 1.0]\n",
      "[1.0, 0.6439565711940701, 0.6439565711940701, 1.0]\n",
      "[1.0, 0.5695642399098457, 0.5695642399098457, 1.0]\n",
      "[1.0, 0.810039084915436, 0.810039084915436, 1.0]\n",
      "[1.0, 0.6966365830222107, 0.6966365830222107, 1.0]\n",
      "[1.0, 0.9115076290361331, 0.9115076290361331, 1.0]\n",
      "[1.0, 0.7137360718684895, 0.7137360718684895, 1.0]\n",
      "[1.0, 0.8105338100217229, 0.8105338100217229, 1.0]\n",
      "[1.0, 0.8628949877254145, 0.8628949877254145, 1.0]\n",
      "[1.0, 0.6874259692869968, 0.6874259692869968, 1.0]\n",
      "[1.0, 0.5191585987604858, 0.5191585987604858, 1.0]\n",
      "[1.0, 0.650337879185257, 0.650337879185257, 1.0]\n",
      "[1.0, 0.5129212339462709, 0.5129212339462709, 1.0]\n",
      "[1.0, 0.8816054515807238, 0.8816054515807238, 1.0]\n",
      "[1.0, 0.5052674831529659, 0.5052674831529659, 1.0]\n"
     ]
    },
    {
     "name": "stderr",
     "output_type": "stream",
     "text": [
      "C:\\Users\\STUDENT018\\AppData\\Local\\Temp\\ipykernel_18644\\3747841283.py:120: RuntimeWarning: invalid value encountered in scalar divide\n",
      "  wsim[j] = wsim[j] + (1 / ( i - k)) * np.dot(A,B)/(norm(A)*norm(B))\n",
      "C:\\Users\\STUDENT018\\AppData\\Local\\Temp\\ipykernel_18644\\3747841283.py:136: RuntimeWarning: invalid value encountered in scalar divide\n",
      "  wsim[j] = wsim[j] + (1 / ( i - k)) * np.dot(A,B)/(norm(A)*norm(B))\n",
      "C:\\Users\\STUDENT018\\AppData\\Local\\Temp\\ipykernel_18644\\3747841283.py:145: RuntimeWarning: invalid value encountered in scalar divide\n",
      "  return np.dot(A,B)/(norm(A)*norm(B))\n"
     ]
    },
    {
     "name": "stdout",
     "output_type": "stream",
     "text": [
      "[1.0, nan, nan, nan]\n"
     ]
    },
    {
     "name": "stderr",
     "output_type": "stream",
     "text": [
      "C:\\Users\\STUDENT018\\AppData\\Local\\Temp\\ipykernel_18644\\3747841283.py:120: RuntimeWarning: invalid value encountered in scalar divide\n",
      "  wsim[j] = wsim[j] + (1 / ( i - k)) * np.dot(A,B)/(norm(A)*norm(B))\n",
      "C:\\Users\\STUDENT018\\AppData\\Local\\Temp\\ipykernel_18644\\3747841283.py:145: RuntimeWarning: invalid value encountered in scalar divide\n",
      "  return np.dot(A,B)/(norm(A)*norm(B))\n"
     ]
    },
    {
     "name": "stdout",
     "output_type": "stream",
     "text": [
      "[nan, nan, nan, 1.0]\n",
      "[1.0, 0.6929949171913574, 0.6929949171913574, 1.0]\n",
      "[1.0, 0.7958929266567362, 0.7958929266567362, 1.0]\n",
      "[1.0, 0.7081522933659821, 0.7081522933659821, 1.0]\n",
      "[1.0, 0.7395578041151757, 0.7395578041151757, 1.0]\n",
      "[1.0, 0.5457108443860642, 0.5457108443860642, 1.0]\n",
      "[1.0, 0.7772129824856572, 0.7772129824856572, 1.0]\n",
      "[1.0, 0.9399254204127769, 0.9399254204127769, 1.0]\n",
      "[1.0, 0.9576160674568823, 0.9576160674568823, 1.0]\n",
      "[1.0, 0.771648218940619, 0.771648218940619, 1.0]\n",
      "[1.0, 0.7239360440156201, 0.7239360440156201, 1.0]\n",
      "[1.0, 0.6603210602397382, 0.6603210602397382, 1.0]\n",
      "[1.0, 0.6610819198419944, 0.6610819198419944, 1.0]\n",
      "[1.0, 0.8976989456008982, 0.8976989456008982, 1.0]\n",
      "[1.0, 0.5026510335180744, 0.5026510335180744, 1.0]\n",
      "[1.0, 0.7426237791549117, 0.7426237791549117, 1.0]\n",
      "[1.0, 0.7423583878516354, 0.7423583878516354, 1.0]\n",
      "[1.0, 0.7813838326459048, 0.7813838326459048, 1.0]\n",
      "[1.0, 0.5242983804901256, 0.5242983804901256, 1.0]\n",
      "[1.0, 0.9447963643169542, 0.9447963643169542, 1.0]\n",
      "[1.0, 0.8293053896966253, 0.8293053896966253, 1.0]\n",
      "[nan, nan, nan, 1.0]\n",
      "[nan, nan, nan, 1.0]\n",
      "[1.0, 0.9778335045027633, 0.9778335045027633, 1.0]\n",
      "[1.0, 0.9359837618339568, 0.9359837618339568, 1.0]\n",
      "[1.0, 0.7791175680856556, 0.7791175680856556, 1.0]\n",
      "[1.0, 0.782654846316676, 0.782654846316676, 1.0]\n",
      "[1.0, 0.6561415401856607, 0.6561415401856607, 1.0]\n",
      "[1.0, 0.9383101559490705, 0.9383101559490705, 1.0]\n"
     ]
    },
    {
     "name": "stderr",
     "output_type": "stream",
     "text": [
      "C:\\Users\\STUDENT018\\AppData\\Local\\Temp\\ipykernel_18644\\3747841283.py:120: RuntimeWarning: invalid value encountered in scalar divide\n",
      "  wsim[j] = wsim[j] + (1 / ( i - k)) * np.dot(A,B)/(norm(A)*norm(B))\n",
      "C:\\Users\\STUDENT018\\AppData\\Local\\Temp\\ipykernel_18644\\3747841283.py:136: RuntimeWarning: invalid value encountered in scalar divide\n",
      "  wsim[j] = wsim[j] + (1 / ( i - k)) * np.dot(A,B)/(norm(A)*norm(B))\n",
      "C:\\Users\\STUDENT018\\AppData\\Local\\Temp\\ipykernel_18644\\3747841283.py:145: RuntimeWarning: invalid value encountered in scalar divide\n",
      "  return np.dot(A,B)/(norm(A)*norm(B))\n"
     ]
    },
    {
     "name": "stdout",
     "output_type": "stream",
     "text": [
      "[1.0, nan, nan, nan]\n",
      "[1.0, 0.6703171472627366, 0.6703171472627366, 1.0]\n",
      "[1.0, 0.5225244447311524, 0.5225244447311524, 1.0]\n",
      "[1.0, 0.7263752581513468, 0.7263752581513468, 1.0]\n",
      "[1.0, 0.5097218683061888, 0.5097218683061888, 1.0]\n",
      "[1.0, 0.7062762563636986, 0.7062762563636986, 1.0]\n",
      "[1.0, 0.624941134126302, 0.624941134126302, 1.0]\n",
      "[1.0, 0.49439430503701803, 0.49439430503701803, 1.0]\n",
      "[1.0, 0.8333588694100431, 0.8333588694100431, 1.0]\n",
      "[1.0, 0.8159712179609574, 0.8159712179609574, 1.0]\n",
      "[1.0, 0.6490632883085744, 0.6490632883085744, 1.0]\n",
      "[1.0, 0.8649308046042105, 0.8649308046042105, 1.0]\n",
      "[1.0, 0.5328971030834236, 0.5328971030834236, 1.0]\n",
      "[1.0, 0.624941134126302, 0.624941134126302, 1.0]\n",
      "[1.0, 0.8479293457620767, 0.8479293457620767, 1.0]\n",
      "[1.0, 0.5115958391669234, 0.5115958391669234, 1.0]\n",
      "[1.0, 0.7306988950315537, 0.7306988950315537, 1.0]\n",
      "[1.0, 0.49584170324125043, 0.49584170324125043, 1.0]\n"
     ]
    },
    {
     "name": "stderr",
     "output_type": "stream",
     "text": [
      "C:\\Users\\STUDENT018\\AppData\\Local\\Temp\\ipykernel_18644\\3747841283.py:120: RuntimeWarning: invalid value encountered in scalar divide\n",
      "  wsim[j] = wsim[j] + (1 / ( i - k)) * np.dot(A,B)/(norm(A)*norm(B))\n",
      "C:\\Users\\STUDENT018\\AppData\\Local\\Temp\\ipykernel_18644\\3747841283.py:136: RuntimeWarning: invalid value encountered in scalar divide\n",
      "  wsim[j] = wsim[j] + (1 / ( i - k)) * np.dot(A,B)/(norm(A)*norm(B))\n",
      "C:\\Users\\STUDENT018\\AppData\\Local\\Temp\\ipykernel_18644\\3747841283.py:145: RuntimeWarning: invalid value encountered in scalar divide\n",
      "  return np.dot(A,B)/(norm(A)*norm(B))\n"
     ]
    },
    {
     "name": "stdout",
     "output_type": "stream",
     "text": [
      "[1.0, nan, nan, nan]\n",
      "[1.0, 0.5432573362600827, 0.5432573362600827, 1.0]\n",
      "[1.0, 0.5815732674603334, 0.5815732674603334, 1.0]\n",
      "[1.0, 0.5121671497255569, 0.5121671497255569, 1.0]\n",
      "[1.0, 0.4943943050370179, 0.4943943050370179, 1.0]\n",
      "[1.0, 0.5233931948425894, 0.5233931948425894, 1.0]\n",
      "[1.0, 0.6334374905429967, 0.6334374905429967, 1.0]\n",
      "[1.0, 0.7327916020748093, 0.7327916020748093, 1.0]\n"
     ]
    },
    {
     "name": "stderr",
     "output_type": "stream",
     "text": [
      "C:\\Users\\STUDENT018\\AppData\\Local\\Temp\\ipykernel_18644\\3747841283.py:120: RuntimeWarning: invalid value encountered in scalar divide\n",
      "  wsim[j] = wsim[j] + (1 / ( i - k)) * np.dot(A,B)/(norm(A)*norm(B))\n",
      "C:\\Users\\STUDENT018\\AppData\\Local\\Temp\\ipykernel_18644\\3747841283.py:136: RuntimeWarning: invalid value encountered in scalar divide\n",
      "  wsim[j] = wsim[j] + (1 / ( i - k)) * np.dot(A,B)/(norm(A)*norm(B))\n",
      "C:\\Users\\STUDENT018\\AppData\\Local\\Temp\\ipykernel_18644\\3747841283.py:145: RuntimeWarning: invalid value encountered in scalar divide\n",
      "  return np.dot(A,B)/(norm(A)*norm(B))\n"
     ]
    },
    {
     "name": "stdout",
     "output_type": "stream",
     "text": [
      "[1.0, nan, nan, nan]\n",
      "[1.0, 0.5087692009318013, 0.5087692009318013, 1.0]\n",
      "[1.0, 0.7985502808302187, 0.7985502808302187, 1.0]\n",
      "[1.0, 0.8241457522687055, 0.8241457522687055, 1.0]\n",
      "[1.0, 0.5163995218589599, 0.5163995218589599, 1.0]\n",
      "[1.0, 0.6868458356280773, 0.6868458356280773, 1.0]\n",
      "[1.0, 0.6611824330676765, 0.6611824330676765, 1.0]\n",
      "[1.0, 0.51880030549091, 0.51880030549091, 1.0]\n",
      "[1.0, 0.8430031026897006, 0.8430031026897006, 1.0]\n",
      "[1.0, 0.6403500970823609, 0.6403500970823609, 1.0]\n"
     ]
    },
    {
     "name": "stderr",
     "output_type": "stream",
     "text": [
      "C:\\Users\\STUDENT018\\AppData\\Local\\Temp\\ipykernel_18644\\3747841283.py:120: RuntimeWarning: invalid value encountered in scalar divide\n",
      "  wsim[j] = wsim[j] + (1 / ( i - k)) * np.dot(A,B)/(norm(A)*norm(B))\n",
      "C:\\Users\\STUDENT018\\AppData\\Local\\Temp\\ipykernel_18644\\3747841283.py:136: RuntimeWarning: invalid value encountered in scalar divide\n",
      "  wsim[j] = wsim[j] + (1 / ( i - k)) * np.dot(A,B)/(norm(A)*norm(B))\n",
      "C:\\Users\\STUDENT018\\AppData\\Local\\Temp\\ipykernel_18644\\3747841283.py:145: RuntimeWarning: invalid value encountered in scalar divide\n",
      "  return np.dot(A,B)/(norm(A)*norm(B))\n"
     ]
    },
    {
     "name": "stdout",
     "output_type": "stream",
     "text": [
      "[nan, nan, nan, 1.0]\n"
     ]
    },
    {
     "name": "stderr",
     "output_type": "stream",
     "text": [
      "C:\\Users\\STUDENT018\\AppData\\Local\\Temp\\ipykernel_18644\\3747841283.py:120: RuntimeWarning: invalid value encountered in scalar divide\n",
      "  wsim[j] = wsim[j] + (1 / ( i - k)) * np.dot(A,B)/(norm(A)*norm(B))\n",
      "C:\\Users\\STUDENT018\\AppData\\Local\\Temp\\ipykernel_18644\\3747841283.py:145: RuntimeWarning: invalid value encountered in scalar divide\n",
      "  return np.dot(A,B)/(norm(A)*norm(B))\n"
     ]
    },
    {
     "name": "stdout",
     "output_type": "stream",
     "text": [
      "[nan, nan, nan, 1.0]\n",
      "[1.0, 0.512300696285513, 0.512300696285513, 1.0]\n",
      "[1.0, 0.49439430503701814, 0.49439430503701814, 1.0]\n",
      "[1.0, 0.7965537792083625, 0.7965537792083625, 1.0]\n",
      "[1.0, 0.5766363825469905, 0.5766363825469905, 1.0]\n",
      "[1.0, 0.7150587211292678, 0.7150587211292678, 1.0]\n",
      "[1.0, 0.8762981732771801, 0.8762981732771801, 1.0]\n",
      "[1.0, 0.646300879030142, 0.646300879030142, 1.0]\n",
      "[1.0, 0.8844599809974267, 0.8844599809974267, 1.0]\n",
      "[1.0, 0.6377480501756302, 0.6377480501756302, 1.0]\n",
      "[1.0, 0.4986684385142969, 0.4986684385142969, 1.0]\n",
      "[1.0, 0.5363000093336021, 0.5363000093336021, 1.0]\n",
      "[1.0, 0.5146938218695071, 0.5146938218695071, 1.0]\n",
      "[1.0, 0.765546670853718, 0.765546670853718, 1.0]\n",
      "[1.0, 0.7437354361459372, 0.7437354361459372, 1.0]\n",
      "[1.0, 0.5257458227976272, 0.5257458227976272, 1.0]\n",
      "[1.0, 0.49725625944885277, 0.49725625944885277, 1.0]\n",
      "[1.0, 0.8897883694013973, 0.8897883694013973, 1.0]\n",
      "[1.0, 0.8354555902304216, 0.8354555902304216, 1.0]\n",
      "[1.0, 0.7102132348884551, 0.7102132348884551, 1.0]\n",
      "[1.0, 0.6554243509095043, 0.6554243509095043, 1.0]\n",
      "[1.0, 0.7179482823128955, 0.7179482823128955, 1.0]\n",
      "[1.0, 0.7232203752205609, 0.7232203752205609, 1.0]\n"
     ]
    },
    {
     "name": "stderr",
     "output_type": "stream",
     "text": [
      "C:\\Users\\STUDENT018\\AppData\\Local\\Temp\\ipykernel_18644\\3747841283.py:120: RuntimeWarning: invalid value encountered in scalar divide\n",
      "  wsim[j] = wsim[j] + (1 / ( i - k)) * np.dot(A,B)/(norm(A)*norm(B))\n",
      "C:\\Users\\STUDENT018\\AppData\\Local\\Temp\\ipykernel_18644\\3747841283.py:145: RuntimeWarning: invalid value encountered in scalar divide\n",
      "  return np.dot(A,B)/(norm(A)*norm(B))\n"
     ]
    },
    {
     "name": "stdout",
     "output_type": "stream",
     "text": [
      "[nan, nan, nan, 1.0]\n",
      "[1.0, 0.6566858464556133, 0.6566858464556133, 1.0]\n",
      "[1.0, 0.7843754274013705, 0.7843754274013705, 1.0]\n",
      "[1.0, 0.972174693680218, 0.972174693680218, 1.0]\n",
      "[1.0, 0.6737395610509281, 0.6737395610509281, 1.0]\n",
      "[1.0, 0.652533502450592, 0.652533502450592, 1.0]\n"
     ]
    },
    {
     "name": "stderr",
     "output_type": "stream",
     "text": [
      "C:\\Users\\STUDENT018\\AppData\\Local\\Temp\\ipykernel_18644\\3747841283.py:120: RuntimeWarning: invalid value encountered in scalar divide\n",
      "  wsim[j] = wsim[j] + (1 / ( i - k)) * np.dot(A,B)/(norm(A)*norm(B))\n",
      "C:\\Users\\STUDENT018\\AppData\\Local\\Temp\\ipykernel_18644\\3747841283.py:136: RuntimeWarning: invalid value encountered in scalar divide\n",
      "  wsim[j] = wsim[j] + (1 / ( i - k)) * np.dot(A,B)/(norm(A)*norm(B))\n",
      "C:\\Users\\STUDENT018\\AppData\\Local\\Temp\\ipykernel_18644\\3747841283.py:145: RuntimeWarning: invalid value encountered in scalar divide\n",
      "  return np.dot(A,B)/(norm(A)*norm(B))\n"
     ]
    },
    {
     "name": "stdout",
     "output_type": "stream",
     "text": [
      "[nan, nan, nan, 1.0]\n",
      "[1.0, 0.5177900085515746, 0.5177900085515746, 1.0]\n",
      "[1.0, 0.7738794538140514, 0.7738794538140514, 1.0]\n",
      "[1.0, 0.8391334180783421, 0.8391334180783421, 1.0]\n",
      "[1.0, 0.9122239599426128, 0.9122239599426128, 1.0]\n",
      "[1.0, 0.7981305904406296, 0.7981305904406296, 1.0]\n",
      "[1.0, 0.8838879290988348, 0.8838879290988348, 1.0]\n",
      "[1.0, 0.7018292061521045, 0.7018292061521045, 1.0]\n",
      "[1.0, 0.8405020115134128, 0.8405020115134128, 1.0]\n",
      "[1.0, 0.4943943050370179, 0.4943943050370179, 1.0]\n",
      "[1.0, 0.7763483018473353, 0.7763483018473353, 1.0]\n"
     ]
    },
    {
     "name": "stderr",
     "output_type": "stream",
     "text": [
      "C:\\Users\\STUDENT018\\AppData\\Local\\Temp\\ipykernel_18644\\3747841283.py:120: RuntimeWarning: invalid value encountered in scalar divide\n",
      "  wsim[j] = wsim[j] + (1 / ( i - k)) * np.dot(A,B)/(norm(A)*norm(B))\n",
      "C:\\Users\\STUDENT018\\AppData\\Local\\Temp\\ipykernel_18644\\3747841283.py:145: RuntimeWarning: invalid value encountered in scalar divide\n",
      "  return np.dot(A,B)/(norm(A)*norm(B))\n"
     ]
    },
    {
     "name": "stdout",
     "output_type": "stream",
     "text": [
      "[nan, nan, nan, 1.0]\n",
      "[1.0, 0.5669583221510159, 0.5669583221510159, 1.0]\n",
      "[1.0, 0.5472808361597759, 0.5472808361597759, 1.0]\n",
      "[1.0, 0.5428439456204641, 0.5428439456204641, 1.0]\n",
      "[1.0, 0.815634684389883, 0.815634684389883, 1.0]\n",
      "[1.0, 0.7039565492454787, 0.7039565492454787, 1.0]\n",
      "[1.0, 0.7316596859438897, 0.7316596859438897, 1.0]\n",
      "[1.0, 0.5238125854828877, 0.5238125854828877, 1.0]\n",
      "[1.0, 0.49439430503701826, 0.49439430503701826, 1.0]\n",
      "[1.0, 0.5387507527510988, 0.5387507527510988, 1.0]\n",
      "[1.0, 0.6465525531067958, 0.6465525531067958, 1.0]\n",
      "[1.0, 0.521787143397623, 0.521787143397623, 1.0]\n",
      "[1.0, 0.4981979265142747, 0.4981979265142747, 1.0]\n"
     ]
    },
    {
     "name": "stderr",
     "output_type": "stream",
     "text": [
      "C:\\Users\\STUDENT018\\AppData\\Local\\Temp\\ipykernel_18644\\3747841283.py:120: RuntimeWarning: invalid value encountered in scalar divide\n",
      "  wsim[j] = wsim[j] + (1 / ( i - k)) * np.dot(A,B)/(norm(A)*norm(B))\n",
      "C:\\Users\\STUDENT018\\AppData\\Local\\Temp\\ipykernel_18644\\3747841283.py:136: RuntimeWarning: invalid value encountered in scalar divide\n",
      "  wsim[j] = wsim[j] + (1 / ( i - k)) * np.dot(A,B)/(norm(A)*norm(B))\n",
      "C:\\Users\\STUDENT018\\AppData\\Local\\Temp\\ipykernel_18644\\3747841283.py:145: RuntimeWarning: invalid value encountered in scalar divide\n",
      "  return np.dot(A,B)/(norm(A)*norm(B))\n"
     ]
    },
    {
     "name": "stdout",
     "output_type": "stream",
     "text": [
      "[1.0, nan, nan, nan]\n",
      "[1.0, 0.8547781646089282, 0.8547781646089282, 1.0]\n",
      "[1.0, 0.707166429540378, 0.707166429540378, 1.0]\n",
      "[1.0, 0.645814547417359, 0.645814547417359, 1.0]\n",
      "[1.0, 0.8360094049463902, 0.8360094049463902, 1.0]\n",
      "[1.0, 0.5429758655025462, 0.5429758655025462, 1.0]\n",
      "[1.0, 0.6917021106113875, 0.6917021106113875, 1.0]\n",
      "[1.0, 0.7875800571349909, 0.7875800571349909, 1.0]\n",
      "[1.0, 0.6389892418192197, 0.6389892418192197, 1.0]\n",
      "[1.0, 0.5161877443187624, 0.5161877443187624, 1.0]\n",
      "[1.0, 0.49820165571869857, 0.49820165571869857, 1.0]\n",
      "[1.0, 0.6485308598783148, 0.6485308598783148, 1.0]\n",
      "[1.0, 0.9020301570444789, 0.9020301570444789, 1.0]\n",
      "[1.0, 0.6074511754118432, 0.6074511754118432, 1.0]\n",
      "[1.0, 0.6538982071236653, 0.6538982071236653, 1.0]\n",
      "[nan, nan, nan, 1.0]\n"
     ]
    },
    {
     "name": "stderr",
     "output_type": "stream",
     "text": [
      "C:\\Users\\STUDENT018\\AppData\\Local\\Temp\\ipykernel_18644\\3747841283.py:120: RuntimeWarning: invalid value encountered in scalar divide\n",
      "  wsim[j] = wsim[j] + (1 / ( i - k)) * np.dot(A,B)/(norm(A)*norm(B))\n",
      "C:\\Users\\STUDENT018\\AppData\\Local\\Temp\\ipykernel_18644\\3747841283.py:136: RuntimeWarning: invalid value encountered in scalar divide\n",
      "  wsim[j] = wsim[j] + (1 / ( i - k)) * np.dot(A,B)/(norm(A)*norm(B))\n",
      "C:\\Users\\STUDENT018\\AppData\\Local\\Temp\\ipykernel_18644\\3747841283.py:145: RuntimeWarning: invalid value encountered in scalar divide\n",
      "  return np.dot(A,B)/(norm(A)*norm(B))\n"
     ]
    },
    {
     "name": "stdout",
     "output_type": "stream",
     "text": [
      "[1.0, nan, nan, nan]\n",
      "[1.0, 0.7679508087930869, 0.7679508087930869, 1.0]\n",
      "[1.0, 0.7744197716161206, 0.7744197716161206, 1.0]\n",
      "[1.0, 0.8667393432799971, 0.8667393432799971, 1.0]\n",
      "[1.0, 0.6803670678694307, 0.6803670678694307, 1.0]\n",
      "[1.0, 0.9114858811606537, 0.9114858811606537, 1.0]\n",
      "[1.0, 0.5302228219541537, 0.5302228219541537, 1.0]\n",
      "[1.0, 0.7581123521027233, 0.7581123521027233, 1.0]\n",
      "[1.0, 0.6289287135895771, 0.6289287135895771, 1.0]\n",
      "[1.0, 0.6128637818127073, 0.6128637818127073, 1.0]\n",
      "[1.0, 0.6603694401234778, 0.6603694401234778, 1.0]\n",
      "[1.0, 0.5177215366559853, 0.5177215366559853, 1.0]\n",
      "[1.0, 0.7205080457866683, 0.7205080457866683, 1.0]\n",
      "[1.0, 0.541217957814708, 0.541217957814708, 1.0]\n",
      "[1.0, 0.5410345897410713, 0.5410345897410713, 1.0]\n",
      "[1.0, 0.539805047719217, 0.539805047719217, 1.0]\n",
      "[1.0, 0.881865426067726, 0.881865426067726, 1.0]\n",
      "[1.0, 0.9460227647119334, 0.9460227647119334, 1.0]\n",
      "[1.0, 0.6295231109908194, 0.6295231109908194, 1.0]\n",
      "[1.0, 0.6866842285615365, 0.6866842285615365, 1.0]\n",
      "[1.0, 0.6302949875477686, 0.6302949875477686, 1.0]\n",
      "[1.0, 0.6018317611454792, 0.6018317611454792, 1.0]\n",
      "[1.0, 0.8951739548339119, 0.8951739548339119, 1.0]\n",
      "[1.0, 0.7105978970427458, 0.7105978970427458, 1.0]\n",
      "[1.0, 0.7855646186925374, 0.7855646186925374, 1.0]\n",
      "[1.0, 0.9960473057603674, 0.9960473057603674, 1.0]\n",
      "[1.0, 0.5450968372539601, 0.5450968372539601, 1.0]\n",
      "[1.0, 0.923572603267319, 0.923572603267319, 1.0]\n",
      "[1.0, 0.50132470502113, 0.50132470502113, 1.0]\n",
      "[1.0, 0.7270272894726855, 0.7270272894726855, 1.0]\n",
      "[1.0, 0.7161480525717361, 0.7161480525717361, 1.0]\n",
      "[1.0, 0.8105564287182618, 0.8105564287182618, 1.0]\n",
      "[1.0, 0.6662430652052861, 0.6662430652052861, 1.0]\n",
      "[1.0, 0.7097078402546891, 0.7097078402546891, 1.0]\n",
      "[1.0, 0.79599310759105, 0.79599310759105, 1.0]\n",
      "[1.0, 0.9206041627728406, 0.9206041627728406, 1.0]\n",
      "[1.0, 0.5011148795228536, 0.5011148795228536, 1.0]\n",
      "[1.0, 0.7819587664707688, 0.7819587664707688, 1.0]\n",
      "[1.0, 0.7367204569678172, 0.7367204569678172, 1.0]\n",
      "[1.0, 0.6514069541157125, 0.6514069541157125, 1.0]\n",
      "[1.0, 0.7358762941961787, 0.7358762941961787, 1.0]\n",
      "[1.0, 0.6497069748843269, 0.6497069748843269, 1.0]\n",
      "[1.0, 0.7587757587269225, 0.7587757587269225, 1.0]\n",
      "[1.0, 0.7884493336727522, 0.7884493336727522, 1.0]\n",
      "[1.0, 0.7250933842009509, 0.7250933842009509, 1.0]\n",
      "[1.0, 0.8834503361581116, 0.8834503361581116, 1.0]\n",
      "[1.0, 0.7124212688895983, 0.7124212688895983, 1.0]\n",
      "[1.0, 0.6630392733760944, 0.6630392733760944, 1.0]\n",
      "[1.0, 0.7412244381396935, 0.7412244381396935, 1.0]\n",
      "[1.0, 0.7205080457866685, 0.7205080457866685, 1.0]\n"
     ]
    },
    {
     "name": "stderr",
     "output_type": "stream",
     "text": [
      "C:\\Users\\STUDENT018\\AppData\\Local\\Temp\\ipykernel_18644\\3747841283.py:120: RuntimeWarning: invalid value encountered in scalar divide\n",
      "  wsim[j] = wsim[j] + (1 / ( i - k)) * np.dot(A,B)/(norm(A)*norm(B))\n",
      "C:\\Users\\STUDENT018\\AppData\\Local\\Temp\\ipykernel_18644\\3747841283.py:136: RuntimeWarning: invalid value encountered in scalar divide\n",
      "  wsim[j] = wsim[j] + (1 / ( i - k)) * np.dot(A,B)/(norm(A)*norm(B))\n",
      "C:\\Users\\STUDENT018\\AppData\\Local\\Temp\\ipykernel_18644\\3747841283.py:145: RuntimeWarning: invalid value encountered in scalar divide\n",
      "  return np.dot(A,B)/(norm(A)*norm(B))\n"
     ]
    },
    {
     "name": "stdout",
     "output_type": "stream",
     "text": [
      "[1.0, nan, nan, nan]\n",
      "[1.0, 0.5830810446271505, 0.5830810446271505, 1.0]\n",
      "[1.0, 0.5177336027127505, 0.5177336027127505, 1.0]\n",
      "[1.0, 0.4943943050370178, 0.4943943050370178, 1.0]\n",
      "[1.0, 0.871266472573228, 0.871266472573228, 1.0]\n",
      "[1.0, 0.651248788523706, 0.651248788523706, 1.0]\n",
      "[1.0, 0.6981624168747327, 0.6981624168747327, 1.0]\n"
     ]
    },
    {
     "name": "stderr",
     "output_type": "stream",
     "text": [
      "C:\\Users\\STUDENT018\\AppData\\Local\\Temp\\ipykernel_18644\\3747841283.py:120: RuntimeWarning: invalid value encountered in scalar divide\n",
      "  wsim[j] = wsim[j] + (1 / ( i - k)) * np.dot(A,B)/(norm(A)*norm(B))\n",
      "C:\\Users\\STUDENT018\\AppData\\Local\\Temp\\ipykernel_18644\\3747841283.py:136: RuntimeWarning: invalid value encountered in scalar divide\n",
      "  wsim[j] = wsim[j] + (1 / ( i - k)) * np.dot(A,B)/(norm(A)*norm(B))\n",
      "C:\\Users\\STUDENT018\\AppData\\Local\\Temp\\ipykernel_18644\\3747841283.py:145: RuntimeWarning: invalid value encountered in scalar divide\n",
      "  return np.dot(A,B)/(norm(A)*norm(B))\n"
     ]
    },
    {
     "name": "stdout",
     "output_type": "stream",
     "text": [
      "[1.0, nan, nan, nan]\n",
      "[1.0, 0.7729394755545761, 0.7729394755545761, 1.0]\n",
      "[1.0, 0.7912956871430215, 0.7912956871430215, 1.0]\n",
      "[1.0, 0.5227769640167923, 0.5227769640167923, 1.0]\n",
      "[1.0, 0.512118908768818, 0.512118908768818, 1.0]\n",
      "[1.0, 0.9394220664329528, 0.9394220664329528, 1.0]\n",
      "[1.0, 0.7937517459452853, 0.7937517459452853, 1.0]\n",
      "[1.0, 0.4982084189809011, 0.4982084189809011, 1.0]\n"
     ]
    },
    {
     "name": "stderr",
     "output_type": "stream",
     "text": [
      "C:\\Users\\STUDENT018\\AppData\\Local\\Temp\\ipykernel_18644\\3747841283.py:120: RuntimeWarning: invalid value encountered in scalar divide\n",
      "  wsim[j] = wsim[j] + (1 / ( i - k)) * np.dot(A,B)/(norm(A)*norm(B))\n",
      "C:\\Users\\STUDENT018\\AppData\\Local\\Temp\\ipykernel_18644\\3747841283.py:136: RuntimeWarning: invalid value encountered in scalar divide\n",
      "  wsim[j] = wsim[j] + (1 / ( i - k)) * np.dot(A,B)/(norm(A)*norm(B))\n",
      "C:\\Users\\STUDENT018\\AppData\\Local\\Temp\\ipykernel_18644\\3747841283.py:145: RuntimeWarning: invalid value encountered in scalar divide\n",
      "  return np.dot(A,B)/(norm(A)*norm(B))\n"
     ]
    },
    {
     "name": "stdout",
     "output_type": "stream",
     "text": [
      "[1.0, nan, nan, nan]\n",
      "[1.0, 0.6193047569341418, 0.6193047569341418, 1.0]\n",
      "[1.0, 0.6207957287777636, 0.6207957287777636, 1.0]\n",
      "[1.0, 0.6591020045155295, 0.6591020045155295, 1.0]\n",
      "[nan, nan, nan, 1.0]\n",
      "[1.0, 0.6972017102981154, 0.6972017102981154, 1.0]\n",
      "[nan, nan, nan, 1.0]\n"
     ]
    },
    {
     "name": "stderr",
     "output_type": "stream",
     "text": [
      "C:\\Users\\STUDENT018\\AppData\\Local\\Temp\\ipykernel_18644\\3747841283.py:120: RuntimeWarning: invalid value encountered in scalar divide\n",
      "  wsim[j] = wsim[j] + (1 / ( i - k)) * np.dot(A,B)/(norm(A)*norm(B))\n",
      "C:\\Users\\STUDENT018\\AppData\\Local\\Temp\\ipykernel_18644\\3747841283.py:136: RuntimeWarning: invalid value encountered in scalar divide\n",
      "  wsim[j] = wsim[j] + (1 / ( i - k)) * np.dot(A,B)/(norm(A)*norm(B))\n",
      "C:\\Users\\STUDENT018\\AppData\\Local\\Temp\\ipykernel_18644\\3747841283.py:145: RuntimeWarning: invalid value encountered in scalar divide\n",
      "  return np.dot(A,B)/(norm(A)*norm(B))\n"
     ]
    },
    {
     "name": "stdout",
     "output_type": "stream",
     "text": [
      "[1.0, nan, nan, nan]\n",
      "[1.0, 0.983787880249554, 0.983787880249554, 1.0]\n",
      "[1.0, 0.50516392581184, 0.50516392581184, 1.0]\n",
      "[1.0, 0.7278060277373041, 0.7278060277373041, 1.0]\n",
      "[1.0, 0.4993800742930212, 0.4993800742930212, 1.0]\n",
      "[1.0, 0.771523320685746, 0.771523320685746, 1.0]\n",
      "[1.0, 0.863636497482754, 0.863636497482754, 1.0]\n",
      "[1.0, 0.7259968078035988, 0.7259968078035988, 1.0]\n",
      "[1.0, 0.6711802897951349, 0.6711802897951349, 1.0]\n",
      "[1.0, 0.4986327198476952, 0.4986327198476952, 1.0]\n",
      "[1.0, 0.6679405878308566, 0.6679405878308566, 1.0]\n",
      "[1.0, 0.6231775888391119, 0.6231775888391119, 1.0]\n",
      "[1.0, 0.6725346924890695, 0.6725346924890695, 1.0]\n",
      "[1.0, 0.7646713163507483, 0.7646713163507483, 1.0]\n",
      "[1.0, 0.8087109926041939, 0.8087109926041939, 1.0]\n",
      "[1.0, 0.8527758776275682, 0.8527758776275682, 1.0]\n",
      "[1.0, 0.6754284134474285, 0.6754284134474285, 1.0]\n"
     ]
    }
   ],
   "source": [
    "import openpyxl\n",
    "import pandas as pd\n",
    "import numpy as np\n",
    "from numpy.linalg import norm\n",
    "\n",
    "feature_names = ['Pregnancies', 'Glucose', 'BloodPressure', 'SkinThickness', 'Insulin', 'BMI','DiabetesPedigreeFunction', 'Age']\n",
    "noOfIterations = 100\n",
    "\n",
    "def convertSign(value):\n",
    "    if value == \"positive\":\n",
    "        return 1\n",
    "    elif value == \"negative\":\n",
    "        return 0\n",
    "    else \n",
    "        return -1\n",
    "\n",
    "def generateSigns(feature_names):\n",
    "    dataframe = openpyxl.load_workbook(\"outputDiabetesKernelShapLOOCV_1.xlsx\")\n",
    "    sheet = dataframe.active\n",
    "   \n",
    "    list = []\n",
    "    for i in range(len(feature_names)):\n",
    "        list_feature = []\n",
    "        list.append(list_feature)\n",
    "    \n",
    "    df_KernelShap = pd.DataFrame()\n",
    "    \n",
    "    for i, row in enumerate(sheet):\n",
    "        step = 6\n",
    "        if i == 0: \n",
    "            continue\n",
    "        for k in range(len(feature_names)):\n",
    "            if k == 0:\n",
    "                list[k].append(convertSign(row[3].value))\n",
    "            else:\n",
    "                list[k].append(convertSign(row[step].value))\n",
    "                step = step + 3\n",
    "    dict = {}\n",
    "    for i in range(len(feature_names)):\n",
    "        new_data = {feature_names[i]: list[i]} \n",
    "        dict.update(new_data)\n",
    "        \n",
    "    df_KernelShap = pd.DataFrame(dict)\n",
    "     \n",
    "    df_KernelShap.to_excel(\"signsDiabetesKernelShap.xlsx\")\n",
    "   \n",
    "    #################################################################\n",
    "    dataframe = openpyxl.load_workbook(\"outputDiabetesTreeShapLOOCV_1.xlsx\")\n",
    "    sheet = dataframe.active\n",
    "   \n",
    "    list = []\n",
    "    for i in range(len(feature_names)):\n",
    "        list_feature = []\n",
    "        list.append(list_feature)\n",
    "    \n",
    "    df_TreeShap = pd.DataFrame()\n",
    "    \n",
    "    for i, row in enumerate(sheet):\n",
    "        step = 6\n",
    "        if i == 0: \n",
    "            continue\n",
    "        for k in range(len(feature_names)):\n",
    "            if k == 0:\n",
    "                list[k].append(convertSign(row[3].value))\n",
    "            else:\n",
    "                list[k].append(convertSign(row[step].value))\n",
    "                step = step + 3          \n",
    "          \n",
    "    dict = {}\n",
    "    for i in range(len(feature_names)):\n",
    "        new_data = {feature_names[i]: list[i]} \n",
    "        dict.update(new_data)\n",
    "        \n",
    "    df_TreeShap = pd.DataFrame(dict)\n",
    "    \n",
    "    df_TreeShap.to_excel(\"signsDiabetesTreeShap.xlsx\")    \n",
    "\n",
    "    ############################################################################\n",
    "    dataframe = openpyxl.load_workbook(\"outputDiabetesLIMELOOCV_100.xlsx\")\n",
    "    sheet = dataframe.active\n",
    "    feature_names = ['Pregnancies', 'Glucose', 'BloodPressure', 'SkinThickness', 'Insulin', 'BMI','DiabetesPedigreeFunction', 'Age']\n",
    "    \n",
    "    list = []\n",
    "    for i in range(len(feature_names)):\n",
    "        list_feature = []\n",
    "        list.append(list_feature)\n",
    "    \n",
    "    df_LIME = pd.DataFrame()\n",
    "    \n",
    "    for i, row in enumerate(sheet):\n",
    "        step = 10\n",
    "        if i == 0: \n",
    "            continue\n",
    "        for k in range(len(feature_names)):\n",
    "            if k == 0:\n",
    "                list[k].append(convertSign(row[5].value))\n",
    "            else:\n",
    "                list[k].append(convertSign(row[step].value))\n",
    "                step = step + 5            \n",
    "            \n",
    "    dict = {}\n",
    "    for i in range(len(feature_names)):\n",
    "        new_data = {feature_names[i]: list[i]} \n",
    "        dict.update(new_data)\n",
    "        \n",
    "    df_LIME = pd.DataFrame(dict)\n",
    "   \n",
    "    df_LIME.to_excel(\"signsDiabetesLIME.xlsx\")\n",
    "   \n",
    "\n",
    "def stackRowsColumns(M, noOfRows, noOfColumns):\n",
    "    pos = [0] * noOfRows\n",
    "    for i in range (0, noOfRows):\n",
    "        pos[i] = i\n",
    "    \n",
    "    for i in range(1, noOfRows):\n",
    "        wsim = [0] * noOfRows\n",
    "        for j in range(i, noOfRows):\n",
    "            for k in range(0, i):\n",
    "                A = M.loc[k]\n",
    "                B = M.loc[j]\n",
    "                wsim[j] = wsim[j] + (1 / ( i - k)) * np.dot(A,B)/(norm(A)*norm(B))\n",
    "        max_value = max(wsim)\n",
    "        max_index = wsim.index(max_value)\n",
    "        aux = M.loc[max_index]\n",
    "        M.loc[max_index] = M.loc[i]\n",
    "        M.loc[i] = aux\n",
    "        aux = pos[max_index]\n",
    "        pos[max_index] = pos[i]\n",
    "        pos[i] = aux\n",
    "    \n",
    "    for i in range(1, noOfColumns):\n",
    "        wsim = [0] * noOfColumns\n",
    "        for j in range(i, noOfColumns):\n",
    "            for k in range(0, i):\n",
    "                A = M.loc[k]\n",
    "                B = M.loc[j]\n",
    "                wsim[j] = wsim[j] + (1 / ( i - k)) * np.dot(A,B)/(norm(A)*norm(B))\n",
    "        max_value = max(wsim)\n",
    "        max_index = wsim.index(max_value)\n",
    "        aux = M.loc[max_index]\n",
    "        M.loc[max_index] = M.loc[i]\n",
    "        M.loc[i] = aux\n",
    "    return pos, M\n",
    "\n",
    "def cosineSimilarity(A, B):\n",
    "    return np.dot(A,B)/(norm(A)*norm(B))\n",
    "\n",
    "def similarityCase(M, i):\n",
    "    s = 0\n",
    "    k = i - 1\n",
    "    for j in range (1, k + 1):\n",
    "        s = s + cosineSimilarity(M.loc[i], M.loc[i - j]) * (1 / j)\n",
    "    return s\n",
    "\n",
    "def similarityMatrix(M, noOfRows):\n",
    "    s = 0\n",
    "    for i in range(1, noOfRows):\n",
    "        s = s + similarityCase(M, i)\n",
    "    s = s / (noOfRows - 1)\n",
    "    return s\n",
    "\n",
    "def GlobalAlign(MSP, MS, noOfRows):\n",
    "    if similarityMatrix(MSP, noOfRows) >  similarityMatrix(MS, noOfRows):\n",
    "        max = similarityMatrix(MSP, noOfRows)\n",
    "        min = similarityMatrix(MS, noOfRows)\n",
    "    else:\n",
    "        max = similarityMatrix(MS, noOfRows)\n",
    "        min = similarityMatrix(MSP, noOfRows)\n",
    "    return min / max\n",
    "    #return similarityMatrix(MSP, noOfRows) / similarityMatrix(MS, noOfRows)\n",
    "\n",
    "\n",
    "def createMSP(MP, MS, noOfRows):\n",
    "    MS_copy = MS.copy(deep = True)\n",
    "    MP_copy = MP.copy(deep = True)\n",
    "    posS, MS_copy = stackRowsColumns(MS_copy, noOfRows, len(feature_names))\n",
    "    posP, MP_copy = stackRowsColumns(MP_copy, noOfRows, len(feature_names))\n",
    "    # MSP = pd.DataFrame(columns = feature_names)\n",
    "    # for i in range(0, noOfRows):\n",
    "    #     MSP.loc[posP[i]] = MS_copy.loc[posS[i]]\n",
    "    return GlobalAlign(MP_copy, MS_copy, noOfRows)\n",
    "\n",
    "generateSigns(feature_names)\n",
    "df_KernelShap = pd.read_excel('signsDiabetesKernelShap.xlsx')\n",
    "df_KernelShap = df_KernelShap[df_KernelShap.columns[1:]]\n",
    "df_TreeShap = pd.read_excel('signsDiabetesTreeShap.xlsx')\n",
    "df_TreeShap = df_TreeShap[df_TreeShap.columns[1:]]\n",
    "df_LIME = pd.read_excel('signsDiabetesLIME.xlsx')\n",
    "df_LIME = df_LIME[df_LIME.columns[1:]]\n",
    "\n",
    "results = pd.DataFrame(columns = ['LL', 'LS', 'SL', 'SS'])\n",
    "noOfInstances = df_KernelShap.shape[0]\n",
    "\n",
    "for instance in range(0, noOfInstances):\n",
    "    result = []\n",
    "    data_Shap = []\n",
    "    for i in range(int(noOfIterations / 2)):\n",
    "        data_Shap.append(df_KernelShap.loc[instance].values.flatten().tolist())\n",
    "        data_Shap.append(df_TreeShap.loc[instance].values.flatten().tolist())\n",
    "    M_Shap  = pd.DataFrame(data_Shap, columns = feature_names)\n",
    "    \n",
    "    data_LIME = []\n",
    "    for i in range(noOfIterations):\n",
    "        data_LIME.append(df_LIME.loc[instance * noOfIterations + i].values.flatten().tolist())\n",
    "    M_LIME  = pd.DataFrame(data_LIME, columns = feature_names)\n",
    "    \n",
    "    MP = M_LIME\n",
    "    MS = M_LIME\n",
    "    result.append(createMSP(MP, MS, noOfIterations))\n",
    "    MP = M_LIME\n",
    "    MS = M_Shap\n",
    "    result.append(createMSP(MP, MS, noOfIterations))\n",
    "    MP = M_Shap\n",
    "    MS = M_LIME\n",
    "    result.append(createMSP(MP, MS, noOfIterations))\n",
    "    MP = M_Shap\n",
    "    MS = M_Shap\n",
    "    result.append(createMSP(MP, MS, noOfIterations))\n",
    "    print(result)\n",
    "    results.loc[instance] = result\n",
    "\n",
    "\n",
    "results.to_excel(\"resultsSignsDiabetesMPMS_MinMax.xlsx\")"
   ]
  },
  {
   "cell_type": "code",
   "execution_count": null,
   "id": "bb6e9baa-e4be-4dec-af53-c7561a895a2a",
   "metadata": {},
   "outputs": [],
   "source": []
  },
  {
   "cell_type": "code",
   "execution_count": null,
   "id": "5e3bb807-683d-41ad-aa3a-489e33014fcf",
   "metadata": {},
   "outputs": [],
   "source": []
  }
 ],
 "metadata": {
  "kernelspec": {
   "display_name": "Python 3 (ipykernel)",
   "language": "python",
   "name": "python3"
  },
  "language_info": {
   "codemirror_mode": {
    "name": "ipython",
    "version": 3
   },
   "file_extension": ".py",
   "mimetype": "text/x-python",
   "name": "python",
   "nbconvert_exporter": "python",
   "pygments_lexer": "ipython3",
   "version": "3.10.0"
  }
 },
 "nbformat": 4,
 "nbformat_minor": 5
}
