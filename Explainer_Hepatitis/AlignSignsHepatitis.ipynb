{
 "cells": [
  {
   "cell_type": "code",
   "execution_count": 5,
   "id": "1f075ada-6f7d-4d8c-8117-0867f6e2fc3c",
   "metadata": {},
   "outputs": [
    {
     "name": "stdout",
     "output_type": "stream",
     "text": [
      "[1.0, 0.8604345503033215, 0.8604345503033215, 1.0]\n",
      "[1.0, 0.38842141736654834, 0.38842141736654834, 1.0]\n",
      "[1.0, 0.6114198702168748, 0.6114198702168748, 1.0]\n",
      "[1.0, 0.5983515992211774, 0.5983515992211774, 1.0]\n"
     ]
    },
    {
     "name": "stderr",
     "output_type": "stream",
     "text": [
      "C:\\Users\\STUDENT018\\AppData\\Local\\Temp\\ipykernel_13160\\3787471243.py:121: RuntimeWarning: invalid value encountered in scalar divide\n",
      "  wsim[j] = wsim[j] + (1 / ( i - k)) * np.dot(A,B)/(norm(A)*norm(B))\n",
      "C:\\Users\\STUDENT018\\AppData\\Local\\Temp\\ipykernel_13160\\3787471243.py:137: RuntimeWarning: invalid value encountered in scalar divide\n",
      "  wsim[j] = wsim[j] + (1 / ( i - k)) * np.dot(A,B)/(norm(A)*norm(B))\n",
      "C:\\Users\\STUDENT018\\AppData\\Local\\Temp\\ipykernel_13160\\3787471243.py:146: RuntimeWarning: invalid value encountered in scalar divide\n",
      "  return np.dot(A,B)/(norm(A)*norm(B))\n"
     ]
    },
    {
     "name": "stdout",
     "output_type": "stream",
     "text": [
      "[1.0, nan, nan, nan]\n",
      "[1.0, 0.6816745560482629, 0.6816745560482629, 1.0]\n",
      "[1.0, 0.5053181046899975, 0.5053181046899975, 1.0]\n",
      "[1.0, 0.5539798486168078, 0.5539798486168078, 1.0]\n",
      "[1.0, 0.14324384380719357, 0.14324384380719357, 1.0]\n",
      "[1.0, 0.3604318432842939, 0.3604318432842939, 1.0]\n",
      "[1.0, 0.5929165624461461, 0.5929165624461461, 1.0]\n",
      "[1.0, 0.4338618955261563, 0.4338618955261563, 1.0]\n",
      "[1.0, 0.07338303470559389, 0.07338303470559389, 1.0]\n",
      "[1.0, 0.5417983478523798, 0.5417983478523798, 1.0]\n",
      "[1.0, 0.530319996421335, 0.530319996421335, 1.0]\n",
      "[1.0, 0.5072368765151676, 0.5072368765151676, 1.0]\n",
      "[1.0, 0.35966026244639376, 0.35966026244639376, 1.0]\n",
      "[1.0, 0.49095957414158786, 0.49095957414158786, 1.0]\n",
      "[1.0, 0.6778074411929201, 0.6778074411929201, 1.0]\n",
      "[1.0, 0.5097751571645787, 0.5097751571645787, 1.0]\n",
      "[1.0, 0.6772293775665494, 0.6772293775665494, 1.0]\n",
      "[1.0, 0.3329910147464956, 0.3329910147464956, 1.0]\n",
      "[1.0, 0.5277148882368098, 0.5277148882368098, 1.0]\n",
      "[1.0, 0.9165052596304635, 0.9165052596304635, 1.0]\n",
      "[1.0, 0.7213248413820604, 0.7213248413820604, 1.0]\n",
      "[1.0, 0.4958216057824177, 0.4958216057824177, 1.0]\n",
      "[1.0, 0.5377086586099732, 0.5377086586099732, 1.0]\n",
      "[1.0, 0.35023920900926786, 0.35023920900926786, 1.0]\n",
      "[1.0, 0.1820372219550508, 0.1820372219550508, 1.0]\n",
      "[1.0, 0.5749303849586527, 0.5749303849586527, 1.0]\n",
      "[1.0, 0.6070345094817592, 0.6070345094817592, 1.0]\n",
      "[1.0, 0.4171681361421034, 0.4171681361421034, 1.0]\n",
      "[1.0, 0.2694317905632818, 0.2694317905632818, 1.0]\n",
      "[1.0, 0.6081207443372559, 0.6081207443372559, 1.0]\n",
      "[1.0, 0.5681349907215008, 0.5681349907215008, 1.0]\n",
      "[1.0, 0.5724946223926225, 0.5724946223926225, 1.0]\n",
      "[1.0, 0.06655383947014522, 0.06655383947014522, 1.0]\n",
      "[1.0, 0.39729077340472985, 0.39729077340472985, 1.0]\n",
      "[1.0, 0.3460581899505983, 0.3460581899505983, 1.0]\n",
      "[1.0, 0.09377583934908368, 0.09377583934908368, 1.0]\n",
      "[1.0, 0.47963475427069036, 0.47963475427069036, 1.0]\n",
      "[1.0, 0.4723450250667188, 0.4723450250667188, 1.0]\n",
      "[1.0, 0.5289728842681909, 0.5289728842681909, 1.0]\n",
      "[1.0, 0.125874222047431, 0.125874222047431, 1.0]\n",
      "[1.0, 0.5550827516471767, 0.5550827516471767, 1.0]\n",
      "[1.0, 0.5528703469717579, 0.5528703469717579, 1.0]\n",
      "[1.0, 0.29531523192343706, 0.29531523192343706, 1.0]\n",
      "[1.0, 0.452250461428598, 0.452250461428598, 1.0]\n",
      "[1.0, 0.3926163506927347, 0.3926163506927347, 1.0]\n",
      "[1.0, 0.5051402190381038, 0.5051402190381038, 1.0]\n",
      "[1.0, 0.5767346381858841, 0.5767346381858841, 1.0]\n",
      "[1.0, 0.36074035513203345, 0.36074035513203345, 1.0]\n",
      "[1.0, 0.3562994223695555, 0.3562994223695555, 1.0]\n",
      "[1.0, 0.3123716368465801, 0.3123716368465801, 1.0]\n",
      "[1.0, 0.7142425600383014, 0.7142425600383014, 1.0]\n",
      "[1.0, 0.42615677182942424, 0.42615677182942424, 1.0]\n",
      "[1.0, 0.34035155042334947, 0.34035155042334947, 1.0]\n",
      "[1.0, 0.4452254421338042, 0.4452254421338042, 1.0]\n",
      "[1.0, 0.610322082533057, 0.610322082533057, 1.0]\n",
      "[1.0, 0.28766018030487034, 0.28766018030487034, 1.0]\n",
      "[1.0, 0.5998614676707686, 0.5998614676707686, 1.0]\n"
     ]
    },
    {
     "name": "stderr",
     "output_type": "stream",
     "text": [
      "C:\\Users\\STUDENT018\\AppData\\Local\\Temp\\ipykernel_13160\\3787471243.py:121: RuntimeWarning: invalid value encountered in scalar divide\n",
      "  wsim[j] = wsim[j] + (1 / ( i - k)) * np.dot(A,B)/(norm(A)*norm(B))\n",
      "C:\\Users\\STUDENT018\\AppData\\Local\\Temp\\ipykernel_13160\\3787471243.py:137: RuntimeWarning: invalid value encountered in scalar divide\n",
      "  wsim[j] = wsim[j] + (1 / ( i - k)) * np.dot(A,B)/(norm(A)*norm(B))\n",
      "C:\\Users\\STUDENT018\\AppData\\Local\\Temp\\ipykernel_13160\\3787471243.py:146: RuntimeWarning: invalid value encountered in scalar divide\n",
      "  return np.dot(A,B)/(norm(A)*norm(B))\n"
     ]
    },
    {
     "name": "stdout",
     "output_type": "stream",
     "text": [
      "[1.0, nan, nan, nan]\n",
      "[1.0, 0.2947039467313808, 0.2947039467313808, 1.0]\n",
      "[1.0, 0.5771454256785095, 0.5771454256785095, 1.0]\n",
      "[1.0, 0.6645834508158981, 0.6645834508158981, 1.0]\n",
      "[1.0, 0.6027430218802311, 0.6027430218802311, 1.0]\n"
     ]
    },
    {
     "name": "stderr",
     "output_type": "stream",
     "text": [
      "C:\\Users\\STUDENT018\\AppData\\Local\\Temp\\ipykernel_13160\\3787471243.py:121: RuntimeWarning: invalid value encountered in scalar divide\n",
      "  wsim[j] = wsim[j] + (1 / ( i - k)) * np.dot(A,B)/(norm(A)*norm(B))\n",
      "C:\\Users\\STUDENT018\\AppData\\Local\\Temp\\ipykernel_13160\\3787471243.py:137: RuntimeWarning: invalid value encountered in scalar divide\n",
      "  wsim[j] = wsim[j] + (1 / ( i - k)) * np.dot(A,B)/(norm(A)*norm(B))\n",
      "C:\\Users\\STUDENT018\\AppData\\Local\\Temp\\ipykernel_13160\\3787471243.py:146: RuntimeWarning: invalid value encountered in scalar divide\n",
      "  return np.dot(A,B)/(norm(A)*norm(B))\n"
     ]
    },
    {
     "name": "stdout",
     "output_type": "stream",
     "text": [
      "[1.0, nan, nan, nan]\n",
      "[1.0, 0.7249895619716842, 0.7249895619716842, 1.0]\n",
      "[1.0, 0.4594618149919772, 0.4594618149919772, 1.0]\n",
      "[1.0, 0.4540402701740655, 0.4540402701740655, 1.0]\n",
      "[1.0, 0.3263001904526195, 0.3263001904526195, 1.0]\n",
      "[1.0, 0.5307910896388739, 0.5307910896388739, 1.0]\n",
      "[1.0, 0.6382107212601361, 0.6382107212601361, 1.0]\n",
      "[1.0, 0.6635308328641317, 0.6635308328641317, 1.0]\n",
      "[1.0, 0.6894514561381324, 0.6894514561381324, 1.0]\n",
      "[1.0, 0.5576813533982167, 0.5576813533982167, 1.0]\n",
      "[1.0, 0.6325638409796422, 0.6325638409796422, 1.0]\n",
      "[1.0, 0.6363530852130734, 0.6363530852130734, 1.0]\n",
      "[1.0, 0.5815851772081199, 0.5815851772081199, 1.0]\n",
      "[1.0, 0.3368790023101921, 0.3368790023101921, 1.0]\n",
      "[1.0, 0.3912906215772321, 0.3912906215772321, 1.0]\n",
      "[1.0, 0.5916347568293165, 0.5916347568293165, 1.0]\n",
      "[1.0, 0.450699242796349, 0.450699242796349, 1.0]\n",
      "[1.0, 0.1352800284379337, 0.1352800284379337, 1.0]\n",
      "[1.0, 0.8429488362072216, 0.8429488362072216, 1.0]\n",
      "[1.0, 0.9113599084245102, 0.9113599084245102, 1.0]\n",
      "[1.0, 0.607221670432579, 0.607221670432579, 1.0]\n",
      "[1.0, 0.3820356409795405, 0.3820356409795405, 1.0]\n"
     ]
    },
    {
     "name": "stderr",
     "output_type": "stream",
     "text": [
      "C:\\Users\\STUDENT018\\AppData\\Local\\Temp\\ipykernel_13160\\3787471243.py:121: RuntimeWarning: invalid value encountered in scalar divide\n",
      "  wsim[j] = wsim[j] + (1 / ( i - k)) * np.dot(A,B)/(norm(A)*norm(B))\n",
      "C:\\Users\\STUDENT018\\AppData\\Local\\Temp\\ipykernel_13160\\3787471243.py:137: RuntimeWarning: invalid value encountered in scalar divide\n",
      "  wsim[j] = wsim[j] + (1 / ( i - k)) * np.dot(A,B)/(norm(A)*norm(B))\n",
      "C:\\Users\\STUDENT018\\AppData\\Local\\Temp\\ipykernel_13160\\3787471243.py:146: RuntimeWarning: invalid value encountered in scalar divide\n",
      "  return np.dot(A,B)/(norm(A)*norm(B))\n"
     ]
    },
    {
     "name": "stdout",
     "output_type": "stream",
     "text": [
      "[1.0, nan, nan, nan]\n",
      "[1.0, 0.335096059899268, 0.335096059899268, 1.0]\n",
      "[1.0, 0.4633106275795769, 0.4633106275795769, 1.0]\n",
      "[1.0, 0.5331527305352028, 0.5331527305352028, 1.0]\n",
      "[1.0, 0.31220240751693623, 0.31220240751693623, 1.0]\n"
     ]
    },
    {
     "name": "stderr",
     "output_type": "stream",
     "text": [
      "C:\\Users\\STUDENT018\\AppData\\Local\\Temp\\ipykernel_13160\\3787471243.py:121: RuntimeWarning: invalid value encountered in scalar divide\n",
      "  wsim[j] = wsim[j] + (1 / ( i - k)) * np.dot(A,B)/(norm(A)*norm(B))\n",
      "C:\\Users\\STUDENT018\\AppData\\Local\\Temp\\ipykernel_13160\\3787471243.py:137: RuntimeWarning: invalid value encountered in scalar divide\n",
      "  wsim[j] = wsim[j] + (1 / ( i - k)) * np.dot(A,B)/(norm(A)*norm(B))\n",
      "C:\\Users\\STUDENT018\\AppData\\Local\\Temp\\ipykernel_13160\\3787471243.py:146: RuntimeWarning: invalid value encountered in scalar divide\n",
      "  return np.dot(A,B)/(norm(A)*norm(B))\n"
     ]
    },
    {
     "name": "stdout",
     "output_type": "stream",
     "text": [
      "[1.0, nan, nan, nan]\n",
      "[1.0, 0.5330627228538322, 0.5330627228538322, 1.0]\n",
      "[1.0, 0.4657650310377309, 0.4657650310377309, 1.0]\n",
      "[1.0, 0.33847070255656825, 0.33847070255656825, 1.0]\n",
      "[1.0, 0.3900143822269986, 0.3900143822269986, 1.0]\n",
      "[1.0, 0.5398813354711127, 0.5398813354711127, 1.0]\n",
      "[1.0, 0.3083320211963596, 0.3083320211963596, 1.0]\n",
      "[1.0, 0.405300769738227, 0.405300769738227, 1.0]\n",
      "[1.0, 0.4365388097393395, 0.4365388097393395, 1.0]\n",
      "[1.0, 0.6276463238801568, 0.6276463238801568, 1.0]\n",
      "[1.0, 0.26541202534156766, 0.26541202534156766, 1.0]\n",
      "[1.0, 0.6354675971817523, 0.6354675971817523, 1.0]\n",
      "[1.0, 0.45804131823557703, 0.45804131823557703, 1.0]\n",
      "[1.0, 0.5181034170962886, 0.5181034170962886, 1.0]\n",
      "[1.0, 0.09748424651354595, 0.09748424651354595, 1.0]\n",
      "[1.0, 0.5490151674620406, 0.5490151674620406, 1.0]\n",
      "[1.0, 0.4517081426513311, 0.4517081426513311, 1.0]\n",
      "[1.0, 0.21180827884353623, 0.21180827884353623, 1.0]\n",
      "[1.0, 0.3319957750863609, 0.3319957750863609, 1.0]\n",
      "[1.0, 0.3551775820163356, 0.3551775820163356, 1.0]\n",
      "[1.0, 0.4736522860044192, 0.4736522860044192, 1.0]\n",
      "[1.0, 0.7420348148194461, 0.7420348148194461, 1.0]\n",
      "[1.0, 0.3158234675875704, 0.3158234675875704, 1.0]\n",
      "[1.0, 0.460347990217279, 0.460347990217279, 1.0]\n",
      "[1.0, 0.07591561112326367, 0.07591561112326367, 1.0]\n",
      "[1.0, 0.542557835309708, 0.542557835309708, 1.0]\n",
      "[1.0, 0.10990193337931513, 0.10990193337931513, 1.0]\n"
     ]
    },
    {
     "name": "stderr",
     "output_type": "stream",
     "text": [
      "C:\\Users\\STUDENT018\\AppData\\Local\\Temp\\ipykernel_13160\\3787471243.py:121: RuntimeWarning: invalid value encountered in scalar divide\n",
      "  wsim[j] = wsim[j] + (1 / ( i - k)) * np.dot(A,B)/(norm(A)*norm(B))\n",
      "C:\\Users\\STUDENT018\\AppData\\Local\\Temp\\ipykernel_13160\\3787471243.py:137: RuntimeWarning: invalid value encountered in scalar divide\n",
      "  wsim[j] = wsim[j] + (1 / ( i - k)) * np.dot(A,B)/(norm(A)*norm(B))\n",
      "C:\\Users\\STUDENT018\\AppData\\Local\\Temp\\ipykernel_13160\\3787471243.py:146: RuntimeWarning: invalid value encountered in scalar divide\n",
      "  return np.dot(A,B)/(norm(A)*norm(B))\n"
     ]
    },
    {
     "name": "stdout",
     "output_type": "stream",
     "text": [
      "[1.0, nan, nan, nan]\n",
      "[1.0, 0.6493621780178267, 0.6493621780178267, 1.0]\n",
      "[1.0, 0.3533130824845717, 0.3533130824845717, 1.0]\n",
      "[1.0, 0.5178727095430337, 0.5178727095430337, 1.0]\n"
     ]
    },
    {
     "name": "stderr",
     "output_type": "stream",
     "text": [
      "C:\\Users\\STUDENT018\\AppData\\Local\\Temp\\ipykernel_13160\\3787471243.py:121: RuntimeWarning: invalid value encountered in scalar divide\n",
      "  wsim[j] = wsim[j] + (1 / ( i - k)) * np.dot(A,B)/(norm(A)*norm(B))\n",
      "C:\\Users\\STUDENT018\\AppData\\Local\\Temp\\ipykernel_13160\\3787471243.py:137: RuntimeWarning: invalid value encountered in scalar divide\n",
      "  wsim[j] = wsim[j] + (1 / ( i - k)) * np.dot(A,B)/(norm(A)*norm(B))\n",
      "C:\\Users\\STUDENT018\\AppData\\Local\\Temp\\ipykernel_13160\\3787471243.py:146: RuntimeWarning: invalid value encountered in scalar divide\n",
      "  return np.dot(A,B)/(norm(A)*norm(B))\n"
     ]
    },
    {
     "name": "stdout",
     "output_type": "stream",
     "text": [
      "[1.0, nan, nan, nan]\n",
      "[1.0, 0.5246960397564979, 0.5246960397564979, 1.0]\n",
      "[1.0, 0.9007293688566316, 0.9007293688566316, 1.0]\n",
      "[1.0, 0.09099501122706047, 0.09099501122706047, 1.0]\n",
      "[1.0, 0.5001570802588926, 0.5001570802588926, 1.0]\n",
      "[1.0, 0.5900553044883788, 0.5900553044883788, 1.0]\n",
      "[1.0, 0.12634112439864217, 0.12634112439864217, 1.0]\n"
     ]
    },
    {
     "name": "stderr",
     "output_type": "stream",
     "text": [
      "C:\\Users\\STUDENT018\\AppData\\Local\\Temp\\ipykernel_13160\\3787471243.py:121: RuntimeWarning: invalid value encountered in scalar divide\n",
      "  wsim[j] = wsim[j] + (1 / ( i - k)) * np.dot(A,B)/(norm(A)*norm(B))\n",
      "C:\\Users\\STUDENT018\\AppData\\Local\\Temp\\ipykernel_13160\\3787471243.py:137: RuntimeWarning: invalid value encountered in scalar divide\n",
      "  wsim[j] = wsim[j] + (1 / ( i - k)) * np.dot(A,B)/(norm(A)*norm(B))\n",
      "C:\\Users\\STUDENT018\\AppData\\Local\\Temp\\ipykernel_13160\\3787471243.py:146: RuntimeWarning: invalid value encountered in scalar divide\n",
      "  return np.dot(A,B)/(norm(A)*norm(B))\n"
     ]
    },
    {
     "name": "stdout",
     "output_type": "stream",
     "text": [
      "[1.0, nan, nan, nan]\n"
     ]
    },
    {
     "name": "stderr",
     "output_type": "stream",
     "text": [
      "C:\\Users\\STUDENT018\\AppData\\Local\\Temp\\ipykernel_13160\\3787471243.py:121: RuntimeWarning: invalid value encountered in scalar divide\n",
      "  wsim[j] = wsim[j] + (1 / ( i - k)) * np.dot(A,B)/(norm(A)*norm(B))\n",
      "C:\\Users\\STUDENT018\\AppData\\Local\\Temp\\ipykernel_13160\\3787471243.py:137: RuntimeWarning: invalid value encountered in scalar divide\n",
      "  wsim[j] = wsim[j] + (1 / ( i - k)) * np.dot(A,B)/(norm(A)*norm(B))\n",
      "C:\\Users\\STUDENT018\\AppData\\Local\\Temp\\ipykernel_13160\\3787471243.py:146: RuntimeWarning: invalid value encountered in scalar divide\n",
      "  return np.dot(A,B)/(norm(A)*norm(B))\n"
     ]
    },
    {
     "name": "stdout",
     "output_type": "stream",
     "text": [
      "[1.0, nan, nan, nan]\n"
     ]
    },
    {
     "name": "stderr",
     "output_type": "stream",
     "text": [
      "C:\\Users\\STUDENT018\\AppData\\Local\\Temp\\ipykernel_13160\\3787471243.py:121: RuntimeWarning: invalid value encountered in scalar divide\n",
      "  wsim[j] = wsim[j] + (1 / ( i - k)) * np.dot(A,B)/(norm(A)*norm(B))\n",
      "C:\\Users\\STUDENT018\\AppData\\Local\\Temp\\ipykernel_13160\\3787471243.py:137: RuntimeWarning: invalid value encountered in scalar divide\n",
      "  wsim[j] = wsim[j] + (1 / ( i - k)) * np.dot(A,B)/(norm(A)*norm(B))\n",
      "C:\\Users\\STUDENT018\\AppData\\Local\\Temp\\ipykernel_13160\\3787471243.py:146: RuntimeWarning: invalid value encountered in scalar divide\n",
      "  return np.dot(A,B)/(norm(A)*norm(B))\n"
     ]
    },
    {
     "name": "stdout",
     "output_type": "stream",
     "text": [
      "[1.0, nan, nan, nan]\n",
      "[1.0, 0.6576343876033118, 0.6576343876033118, 1.0]\n",
      "[1.0, 0.27480604710142853, 0.27480604710142853, 1.0]\n",
      "[1.0, 0.5727520435266613, 0.5727520435266613, 1.0]\n"
     ]
    },
    {
     "name": "stderr",
     "output_type": "stream",
     "text": [
      "C:\\Users\\STUDENT018\\AppData\\Local\\Temp\\ipykernel_13160\\3787471243.py:121: RuntimeWarning: invalid value encountered in scalar divide\n",
      "  wsim[j] = wsim[j] + (1 / ( i - k)) * np.dot(A,B)/(norm(A)*norm(B))\n",
      "C:\\Users\\STUDENT018\\AppData\\Local\\Temp\\ipykernel_13160\\3787471243.py:137: RuntimeWarning: invalid value encountered in scalar divide\n",
      "  wsim[j] = wsim[j] + (1 / ( i - k)) * np.dot(A,B)/(norm(A)*norm(B))\n",
      "C:\\Users\\STUDENT018\\AppData\\Local\\Temp\\ipykernel_13160\\3787471243.py:146: RuntimeWarning: invalid value encountered in scalar divide\n",
      "  return np.dot(A,B)/(norm(A)*norm(B))\n"
     ]
    },
    {
     "name": "stdout",
     "output_type": "stream",
     "text": [
      "[1.0, nan, nan, nan]\n",
      "[1.0, 0.4199112037386615, 0.4199112037386615, 1.0]\n",
      "[1.0, 0.6388553719721647, 0.6388553719721647, 1.0]\n",
      "[1.0, 0.6328751472424606, 0.6328751472424606, 1.0]\n",
      "[1.0, 0.4695954938569517, 0.4695954938569517, 1.0]\n",
      "[1.0, 0.5099596428825643, 0.5099596428825643, 1.0]\n"
     ]
    },
    {
     "name": "stderr",
     "output_type": "stream",
     "text": [
      "C:\\Users\\STUDENT018\\AppData\\Local\\Temp\\ipykernel_13160\\3787471243.py:121: RuntimeWarning: invalid value encountered in scalar divide\n",
      "  wsim[j] = wsim[j] + (1 / ( i - k)) * np.dot(A,B)/(norm(A)*norm(B))\n",
      "C:\\Users\\STUDENT018\\AppData\\Local\\Temp\\ipykernel_13160\\3787471243.py:137: RuntimeWarning: invalid value encountered in scalar divide\n",
      "  wsim[j] = wsim[j] + (1 / ( i - k)) * np.dot(A,B)/(norm(A)*norm(B))\n",
      "C:\\Users\\STUDENT018\\AppData\\Local\\Temp\\ipykernel_13160\\3787471243.py:146: RuntimeWarning: invalid value encountered in scalar divide\n",
      "  return np.dot(A,B)/(norm(A)*norm(B))\n"
     ]
    },
    {
     "name": "stdout",
     "output_type": "stream",
     "text": [
      "[1.0, nan, nan, nan]\n",
      "[1.0, 0.46489078022859814, 0.46489078022859814, 1.0]\n"
     ]
    },
    {
     "name": "stderr",
     "output_type": "stream",
     "text": [
      "C:\\Users\\STUDENT018\\AppData\\Local\\Temp\\ipykernel_13160\\3787471243.py:121: RuntimeWarning: invalid value encountered in scalar divide\n",
      "  wsim[j] = wsim[j] + (1 / ( i - k)) * np.dot(A,B)/(norm(A)*norm(B))\n",
      "C:\\Users\\STUDENT018\\AppData\\Local\\Temp\\ipykernel_13160\\3787471243.py:137: RuntimeWarning: invalid value encountered in scalar divide\n",
      "  wsim[j] = wsim[j] + (1 / ( i - k)) * np.dot(A,B)/(norm(A)*norm(B))\n",
      "C:\\Users\\STUDENT018\\AppData\\Local\\Temp\\ipykernel_13160\\3787471243.py:146: RuntimeWarning: invalid value encountered in scalar divide\n",
      "  return np.dot(A,B)/(norm(A)*norm(B))\n"
     ]
    },
    {
     "name": "stdout",
     "output_type": "stream",
     "text": [
      "[1.0, nan, nan, nan]\n",
      "[1.0, 0.5546386047765698, 0.5546386047765698, 1.0]\n",
      "[1.0, 0.4071696885464872, 0.4071696885464872, 1.0]\n",
      "[1.0, 0.5192073847290813, 0.5192073847290813, 1.0]\n",
      "[1.0, 0.6727931566535376, 0.6727931566535376, 1.0]\n",
      "[1.0, 0.36299352330985, 0.36299352330985, 1.0]\n",
      "[1.0, 0.38049573736441666, 0.38049573736441666, 1.0]\n",
      "[1.0, 0.3933092615786393, 0.3933092615786393, 1.0]\n",
      "[1.0, 0.4735548570877567, 0.4735548570877567, 1.0]\n",
      "[1.0, 0.24630768659973853, 0.24630768659973853, 1.0]\n",
      "[1.0, 0.6926557854441661, 0.6926557854441661, 1.0]\n",
      "[1.0, 0.49438007194009354, 0.49438007194009354, 1.0]\n",
      "[1.0, 0.5026027764022738, 0.5026027764022738, 1.0]\n",
      "[1.0, 0.592952963572486, 0.592952963572486, 1.0]\n",
      "[1.0, 0.5520856792961812, 0.5520856792961812, 1.0]\n",
      "[1.0, 0.5394204451749561, 0.5394204451749561, 1.0]\n",
      "[1.0, 0.14712015282817817, 0.14712015282817817, 1.0]\n",
      "[1.0, 0.26560863297587495, 0.26560863297587495, 1.0]\n",
      "[1.0, 0.28963728021108526, 0.28963728021108526, 1.0]\n",
      "[1.0, 0.6019717414038382, 0.6019717414038382, 1.0]\n",
      "[1.0, 0.28354505546966396, 0.28354505546966396, 1.0]\n",
      "[1.0, 0.3465759715652271, 0.3465759715652271, 1.0]\n",
      "[1.0, 0.5621800492662599, 0.5621800492662599, 1.0]\n",
      "[1.0, 0.3305499736602211, 0.3305499736602211, 1.0]\n",
      "[1.0, 0.5004334397743975, 0.5004334397743975, 1.0]\n",
      "[1.0, 0.33752322118919037, 0.33752322118919037, 1.0]\n"
     ]
    },
    {
     "name": "stderr",
     "output_type": "stream",
     "text": [
      "C:\\Users\\STUDENT018\\AppData\\Local\\Temp\\ipykernel_13160\\3787471243.py:121: RuntimeWarning: invalid value encountered in scalar divide\n",
      "  wsim[j] = wsim[j] + (1 / ( i - k)) * np.dot(A,B)/(norm(A)*norm(B))\n",
      "C:\\Users\\STUDENT018\\AppData\\Local\\Temp\\ipykernel_13160\\3787471243.py:137: RuntimeWarning: invalid value encountered in scalar divide\n",
      "  wsim[j] = wsim[j] + (1 / ( i - k)) * np.dot(A,B)/(norm(A)*norm(B))\n",
      "C:\\Users\\STUDENT018\\AppData\\Local\\Temp\\ipykernel_13160\\3787471243.py:146: RuntimeWarning: invalid value encountered in scalar divide\n",
      "  return np.dot(A,B)/(norm(A)*norm(B))\n"
     ]
    },
    {
     "name": "stdout",
     "output_type": "stream",
     "text": [
      "[1.0, nan, nan, nan]\n",
      "[1.0, 0.2547083815673432, 0.2547083815673432, 1.0]\n",
      "[1.0, 0.39542909034995655, 0.39542909034995655, 1.0]\n",
      "[1.0, 0.48166361582719447, 0.48166361582719447, 1.0]\n",
      "[1.0, 0.5201068050022776, 0.5201068050022776, 1.0]\n",
      "[1.0, 0.5701834096908047, 0.5701834096908047, 1.0]\n",
      "[1.0, 0.35899294099914486, 0.35899294099914486, 1.0]\n",
      "[1.0, 0.4536605797703053, 0.4536605797703053, 1.0]\n",
      "[1.0, 0.3847663604769981, 0.3847663604769981, 1.0]\n",
      "[1.0, 0.4265279717594627, 0.4265279717594627, 1.0]\n",
      "[1.0, 0.4470527581458151, 0.4470527581458151, 1.0]\n",
      "[1.0, 0.49415063192383535, 0.49415063192383535, 1.0]\n",
      "[1.0, 0.5229233323119841, 0.5229233323119841, 1.0]\n",
      "[1.0, 0.5077128623369597, 0.5077128623369597, 1.0]\n",
      "[1.0, 0.7464267809852364, 0.7464267809852364, 1.0]\n",
      "[1.0, 0.08021781434016809, 0.08021781434016809, 1.0]\n",
      "[1.0, 0.5234751754993288, 0.5234751754993288, 1.0]\n",
      "[1.0, 0.40470439646450695, 0.40470439646450695, 1.0]\n",
      "[1.0, 0.4395643926965031, 0.4395643926965031, 1.0]\n",
      "[1.0, 0.4304586263752011, 0.4304586263752011, 1.0]\n"
     ]
    },
    {
     "name": "stderr",
     "output_type": "stream",
     "text": [
      "C:\\Users\\STUDENT018\\AppData\\Local\\Temp\\ipykernel_13160\\3787471243.py:121: RuntimeWarning: invalid value encountered in scalar divide\n",
      "  wsim[j] = wsim[j] + (1 / ( i - k)) * np.dot(A,B)/(norm(A)*norm(B))\n",
      "C:\\Users\\STUDENT018\\AppData\\Local\\Temp\\ipykernel_13160\\3787471243.py:137: RuntimeWarning: invalid value encountered in scalar divide\n",
      "  wsim[j] = wsim[j] + (1 / ( i - k)) * np.dot(A,B)/(norm(A)*norm(B))\n",
      "C:\\Users\\STUDENT018\\AppData\\Local\\Temp\\ipykernel_13160\\3787471243.py:146: RuntimeWarning: invalid value encountered in scalar divide\n",
      "  return np.dot(A,B)/(norm(A)*norm(B))\n"
     ]
    },
    {
     "name": "stdout",
     "output_type": "stream",
     "text": [
      "[1.0, nan, nan, nan]\n",
      "[1.0, 0.3481452770333316, 0.3481452770333316, 1.0]\n",
      "[1.0, 0.3592324783588365, 0.3592324783588365, 1.0]\n",
      "[1.0, 0.6614947134509603, 0.6614947134509603, 1.0]\n",
      "[1.0, 0.3592753109928177, 0.3592753109928177, 1.0]\n"
     ]
    },
    {
     "name": "stderr",
     "output_type": "stream",
     "text": [
      "C:\\Users\\STUDENT018\\AppData\\Local\\Temp\\ipykernel_13160\\3787471243.py:121: RuntimeWarning: invalid value encountered in scalar divide\n",
      "  wsim[j] = wsim[j] + (1 / ( i - k)) * np.dot(A,B)/(norm(A)*norm(B))\n",
      "C:\\Users\\STUDENT018\\AppData\\Local\\Temp\\ipykernel_13160\\3787471243.py:137: RuntimeWarning: invalid value encountered in scalar divide\n",
      "  wsim[j] = wsim[j] + (1 / ( i - k)) * np.dot(A,B)/(norm(A)*norm(B))\n",
      "C:\\Users\\STUDENT018\\AppData\\Local\\Temp\\ipykernel_13160\\3787471243.py:146: RuntimeWarning: invalid value encountered in scalar divide\n",
      "  return np.dot(A,B)/(norm(A)*norm(B))\n"
     ]
    },
    {
     "name": "stdout",
     "output_type": "stream",
     "text": [
      "[1.0, nan, nan, nan]\n",
      "[1.0, 0.469469247169551, 0.469469247169551, 1.0]\n",
      "[1.0, 0.4647326424123876, 0.4647326424123876, 1.0]\n",
      "[1.0, 0.5910260440990375, 0.5910260440990375, 1.0]\n",
      "[1.0, 0.543310894540697, 0.543310894540697, 1.0]\n",
      "[1.0, 0.09356708485706794, 0.09356708485706794, 1.0]\n",
      "[1.0, 0.4620442768136147, 0.4620442768136147, 1.0]\n"
     ]
    },
    {
     "name": "stderr",
     "output_type": "stream",
     "text": [
      "C:\\Users\\STUDENT018\\AppData\\Local\\Temp\\ipykernel_13160\\3787471243.py:121: RuntimeWarning: invalid value encountered in scalar divide\n",
      "  wsim[j] = wsim[j] + (1 / ( i - k)) * np.dot(A,B)/(norm(A)*norm(B))\n",
      "C:\\Users\\STUDENT018\\AppData\\Local\\Temp\\ipykernel_13160\\3787471243.py:137: RuntimeWarning: invalid value encountered in scalar divide\n",
      "  wsim[j] = wsim[j] + (1 / ( i - k)) * np.dot(A,B)/(norm(A)*norm(B))\n",
      "C:\\Users\\STUDENT018\\AppData\\Local\\Temp\\ipykernel_13160\\3787471243.py:146: RuntimeWarning: invalid value encountered in scalar divide\n",
      "  return np.dot(A,B)/(norm(A)*norm(B))\n"
     ]
    },
    {
     "name": "stdout",
     "output_type": "stream",
     "text": [
      "[1.0, nan, nan, nan]\n",
      "[1.0, 0.4635689107843808, 0.4635689107843808, 1.0]\n",
      "[1.0, 0.49627508154237476, 0.49627508154237476, 1.0]\n",
      "[1.0, 0.3462813965893146, 0.3462813965893146, 1.0]\n"
     ]
    },
    {
     "name": "stderr",
     "output_type": "stream",
     "text": [
      "C:\\Users\\STUDENT018\\AppData\\Local\\Temp\\ipykernel_13160\\3787471243.py:121: RuntimeWarning: invalid value encountered in scalar divide\n",
      "  wsim[j] = wsim[j] + (1 / ( i - k)) * np.dot(A,B)/(norm(A)*norm(B))\n",
      "C:\\Users\\STUDENT018\\AppData\\Local\\Temp\\ipykernel_13160\\3787471243.py:137: RuntimeWarning: invalid value encountered in scalar divide\n",
      "  wsim[j] = wsim[j] + (1 / ( i - k)) * np.dot(A,B)/(norm(A)*norm(B))\n",
      "C:\\Users\\STUDENT018\\AppData\\Local\\Temp\\ipykernel_13160\\3787471243.py:146: RuntimeWarning: invalid value encountered in scalar divide\n",
      "  return np.dot(A,B)/(norm(A)*norm(B))\n"
     ]
    },
    {
     "name": "stdout",
     "output_type": "stream",
     "text": [
      "[1.0, nan, nan, nan]\n",
      "[1.0, 0.37643345406339446, 0.37643345406339446, 1.0]\n",
      "[1.0, 0.5801135901899166, 0.5801135901899166, 1.0]\n",
      "[1.0, 0.41183234757382714, 0.41183234757382714, 1.0]\n",
      "[1.0, 0.3244582279209698, 0.3244582279209698, 1.0]\n",
      "[1.0, 0.15622501921888834, 0.15622501921888834, 1.0]\n",
      "[1.0, 0.1539927554315502, 0.1539927554315502, 1.0]\n",
      "[1.0, 0.30397912800571325, 0.30397912800571325, 1.0]\n",
      "[1.0, 0.5830951640838319, 0.5830951640838319, 1.0]\n",
      "[1.0, 0.4069054892105953, 0.4069054892105953, 1.0]\n",
      "[1.0, 0.2351430098353907, 0.2351430098353907, 1.0]\n",
      "[1.0, 0.33008178633717206, 0.33008178633717206, 1.0]\n",
      "[1.0, 0.637448229507038, 0.637448229507038, 1.0]\n",
      "[1.0, 0.3374302901055609, 0.3374302901055609, 1.0]\n",
      "[1.0, 0.5599279393365126, 0.5599279393365126, 1.0]\n",
      "[1.0, 0.38590794942560425, 0.38590794942560425, 1.0]\n",
      "[1.0, 0.31656849034005613, 0.31656849034005613, 1.0]\n",
      "[1.0, 0.4757431190990394, 0.4757431190990394, 1.0]\n",
      "[1.0, 0.386180100143907, 0.386180100143907, 1.0]\n",
      "[1.0, 0.7500600211874809, 0.7500600211874809, 1.0]\n",
      "[1.0, 0.7623081662979427, 0.7623081662979427, 1.0]\n",
      "[1.0, 0.4438779631679567, 0.4438779631679567, 1.0]\n",
      "[1.0, 0.3540148951390552, 0.3540148951390552, 1.0]\n",
      "[1.0, 0.22020420030307, 0.22020420030307, 1.0]\n",
      "[1.0, 0.45657078386866373, 0.45657078386866373, 1.0]\n",
      "[1.0, 0.3640764438223777, 0.3640764438223777, 1.0]\n",
      "[1.0, 0.6786523472366596, 0.6786523472366596, 1.0]\n",
      "[1.0, 0.533059441829502, 0.533059441829502, 1.0]\n",
      "[1.0, 0.45350107838657755, 0.45350107838657755, 1.0]\n",
      "[1.0, 0.5117965479622566, 0.5117965479622566, 1.0]\n",
      "[1.0, 0.6580997614923783, 0.6580997614923783, 1.0]\n",
      "[1.0, 0.3344224290382038, 0.3344224290382038, 1.0]\n",
      "[1.0, 0.522039669705722, 0.522039669705722, 1.0]\n",
      "[1.0, 0.18265574213534544, 0.18265574213534544, 1.0]\n",
      "[1.0, 0.4944034352717453, 0.4944034352717453, 1.0]\n",
      "[1.0, 0.34159144532788505, 0.34159144532788505, 1.0]\n",
      "[1.0, 0.44407837905999953, 0.44407837905999953, 1.0]\n",
      "[1.0, 0.4460892434641487, 0.4460892434641487, 1.0]\n",
      "[1.0, 0.7314253408870572, 0.7314253408870572, 1.0]\n",
      "[1.0, 0.3168592389398152, 0.3168592389398152, 1.0]\n",
      "[1.0, 0.26153099267526125, 0.26153099267526125, 1.0]\n",
      "[1.0, 0.4791085401536636, 0.4791085401536636, 1.0]\n",
      "[1.0, 0.37765723722381905, 0.37765723722381905, 1.0]\n",
      "[1.0, 0.31729510705265884, 0.31729510705265884, 1.0]\n"
     ]
    },
    {
     "name": "stderr",
     "output_type": "stream",
     "text": [
      "C:\\Users\\STUDENT018\\AppData\\Local\\Temp\\ipykernel_13160\\3787471243.py:121: RuntimeWarning: invalid value encountered in scalar divide\n",
      "  wsim[j] = wsim[j] + (1 / ( i - k)) * np.dot(A,B)/(norm(A)*norm(B))\n",
      "C:\\Users\\STUDENT018\\AppData\\Local\\Temp\\ipykernel_13160\\3787471243.py:137: RuntimeWarning: invalid value encountered in scalar divide\n",
      "  wsim[j] = wsim[j] + (1 / ( i - k)) * np.dot(A,B)/(norm(A)*norm(B))\n",
      "C:\\Users\\STUDENT018\\AppData\\Local\\Temp\\ipykernel_13160\\3787471243.py:146: RuntimeWarning: invalid value encountered in scalar divide\n",
      "  return np.dot(A,B)/(norm(A)*norm(B))\n"
     ]
    },
    {
     "name": "stdout",
     "output_type": "stream",
     "text": [
      "[1.0, nan, nan, nan]\n",
      "[1.0, 0.022547975342587928, 0.022547975342587928, 1.0]\n",
      "[1.0, 0.7790181698349886, 0.7790181698349886, 1.0]\n",
      "[1.0, 0.4268248812532193, 0.4268248812532193, 1.0]\n",
      "[1.0, 0.4559333226412701, 0.4559333226412701, 1.0]\n",
      "[1.0, 0.39327113016633153, 0.39327113016633153, 1.0]\n",
      "[1.0, 0.32719864884550337, 0.32719864884550337, 1.0]\n",
      "[1.0, 0.5079499508263186, 0.5079499508263186, 1.0]\n",
      "[1.0, 0.37602686416013426, 0.37602686416013426, 1.0]\n",
      "[1.0, 0.5923649307977086, 0.5923649307977086, 1.0]\n",
      "[1.0, 0.1542665548426333, 0.1542665548426333, 1.0]\n",
      "[1.0, 0.3886617767728824, 0.3886617767728824, 1.0]\n",
      "[1.0, 0.5867431234212226, 0.5867431234212226, 1.0]\n",
      "[1.0, 0.016156110468416633, 0.016156110468416633, 1.0]\n",
      "[1.0, 0.3977311993352086, 0.3977311993352086, 1.0]\n"
     ]
    },
    {
     "name": "stderr",
     "output_type": "stream",
     "text": [
      "C:\\Users\\STUDENT018\\AppData\\Local\\Temp\\ipykernel_13160\\3787471243.py:121: RuntimeWarning: invalid value encountered in scalar divide\n",
      "  wsim[j] = wsim[j] + (1 / ( i - k)) * np.dot(A,B)/(norm(A)*norm(B))\n",
      "C:\\Users\\STUDENT018\\AppData\\Local\\Temp\\ipykernel_13160\\3787471243.py:137: RuntimeWarning: invalid value encountered in scalar divide\n",
      "  wsim[j] = wsim[j] + (1 / ( i - k)) * np.dot(A,B)/(norm(A)*norm(B))\n",
      "C:\\Users\\STUDENT018\\AppData\\Local\\Temp\\ipykernel_13160\\3787471243.py:146: RuntimeWarning: invalid value encountered in scalar divide\n",
      "  return np.dot(A,B)/(norm(A)*norm(B))\n"
     ]
    },
    {
     "name": "stdout",
     "output_type": "stream",
     "text": [
      "[1.0, nan, nan, nan]\n",
      "[1.0, 0.41238445696193454, 0.41238445696193454, 1.0]\n",
      "[1.0, 0.29432352729486233, 0.29432352729486233, 1.0]\n",
      "[1.0, 0.4315524033834781, 0.4315524033834781, 1.0]\n",
      "[1.0, 0.6838280508421442, 0.6838280508421442, 1.0]\n"
     ]
    },
    {
     "name": "stderr",
     "output_type": "stream",
     "text": [
      "C:\\Users\\STUDENT018\\AppData\\Local\\Temp\\ipykernel_13160\\3787471243.py:121: RuntimeWarning: invalid value encountered in scalar divide\n",
      "  wsim[j] = wsim[j] + (1 / ( i - k)) * np.dot(A,B)/(norm(A)*norm(B))\n",
      "C:\\Users\\STUDENT018\\AppData\\Local\\Temp\\ipykernel_13160\\3787471243.py:137: RuntimeWarning: invalid value encountered in scalar divide\n",
      "  wsim[j] = wsim[j] + (1 / ( i - k)) * np.dot(A,B)/(norm(A)*norm(B))\n",
      "C:\\Users\\STUDENT018\\AppData\\Local\\Temp\\ipykernel_13160\\3787471243.py:146: RuntimeWarning: invalid value encountered in scalar divide\n",
      "  return np.dot(A,B)/(norm(A)*norm(B))\n"
     ]
    },
    {
     "name": "stdout",
     "output_type": "stream",
     "text": [
      "[1.0, nan, nan, nan]\n",
      "[1.0, 0.4649275356043637, 0.4649275356043637, 1.0]\n",
      "[1.0, 0.4554533343504752, 0.4554533343504752, 1.0]\n",
      "[1.0, 0.33542340436657564, 0.33542340436657564, 1.0]\n",
      "[1.0, 0.7110774666842862, 0.7110774666842862, 1.0]\n",
      "[1.0, 0.3029604661842636, 0.3029604661842636, 1.0]\n",
      "[1.0, 0.5428428306353635, 0.5428428306353635, 1.0]\n",
      "[1.0, 0.6435440845700184, 0.6435440845700184, 1.0]\n",
      "[1.0, 0.7586950633874785, 0.7586950633874785, 1.0]\n",
      "[1.0, 0.401797030391749, 0.401797030391749, 1.0]\n",
      "[1.0, 0.3491891244682541, 0.3491891244682541, 1.0]\n",
      "[1.0, 0.3489858666864675, 0.3489858666864675, 1.0]\n",
      "[1.0, 0.5034424951739178, 0.5034424951739178, 1.0]\n",
      "[1.0, 0.6954098666039286, 0.6954098666039286, 1.0]\n",
      "[1.0, 0.2257051459534539, 0.2257051459534539, 1.0]\n",
      "[1.0, 0.5467702024720575, 0.5467702024720575, 1.0]\n",
      "[1.0, 0.06650861013385771, 0.06650861013385771, 1.0]\n",
      "[1.0, 0.536209324239096, 0.536209324239096, 1.0]\n",
      "[1.0, 0.44681497575666695, 0.44681497575666695, 1.0]\n",
      "[1.0, 0.28225665550803797, 0.28225665550803797, 1.0]\n",
      "[1.0, 0.2921483299251757, 0.2921483299251757, 1.0]\n",
      "[1.0, 0.40976946062564745, 0.40976946062564745, 1.0]\n",
      "[1.0, 0.44284220189157486, 0.44284220189157486, 1.0]\n",
      "[1.0, 0.24608184617634424, 0.24608184617634424, 1.0]\n",
      "[1.0, 0.5816543072394554, 0.5816543072394554, 1.0]\n",
      "[1.0, 0.4731778611886872, 0.4731778611886872, 1.0]\n",
      "[1.0, 0.20349605646699018, 0.20349605646699018, 1.0]\n",
      "[1.0, 0.39655900638572594, 0.39655900638572594, 1.0]\n",
      "[1.0, 0.570098768167939, 0.570098768167939, 1.0]\n",
      "[1.0, 0.4976294295647742, 0.4976294295647742, 1.0]\n"
     ]
    },
    {
     "name": "stderr",
     "output_type": "stream",
     "text": [
      "C:\\Users\\STUDENT018\\AppData\\Local\\Temp\\ipykernel_13160\\3787471243.py:121: RuntimeWarning: invalid value encountered in scalar divide\n",
      "  wsim[j] = wsim[j] + (1 / ( i - k)) * np.dot(A,B)/(norm(A)*norm(B))\n",
      "C:\\Users\\STUDENT018\\AppData\\Local\\Temp\\ipykernel_13160\\3787471243.py:137: RuntimeWarning: invalid value encountered in scalar divide\n",
      "  wsim[j] = wsim[j] + (1 / ( i - k)) * np.dot(A,B)/(norm(A)*norm(B))\n",
      "C:\\Users\\STUDENT018\\AppData\\Local\\Temp\\ipykernel_13160\\3787471243.py:146: RuntimeWarning: invalid value encountered in scalar divide\n",
      "  return np.dot(A,B)/(norm(A)*norm(B))\n"
     ]
    },
    {
     "name": "stdout",
     "output_type": "stream",
     "text": [
      "[1.0, nan, nan, nan]\n",
      "[1.0, 0.62839682320855, 0.62839682320855, 1.0]\n",
      "[1.0, 0.48810215470427204, 0.48810215470427204, 1.0]\n",
      "[1.0, 0.5003080045078905, 0.5003080045078905, 1.0]\n"
     ]
    },
    {
     "name": "stderr",
     "output_type": "stream",
     "text": [
      "C:\\Users\\STUDENT018\\AppData\\Local\\Temp\\ipykernel_13160\\3787471243.py:121: RuntimeWarning: invalid value encountered in scalar divide\n",
      "  wsim[j] = wsim[j] + (1 / ( i - k)) * np.dot(A,B)/(norm(A)*norm(B))\n",
      "C:\\Users\\STUDENT018\\AppData\\Local\\Temp\\ipykernel_13160\\3787471243.py:137: RuntimeWarning: invalid value encountered in scalar divide\n",
      "  wsim[j] = wsim[j] + (1 / ( i - k)) * np.dot(A,B)/(norm(A)*norm(B))\n",
      "C:\\Users\\STUDENT018\\AppData\\Local\\Temp\\ipykernel_13160\\3787471243.py:146: RuntimeWarning: invalid value encountered in scalar divide\n",
      "  return np.dot(A,B)/(norm(A)*norm(B))\n"
     ]
    },
    {
     "name": "stdout",
     "output_type": "stream",
     "text": [
      "[1.0, nan, nan, nan]\n",
      "[1.0, 0.43995999691642035, 0.43995999691642035, 1.0]\n",
      "[1.0, 0.6646441011981524, 0.6646441011981524, 1.0]\n",
      "[1.0, 0.6163428710458432, 0.6163428710458432, 1.0]\n",
      "[1.0, 0.43826319989708934, 0.43826319989708934, 1.0]\n",
      "[1.0, 0.7508630787260107, 0.7508630787260107, 1.0]\n",
      "[1.0, 0.3985655951823983, 0.3985655951823983, 1.0]\n",
      "[1.0, 0.6087239148241909, 0.6087239148241909, 1.0]\n",
      "[1.0, 0.3443121599629543, 0.3443121599629543, 1.0]\n",
      "[1.0, 0.5612328771353665, 0.5612328771353665, 1.0]\n",
      "[1.0, 0.5315366204439637, 0.5315366204439637, 1.0]\n",
      "[1.0, 0.6244083993113531, 0.6244083993113531, 1.0]\n",
      "[1.0, 0.6173487302641403, 0.6173487302641403, 1.0]\n",
      "[1.0, 0.6283282025648211, 0.6283282025648211, 1.0]\n",
      "[1.0, 0.3163579682012302, 0.3163579682012302, 1.0]\n",
      "[1.0, 0.8767189004458988, 0.8767189004458988, 1.0]\n",
      "[1.0, 0.684864545870216, 0.684864545870216, 1.0]\n",
      "[1.0, 0.5288744264649949, 0.5288744264649949, 1.0]\n",
      "[1.0, 0.6526987110639214, 0.6526987110639214, 1.0]\n",
      "[1.0, 0.7712978485628373, 0.7712978485628373, 1.0]\n",
      "[1.0, 0.7196671014210881, 0.7196671014210881, 1.0]\n"
     ]
    },
    {
     "name": "stderr",
     "output_type": "stream",
     "text": [
      "C:\\Users\\STUDENT018\\AppData\\Local\\Temp\\ipykernel_13160\\3787471243.py:121: RuntimeWarning: invalid value encountered in scalar divide\n",
      "  wsim[j] = wsim[j] + (1 / ( i - k)) * np.dot(A,B)/(norm(A)*norm(B))\n",
      "C:\\Users\\STUDENT018\\AppData\\Local\\Temp\\ipykernel_13160\\3787471243.py:137: RuntimeWarning: invalid value encountered in scalar divide\n",
      "  wsim[j] = wsim[j] + (1 / ( i - k)) * np.dot(A,B)/(norm(A)*norm(B))\n",
      "C:\\Users\\STUDENT018\\AppData\\Local\\Temp\\ipykernel_13160\\3787471243.py:146: RuntimeWarning: invalid value encountered in scalar divide\n",
      "  return np.dot(A,B)/(norm(A)*norm(B))\n"
     ]
    },
    {
     "name": "stdout",
     "output_type": "stream",
     "text": [
      "[1.0, nan, nan, nan]\n",
      "[1.0, 0.5479806050999753, 0.5479806050999753, 1.0]\n",
      "[1.0, 0.13011128755147683, 0.13011128755147683, 1.0]\n",
      "[1.0, 0.653617513870285, 0.653617513870285, 1.0]\n",
      "[1.0, 0.4085516814362204, 0.4085516814362204, 1.0]\n",
      "[1.0, 0.41716726498038015, 0.41716726498038015, 1.0]\n",
      "[1.0, 0.44593842239584747, 0.44593842239584747, 1.0]\n",
      "[1.0, 0.5176930598693008, 0.5176930598693008, 1.0]\n",
      "[1.0, 0.4459705143128717, 0.4459705143128717, 1.0]\n",
      "[1.0, 0.5856269883956862, 0.5856269883956862, 1.0]\n",
      "[1.0, 0.6381952233722311, 0.6381952233722311, 1.0]\n",
      "[1.0, 0.3995432422839111, 0.3995432422839111, 1.0]\n",
      "[1.0, 0.5943182163838453, 0.5943182163838453, 1.0]\n",
      "[1.0, 0.3786781566838025, 0.3786781566838025, 1.0]\n",
      "[1.0, 0.49171330357164117, 0.49171330357164117, 1.0]\n",
      "[1.0, 0.8119372668552195, 0.8119372668552195, 1.0]\n",
      "[1.0, 0.32325310702125915, 0.32325310702125915, 1.0]\n",
      "[1.0, 0.5339971725497137, 0.5339971725497137, 1.0]\n",
      "[1.0, 0.32339932540933575, 0.32339932540933575, 1.0]\n",
      "[1.0, 0.39712923641228365, 0.39712923641228365, 1.0]\n",
      "[1.0, 0.5328444325391458, 0.5328444325391458, 1.0]\n",
      "[1.0, 0.3431026052721842, 0.3431026052721842, 1.0]\n"
     ]
    },
    {
     "name": "stderr",
     "output_type": "stream",
     "text": [
      "C:\\Users\\STUDENT018\\AppData\\Local\\Temp\\ipykernel_13160\\3787471243.py:121: RuntimeWarning: invalid value encountered in scalar divide\n",
      "  wsim[j] = wsim[j] + (1 / ( i - k)) * np.dot(A,B)/(norm(A)*norm(B))\n",
      "C:\\Users\\STUDENT018\\AppData\\Local\\Temp\\ipykernel_13160\\3787471243.py:137: RuntimeWarning: invalid value encountered in scalar divide\n",
      "  wsim[j] = wsim[j] + (1 / ( i - k)) * np.dot(A,B)/(norm(A)*norm(B))\n",
      "C:\\Users\\STUDENT018\\AppData\\Local\\Temp\\ipykernel_13160\\3787471243.py:146: RuntimeWarning: invalid value encountered in scalar divide\n",
      "  return np.dot(A,B)/(norm(A)*norm(B))\n"
     ]
    },
    {
     "name": "stdout",
     "output_type": "stream",
     "text": [
      "[1.0, nan, nan, nan]\n",
      "[1.0, 0.5373970665055444, 0.5373970665055444, 1.0]\n",
      "[1.0, 0.4217267602084767, 0.4217267602084767, 1.0]\n",
      "[1.0, 0.12484464865386859, 0.12484464865386859, 1.0]\n",
      "[1.0, 0.3070161648841224, 0.3070161648841224, 1.0]\n",
      "[1.0, 0.6229382386371565, 0.6229382386371565, 1.0]\n",
      "[1.0, 0.6597525440794169, 0.6597525440794169, 1.0]\n",
      "[1.0, 0.47319719444157166, 0.47319719444157166, 1.0]\n",
      "[1.0, 0.5202249864864905, 0.5202249864864905, 1.0]\n",
      "[1.0, 0.7271790460276749, 0.7271790460276749, 1.0]\n",
      "[1.0, 0.7841974436212978, 0.7841974436212978, 1.0]\n",
      "[1.0, 0.4396242352022779, 0.4396242352022779, 1.0]\n",
      "[1.0, 0.5420261490110961, 0.5420261490110961, 1.0]\n",
      "[1.0, 0.34189329669996105, 0.34189329669996105, 1.0]\n",
      "[1.0, 0.4396878933088404, 0.4396878933088404, 1.0]\n",
      "[1.0, 0.22460400697659072, 0.22460400697659072, 1.0]\n",
      "[1.0, 0.4746676742648577, 0.4746676742648577, 1.0]\n",
      "[1.0, 0.21669254305128294, 0.21669254305128294, 1.0]\n",
      "[1.0, 0.3790480037088044, 0.3790480037088044, 1.0]\n",
      "[1.0, 0.6281810954282805, 0.6281810954282805, 1.0]\n",
      "[1.0, 0.462831767516839, 0.462831767516839, 1.0]\n",
      "[1.0, 0.7255705218315761, 0.7255705218315761, 1.0]\n",
      "[1.0, 0.438936872220031, 0.438936872220031, 1.0]\n",
      "[1.0, 0.8408523811079122, 0.8408523811079122, 1.0]\n"
     ]
    },
    {
     "name": "stderr",
     "output_type": "stream",
     "text": [
      "C:\\Users\\STUDENT018\\AppData\\Local\\Temp\\ipykernel_13160\\3787471243.py:121: RuntimeWarning: invalid value encountered in scalar divide\n",
      "  wsim[j] = wsim[j] + (1 / ( i - k)) * np.dot(A,B)/(norm(A)*norm(B))\n",
      "C:\\Users\\STUDENT018\\AppData\\Local\\Temp\\ipykernel_13160\\3787471243.py:137: RuntimeWarning: invalid value encountered in scalar divide\n",
      "  wsim[j] = wsim[j] + (1 / ( i - k)) * np.dot(A,B)/(norm(A)*norm(B))\n",
      "C:\\Users\\STUDENT018\\AppData\\Local\\Temp\\ipykernel_13160\\3787471243.py:146: RuntimeWarning: invalid value encountered in scalar divide\n",
      "  return np.dot(A,B)/(norm(A)*norm(B))\n"
     ]
    },
    {
     "name": "stdout",
     "output_type": "stream",
     "text": [
      "[1.0, nan, nan, nan]\n"
     ]
    },
    {
     "name": "stderr",
     "output_type": "stream",
     "text": [
      "C:\\Users\\STUDENT018\\AppData\\Local\\Temp\\ipykernel_13160\\3787471243.py:121: RuntimeWarning: invalid value encountered in scalar divide\n",
      "  wsim[j] = wsim[j] + (1 / ( i - k)) * np.dot(A,B)/(norm(A)*norm(B))\n",
      "C:\\Users\\STUDENT018\\AppData\\Local\\Temp\\ipykernel_13160\\3787471243.py:137: RuntimeWarning: invalid value encountered in scalar divide\n",
      "  wsim[j] = wsim[j] + (1 / ( i - k)) * np.dot(A,B)/(norm(A)*norm(B))\n",
      "C:\\Users\\STUDENT018\\AppData\\Local\\Temp\\ipykernel_13160\\3787471243.py:146: RuntimeWarning: invalid value encountered in scalar divide\n",
      "  return np.dot(A,B)/(norm(A)*norm(B))\n"
     ]
    },
    {
     "name": "stdout",
     "output_type": "stream",
     "text": [
      "[1.0, nan, nan, nan]\n",
      "[1.0, 0.5655553194635207, 0.5655553194635207, 1.0]\n",
      "[1.0, 0.486944112017211, 0.486944112017211, 1.0]\n",
      "[1.0, 0.5937990576096459, 0.5937990576096459, 1.0]\n",
      "[1.0, 0.4285048299104247, 0.4285048299104247, 1.0]\n"
     ]
    },
    {
     "name": "stderr",
     "output_type": "stream",
     "text": [
      "C:\\Users\\STUDENT018\\AppData\\Local\\Temp\\ipykernel_13160\\3787471243.py:121: RuntimeWarning: invalid value encountered in scalar divide\n",
      "  wsim[j] = wsim[j] + (1 / ( i - k)) * np.dot(A,B)/(norm(A)*norm(B))\n",
      "C:\\Users\\STUDENT018\\AppData\\Local\\Temp\\ipykernel_13160\\3787471243.py:137: RuntimeWarning: invalid value encountered in scalar divide\n",
      "  wsim[j] = wsim[j] + (1 / ( i - k)) * np.dot(A,B)/(norm(A)*norm(B))\n",
      "C:\\Users\\STUDENT018\\AppData\\Local\\Temp\\ipykernel_13160\\3787471243.py:146: RuntimeWarning: invalid value encountered in scalar divide\n",
      "  return np.dot(A,B)/(norm(A)*norm(B))\n"
     ]
    },
    {
     "name": "stdout",
     "output_type": "stream",
     "text": [
      "[1.0, nan, nan, nan]\n",
      "[1.0, 0.5810940433538169, 0.5810940433538169, 1.0]\n",
      "[1.0, 0.5959913133030195, 0.5959913133030195, 1.0]\n",
      "[1.0, 0.6866511859311843, 0.6866511859311843, 1.0]\n",
      "[1.0, 0.26849676127580313, 0.26849676127580313, 1.0]\n",
      "[1.0, 0.41283531077658525, 0.41283531077658525, 1.0]\n"
     ]
    },
    {
     "name": "stderr",
     "output_type": "stream",
     "text": [
      "C:\\Users\\STUDENT018\\AppData\\Local\\Temp\\ipykernel_13160\\3787471243.py:121: RuntimeWarning: invalid value encountered in scalar divide\n",
      "  wsim[j] = wsim[j] + (1 / ( i - k)) * np.dot(A,B)/(norm(A)*norm(B))\n",
      "C:\\Users\\STUDENT018\\AppData\\Local\\Temp\\ipykernel_13160\\3787471243.py:137: RuntimeWarning: invalid value encountered in scalar divide\n",
      "  wsim[j] = wsim[j] + (1 / ( i - k)) * np.dot(A,B)/(norm(A)*norm(B))\n",
      "C:\\Users\\STUDENT018\\AppData\\Local\\Temp\\ipykernel_13160\\3787471243.py:146: RuntimeWarning: invalid value encountered in scalar divide\n",
      "  return np.dot(A,B)/(norm(A)*norm(B))\n"
     ]
    },
    {
     "name": "stdout",
     "output_type": "stream",
     "text": [
      "[1.0, nan, nan, nan]\n",
      "[1.0, 0.22300711411676, 0.22300711411676, 1.0]\n",
      "[1.0, 0.6954731707608192, 0.6954731707608192, 1.0]\n",
      "[1.0, 0.5961277601784251, 0.5961277601784251, 1.0]\n",
      "[1.0, 0.644618368553654, 0.644618368553654, 1.0]\n",
      "[1.0, 0.20274789933369805, 0.20274789933369805, 1.0]\n",
      "[1.0, 0.653497767921873, 0.653497767921873, 1.0]\n",
      "[1.0, 0.46697286301630797, 0.46697286301630797, 1.0]\n",
      "[1.0, 0.39407191458130164, 0.39407191458130164, 1.0]\n",
      "[1.0, 0.32923924811451755, 0.32923924811451755, 1.0]\n"
     ]
    },
    {
     "name": "stderr",
     "output_type": "stream",
     "text": [
      "C:\\Users\\STUDENT018\\AppData\\Local\\Temp\\ipykernel_13160\\3787471243.py:121: RuntimeWarning: invalid value encountered in scalar divide\n",
      "  wsim[j] = wsim[j] + (1 / ( i - k)) * np.dot(A,B)/(norm(A)*norm(B))\n",
      "C:\\Users\\STUDENT018\\AppData\\Local\\Temp\\ipykernel_13160\\3787471243.py:137: RuntimeWarning: invalid value encountered in scalar divide\n",
      "  wsim[j] = wsim[j] + (1 / ( i - k)) * np.dot(A,B)/(norm(A)*norm(B))\n",
      "C:\\Users\\STUDENT018\\AppData\\Local\\Temp\\ipykernel_13160\\3787471243.py:146: RuntimeWarning: invalid value encountered in scalar divide\n",
      "  return np.dot(A,B)/(norm(A)*norm(B))\n"
     ]
    },
    {
     "name": "stdout",
     "output_type": "stream",
     "text": [
      "[1.0, nan, nan, nan]\n",
      "[1.0, 0.29263757023030457, 0.29263757023030457, 1.0]\n"
     ]
    },
    {
     "name": "stderr",
     "output_type": "stream",
     "text": [
      "C:\\Users\\STUDENT018\\AppData\\Local\\Temp\\ipykernel_13160\\3787471243.py:121: RuntimeWarning: invalid value encountered in scalar divide\n",
      "  wsim[j] = wsim[j] + (1 / ( i - k)) * np.dot(A,B)/(norm(A)*norm(B))\n",
      "C:\\Users\\STUDENT018\\AppData\\Local\\Temp\\ipykernel_13160\\3787471243.py:137: RuntimeWarning: invalid value encountered in scalar divide\n",
      "  wsim[j] = wsim[j] + (1 / ( i - k)) * np.dot(A,B)/(norm(A)*norm(B))\n",
      "C:\\Users\\STUDENT018\\AppData\\Local\\Temp\\ipykernel_13160\\3787471243.py:146: RuntimeWarning: invalid value encountered in scalar divide\n",
      "  return np.dot(A,B)/(norm(A)*norm(B))\n"
     ]
    },
    {
     "name": "stdout",
     "output_type": "stream",
     "text": [
      "[1.0, nan, nan, nan]\n"
     ]
    },
    {
     "name": "stderr",
     "output_type": "stream",
     "text": [
      "C:\\Users\\STUDENT018\\AppData\\Local\\Temp\\ipykernel_13160\\3787471243.py:121: RuntimeWarning: invalid value encountered in scalar divide\n",
      "  wsim[j] = wsim[j] + (1 / ( i - k)) * np.dot(A,B)/(norm(A)*norm(B))\n",
      "C:\\Users\\STUDENT018\\AppData\\Local\\Temp\\ipykernel_13160\\3787471243.py:137: RuntimeWarning: invalid value encountered in scalar divide\n",
      "  wsim[j] = wsim[j] + (1 / ( i - k)) * np.dot(A,B)/(norm(A)*norm(B))\n",
      "C:\\Users\\STUDENT018\\AppData\\Local\\Temp\\ipykernel_13160\\3787471243.py:146: RuntimeWarning: invalid value encountered in scalar divide\n",
      "  return np.dot(A,B)/(norm(A)*norm(B))\n"
     ]
    },
    {
     "name": "stdout",
     "output_type": "stream",
     "text": [
      "[1.0, nan, nan, nan]\n"
     ]
    },
    {
     "name": "stderr",
     "output_type": "stream",
     "text": [
      "C:\\Users\\STUDENT018\\AppData\\Local\\Temp\\ipykernel_13160\\3787471243.py:121: RuntimeWarning: invalid value encountered in scalar divide\n",
      "  wsim[j] = wsim[j] + (1 / ( i - k)) * np.dot(A,B)/(norm(A)*norm(B))\n",
      "C:\\Users\\STUDENT018\\AppData\\Local\\Temp\\ipykernel_13160\\3787471243.py:137: RuntimeWarning: invalid value encountered in scalar divide\n",
      "  wsim[j] = wsim[j] + (1 / ( i - k)) * np.dot(A,B)/(norm(A)*norm(B))\n",
      "C:\\Users\\STUDENT018\\AppData\\Local\\Temp\\ipykernel_13160\\3787471243.py:146: RuntimeWarning: invalid value encountered in scalar divide\n",
      "  return np.dot(A,B)/(norm(A)*norm(B))\n"
     ]
    },
    {
     "name": "stdout",
     "output_type": "stream",
     "text": [
      "[1.0, nan, nan, nan]\n",
      "[1.0, 0.45205545879949494, 0.45205545879949494, 1.0]\n"
     ]
    },
    {
     "name": "stderr",
     "output_type": "stream",
     "text": [
      "C:\\Users\\STUDENT018\\AppData\\Local\\Temp\\ipykernel_13160\\3787471243.py:121: RuntimeWarning: invalid value encountered in scalar divide\n",
      "  wsim[j] = wsim[j] + (1 / ( i - k)) * np.dot(A,B)/(norm(A)*norm(B))\n",
      "C:\\Users\\STUDENT018\\AppData\\Local\\Temp\\ipykernel_13160\\3787471243.py:137: RuntimeWarning: invalid value encountered in scalar divide\n",
      "  wsim[j] = wsim[j] + (1 / ( i - k)) * np.dot(A,B)/(norm(A)*norm(B))\n",
      "C:\\Users\\STUDENT018\\AppData\\Local\\Temp\\ipykernel_13160\\3787471243.py:146: RuntimeWarning: invalid value encountered in scalar divide\n",
      "  return np.dot(A,B)/(norm(A)*norm(B))\n"
     ]
    },
    {
     "name": "stdout",
     "output_type": "stream",
     "text": [
      "[1.0, nan, nan, nan]\n",
      "[1.0, 0.4340876119310739, 0.4340876119310739, 1.0]\n",
      "[1.0, 0.6580814935277219, 0.6580814935277219, 1.0]\n",
      "[1.0, 0.5665666974025194, 0.5665666974025194, 1.0]\n",
      "[1.0, 0.4909967809849694, 0.4909967809849694, 1.0]\n",
      "[1.0, 0.4366846626328211, 0.4366846626328211, 1.0]\n",
      "[1.0, 0.4309066569913421, 0.4309066569913421, 1.0]\n",
      "[1.0, 0.49222514729919753, 0.49222514729919753, 1.0]\n"
     ]
    },
    {
     "name": "stderr",
     "output_type": "stream",
     "text": [
      "C:\\Users\\STUDENT018\\AppData\\Local\\Temp\\ipykernel_13160\\3787471243.py:121: RuntimeWarning: invalid value encountered in scalar divide\n",
      "  wsim[j] = wsim[j] + (1 / ( i - k)) * np.dot(A,B)/(norm(A)*norm(B))\n",
      "C:\\Users\\STUDENT018\\AppData\\Local\\Temp\\ipykernel_13160\\3787471243.py:137: RuntimeWarning: invalid value encountered in scalar divide\n",
      "  wsim[j] = wsim[j] + (1 / ( i - k)) * np.dot(A,B)/(norm(A)*norm(B))\n",
      "C:\\Users\\STUDENT018\\AppData\\Local\\Temp\\ipykernel_13160\\3787471243.py:146: RuntimeWarning: invalid value encountered in scalar divide\n",
      "  return np.dot(A,B)/(norm(A)*norm(B))\n"
     ]
    },
    {
     "name": "stdout",
     "output_type": "stream",
     "text": [
      "[1.0, nan, nan, nan]\n",
      "[1.0, 0.371051855740487, 0.371051855740487, 1.0]\n"
     ]
    },
    {
     "name": "stderr",
     "output_type": "stream",
     "text": [
      "C:\\Users\\STUDENT018\\AppData\\Local\\Temp\\ipykernel_13160\\3787471243.py:121: RuntimeWarning: invalid value encountered in scalar divide\n",
      "  wsim[j] = wsim[j] + (1 / ( i - k)) * np.dot(A,B)/(norm(A)*norm(B))\n",
      "C:\\Users\\STUDENT018\\AppData\\Local\\Temp\\ipykernel_13160\\3787471243.py:137: RuntimeWarning: invalid value encountered in scalar divide\n",
      "  wsim[j] = wsim[j] + (1 / ( i - k)) * np.dot(A,B)/(norm(A)*norm(B))\n",
      "C:\\Users\\STUDENT018\\AppData\\Local\\Temp\\ipykernel_13160\\3787471243.py:146: RuntimeWarning: invalid value encountered in scalar divide\n",
      "  return np.dot(A,B)/(norm(A)*norm(B))\n"
     ]
    },
    {
     "name": "stdout",
     "output_type": "stream",
     "text": [
      "[1.0, nan, nan, nan]\n",
      "[1.0, 0.5371385175486292, 0.5371385175486292, 1.0]\n",
      "[1.0, 0.5448502783686037, 0.5448502783686037, 1.0]\n",
      "[1.0, 0.5924315725990248, 0.5924315725990248, 1.0]\n"
     ]
    },
    {
     "name": "stderr",
     "output_type": "stream",
     "text": [
      "C:\\Users\\STUDENT018\\AppData\\Local\\Temp\\ipykernel_13160\\3787471243.py:121: RuntimeWarning: invalid value encountered in scalar divide\n",
      "  wsim[j] = wsim[j] + (1 / ( i - k)) * np.dot(A,B)/(norm(A)*norm(B))\n",
      "C:\\Users\\STUDENT018\\AppData\\Local\\Temp\\ipykernel_13160\\3787471243.py:137: RuntimeWarning: invalid value encountered in scalar divide\n",
      "  wsim[j] = wsim[j] + (1 / ( i - k)) * np.dot(A,B)/(norm(A)*norm(B))\n",
      "C:\\Users\\STUDENT018\\AppData\\Local\\Temp\\ipykernel_13160\\3787471243.py:146: RuntimeWarning: invalid value encountered in scalar divide\n",
      "  return np.dot(A,B)/(norm(A)*norm(B))\n"
     ]
    },
    {
     "name": "stdout",
     "output_type": "stream",
     "text": [
      "[1.0, nan, nan, nan]\n"
     ]
    },
    {
     "name": "stderr",
     "output_type": "stream",
     "text": [
      "C:\\Users\\STUDENT018\\AppData\\Local\\Temp\\ipykernel_13160\\3787471243.py:121: RuntimeWarning: invalid value encountered in scalar divide\n",
      "  wsim[j] = wsim[j] + (1 / ( i - k)) * np.dot(A,B)/(norm(A)*norm(B))\n",
      "C:\\Users\\STUDENT018\\AppData\\Local\\Temp\\ipykernel_13160\\3787471243.py:137: RuntimeWarning: invalid value encountered in scalar divide\n",
      "  wsim[j] = wsim[j] + (1 / ( i - k)) * np.dot(A,B)/(norm(A)*norm(B))\n",
      "C:\\Users\\STUDENT018\\AppData\\Local\\Temp\\ipykernel_13160\\3787471243.py:146: RuntimeWarning: invalid value encountered in scalar divide\n",
      "  return np.dot(A,B)/(norm(A)*norm(B))\n"
     ]
    },
    {
     "name": "stdout",
     "output_type": "stream",
     "text": [
      "[1.0, nan, nan, nan]\n",
      "[1.0, 0.3360206200989363, 0.3360206200989363, 1.0]\n",
      "[1.0, 0.0619666657118024, 0.0619666657118024, 1.0]\n",
      "[1.0, 0.8447904904684281, 0.8447904904684281, 1.0]\n",
      "[1.0, 0.5165742318760637, 0.5165742318760637, 1.0]\n",
      "[1.0, 0.7393366721388089, 0.7393366721388089, 1.0]\n",
      "[1.0, 0.6782676436612302, 0.6782676436612302, 1.0]\n",
      "[1.0, 0.643227944824712, 0.643227944824712, 1.0]\n",
      "[1.0, 0.44987211962478196, 0.44987211962478196, 1.0]\n",
      "[1.0, 0.5014666248509558, 0.5014666248509558, 1.0]\n"
     ]
    },
    {
     "name": "stderr",
     "output_type": "stream",
     "text": [
      "C:\\Users\\STUDENT018\\AppData\\Local\\Temp\\ipykernel_13160\\3787471243.py:121: RuntimeWarning: invalid value encountered in scalar divide\n",
      "  wsim[j] = wsim[j] + (1 / ( i - k)) * np.dot(A,B)/(norm(A)*norm(B))\n",
      "C:\\Users\\STUDENT018\\AppData\\Local\\Temp\\ipykernel_13160\\3787471243.py:137: RuntimeWarning: invalid value encountered in scalar divide\n",
      "  wsim[j] = wsim[j] + (1 / ( i - k)) * np.dot(A,B)/(norm(A)*norm(B))\n",
      "C:\\Users\\STUDENT018\\AppData\\Local\\Temp\\ipykernel_13160\\3787471243.py:146: RuntimeWarning: invalid value encountered in scalar divide\n",
      "  return np.dot(A,B)/(norm(A)*norm(B))\n"
     ]
    },
    {
     "name": "stdout",
     "output_type": "stream",
     "text": [
      "[1.0, nan, nan, nan]\n"
     ]
    },
    {
     "name": "stderr",
     "output_type": "stream",
     "text": [
      "C:\\Users\\STUDENT018\\AppData\\Local\\Temp\\ipykernel_13160\\3787471243.py:121: RuntimeWarning: invalid value encountered in scalar divide\n",
      "  wsim[j] = wsim[j] + (1 / ( i - k)) * np.dot(A,B)/(norm(A)*norm(B))\n",
      "C:\\Users\\STUDENT018\\AppData\\Local\\Temp\\ipykernel_13160\\3787471243.py:137: RuntimeWarning: invalid value encountered in scalar divide\n",
      "  wsim[j] = wsim[j] + (1 / ( i - k)) * np.dot(A,B)/(norm(A)*norm(B))\n",
      "C:\\Users\\STUDENT018\\AppData\\Local\\Temp\\ipykernel_13160\\3787471243.py:146: RuntimeWarning: invalid value encountered in scalar divide\n",
      "  return np.dot(A,B)/(norm(A)*norm(B))\n"
     ]
    },
    {
     "name": "stdout",
     "output_type": "stream",
     "text": [
      "[1.0, nan, nan, nan]\n",
      "[1.0, 0.38338402985338854, 0.38338402985338854, 1.0]\n",
      "[1.0, 0.36447452438228567, 0.36447452438228567, 1.0]\n",
      "[1.0, 0.37519798204875865, 0.37519798204875865, 1.0]\n",
      "[1.0, 0.4860846427773378, 0.4860846427773378, 1.0]\n",
      "[1.0, 0.43010370339202303, 0.43010370339202303, 1.0]\n",
      "[1.0, 0.540669651004653, 0.540669651004653, 1.0]\n",
      "[1.0, 0.47946773306394597, 0.47946773306394597, 1.0]\n",
      "[1.0, 0.6620634062281253, 0.6620634062281253, 1.0]\n"
     ]
    },
    {
     "name": "stderr",
     "output_type": "stream",
     "text": [
      "C:\\Users\\STUDENT018\\AppData\\Local\\Temp\\ipykernel_13160\\3787471243.py:121: RuntimeWarning: invalid value encountered in scalar divide\n",
      "  wsim[j] = wsim[j] + (1 / ( i - k)) * np.dot(A,B)/(norm(A)*norm(B))\n",
      "C:\\Users\\STUDENT018\\AppData\\Local\\Temp\\ipykernel_13160\\3787471243.py:137: RuntimeWarning: invalid value encountered in scalar divide\n",
      "  wsim[j] = wsim[j] + (1 / ( i - k)) * np.dot(A,B)/(norm(A)*norm(B))\n",
      "C:\\Users\\STUDENT018\\AppData\\Local\\Temp\\ipykernel_13160\\3787471243.py:146: RuntimeWarning: invalid value encountered in scalar divide\n",
      "  return np.dot(A,B)/(norm(A)*norm(B))\n"
     ]
    },
    {
     "name": "stdout",
     "output_type": "stream",
     "text": [
      "[1.0, nan, nan, nan]\n",
      "[1.0, 0.40031900313245644, 0.40031900313245644, 1.0]\n",
      "[1.0, 0.5671260646281467, 0.5671260646281467, 1.0]\n",
      "[1.0, 0.32629969412624593, 0.32629969412624593, 1.0]\n",
      "[1.0, 0.25419941779702315, 0.25419941779702315, 1.0]\n",
      "[1.0, 0.3020042621804387, 0.3020042621804387, 1.0]\n",
      "[1.0, 0.250197902767048, 0.250197902767048, 1.0]\n",
      "[1.0, 0.6187799133865751, 0.6187799133865751, 1.0]\n",
      "[1.0, 0.46424165881018153, 0.46424165881018153, 1.0]\n",
      "[1.0, 0.5785878529622722, 0.5785878529622722, 1.0]\n",
      "[1.0, 0.13418686391531798, 0.13418686391531798, 1.0]\n",
      "[1.0, 0.7398997932662603, 0.7398997932662603, 1.0]\n",
      "[1.0, 0.03918263141510439, 0.03918263141510439, 1.0]\n",
      "[1.0, 0.40934730542578884, 0.40934730542578884, 1.0]\n"
     ]
    },
    {
     "name": "stderr",
     "output_type": "stream",
     "text": [
      "C:\\Users\\STUDENT018\\AppData\\Local\\Temp\\ipykernel_13160\\3787471243.py:121: RuntimeWarning: invalid value encountered in scalar divide\n",
      "  wsim[j] = wsim[j] + (1 / ( i - k)) * np.dot(A,B)/(norm(A)*norm(B))\n",
      "C:\\Users\\STUDENT018\\AppData\\Local\\Temp\\ipykernel_13160\\3787471243.py:137: RuntimeWarning: invalid value encountered in scalar divide\n",
      "  wsim[j] = wsim[j] + (1 / ( i - k)) * np.dot(A,B)/(norm(A)*norm(B))\n",
      "C:\\Users\\STUDENT018\\AppData\\Local\\Temp\\ipykernel_13160\\3787471243.py:146: RuntimeWarning: invalid value encountered in scalar divide\n",
      "  return np.dot(A,B)/(norm(A)*norm(B))\n"
     ]
    },
    {
     "name": "stdout",
     "output_type": "stream",
     "text": [
      "[1.0, nan, nan, nan]\n"
     ]
    },
    {
     "name": "stderr",
     "output_type": "stream",
     "text": [
      "C:\\Users\\STUDENT018\\AppData\\Local\\Temp\\ipykernel_13160\\3787471243.py:121: RuntimeWarning: invalid value encountered in scalar divide\n",
      "  wsim[j] = wsim[j] + (1 / ( i - k)) * np.dot(A,B)/(norm(A)*norm(B))\n",
      "C:\\Users\\STUDENT018\\AppData\\Local\\Temp\\ipykernel_13160\\3787471243.py:137: RuntimeWarning: invalid value encountered in scalar divide\n",
      "  wsim[j] = wsim[j] + (1 / ( i - k)) * np.dot(A,B)/(norm(A)*norm(B))\n",
      "C:\\Users\\STUDENT018\\AppData\\Local\\Temp\\ipykernel_13160\\3787471243.py:146: RuntimeWarning: invalid value encountered in scalar divide\n",
      "  return np.dot(A,B)/(norm(A)*norm(B))\n"
     ]
    },
    {
     "name": "stdout",
     "output_type": "stream",
     "text": [
      "[1.0, nan, nan, nan]\n",
      "[1.0, 0.5051124912261945, 0.5051124912261945, 1.0]\n",
      "[1.0, 0.6637626651685066, 0.6637626651685066, 1.0]\n"
     ]
    },
    {
     "name": "stderr",
     "output_type": "stream",
     "text": [
      "C:\\Users\\STUDENT018\\AppData\\Local\\Temp\\ipykernel_13160\\3787471243.py:121: RuntimeWarning: invalid value encountered in scalar divide\n",
      "  wsim[j] = wsim[j] + (1 / ( i - k)) * np.dot(A,B)/(norm(A)*norm(B))\n",
      "C:\\Users\\STUDENT018\\AppData\\Local\\Temp\\ipykernel_13160\\3787471243.py:137: RuntimeWarning: invalid value encountered in scalar divide\n",
      "  wsim[j] = wsim[j] + (1 / ( i - k)) * np.dot(A,B)/(norm(A)*norm(B))\n",
      "C:\\Users\\STUDENT018\\AppData\\Local\\Temp\\ipykernel_13160\\3787471243.py:146: RuntimeWarning: invalid value encountered in scalar divide\n",
      "  return np.dot(A,B)/(norm(A)*norm(B))\n"
     ]
    },
    {
     "name": "stdout",
     "output_type": "stream",
     "text": [
      "[1.0, nan, nan, nan]\n",
      "[1.0, 0.7279623877553987, 0.7279623877553987, 1.0]\n"
     ]
    },
    {
     "name": "stderr",
     "output_type": "stream",
     "text": [
      "C:\\Users\\STUDENT018\\AppData\\Local\\Temp\\ipykernel_13160\\3787471243.py:121: RuntimeWarning: invalid value encountered in scalar divide\n",
      "  wsim[j] = wsim[j] + (1 / ( i - k)) * np.dot(A,B)/(norm(A)*norm(B))\n",
      "C:\\Users\\STUDENT018\\AppData\\Local\\Temp\\ipykernel_13160\\3787471243.py:137: RuntimeWarning: invalid value encountered in scalar divide\n",
      "  wsim[j] = wsim[j] + (1 / ( i - k)) * np.dot(A,B)/(norm(A)*norm(B))\n",
      "C:\\Users\\STUDENT018\\AppData\\Local\\Temp\\ipykernel_13160\\3787471243.py:146: RuntimeWarning: invalid value encountered in scalar divide\n",
      "  return np.dot(A,B)/(norm(A)*norm(B))\n"
     ]
    },
    {
     "name": "stdout",
     "output_type": "stream",
     "text": [
      "[1.0, nan, nan, nan]\n"
     ]
    },
    {
     "name": "stderr",
     "output_type": "stream",
     "text": [
      "C:\\Users\\STUDENT018\\AppData\\Local\\Temp\\ipykernel_13160\\3787471243.py:121: RuntimeWarning: invalid value encountered in scalar divide\n",
      "  wsim[j] = wsim[j] + (1 / ( i - k)) * np.dot(A,B)/(norm(A)*norm(B))\n",
      "C:\\Users\\STUDENT018\\AppData\\Local\\Temp\\ipykernel_13160\\3787471243.py:137: RuntimeWarning: invalid value encountered in scalar divide\n",
      "  wsim[j] = wsim[j] + (1 / ( i - k)) * np.dot(A,B)/(norm(A)*norm(B))\n",
      "C:\\Users\\STUDENT018\\AppData\\Local\\Temp\\ipykernel_13160\\3787471243.py:146: RuntimeWarning: invalid value encountered in scalar divide\n",
      "  return np.dot(A,B)/(norm(A)*norm(B))\n"
     ]
    },
    {
     "name": "stdout",
     "output_type": "stream",
     "text": [
      "[1.0, nan, nan, nan]\n"
     ]
    },
    {
     "name": "stderr",
     "output_type": "stream",
     "text": [
      "C:\\Users\\STUDENT018\\AppData\\Local\\Temp\\ipykernel_13160\\3787471243.py:121: RuntimeWarning: invalid value encountered in scalar divide\n",
      "  wsim[j] = wsim[j] + (1 / ( i - k)) * np.dot(A,B)/(norm(A)*norm(B))\n",
      "C:\\Users\\STUDENT018\\AppData\\Local\\Temp\\ipykernel_13160\\3787471243.py:137: RuntimeWarning: invalid value encountered in scalar divide\n",
      "  wsim[j] = wsim[j] + (1 / ( i - k)) * np.dot(A,B)/(norm(A)*norm(B))\n",
      "C:\\Users\\STUDENT018\\AppData\\Local\\Temp\\ipykernel_13160\\3787471243.py:146: RuntimeWarning: invalid value encountered in scalar divide\n",
      "  return np.dot(A,B)/(norm(A)*norm(B))\n"
     ]
    },
    {
     "name": "stdout",
     "output_type": "stream",
     "text": [
      "[1.0, nan, nan, nan]\n",
      "[1.0, 0.3325336296250573, 0.3325336296250573, 1.0]\n",
      "[1.0, 0.2881673981022213, 0.2881673981022213, 1.0]\n",
      "[1.0, 0.29528405949971887, 0.29528405949971887, 1.0]\n",
      "[1.0, 0.9128209335049008, 0.9128209335049008, 1.0]\n",
      "[1.0, 0.3656182126774417, 0.3656182126774417, 1.0]\n",
      "[1.0, 0.1751106432661572, 0.1751106432661572, 1.0]\n",
      "[1.0, 0.3338396260527599, 0.3338396260527599, 1.0]\n",
      "[1.0, 0.5489785955138144, 0.5489785955138144, 1.0]\n",
      "[1.0, 0.5362755015837128, 0.5362755015837128, 1.0]\n",
      "[1.0, 0.5356471472426897, 0.5356471472426897, 1.0]\n",
      "[1.0, 0.3273306991428774, 0.3273306991428774, 1.0]\n",
      "[1.0, 0.21640850868930123, 0.21640850868930123, 1.0]\n",
      "[1.0, 0.4252804736505739, 0.4252804736505739, 1.0]\n"
     ]
    },
    {
     "name": "stderr",
     "output_type": "stream",
     "text": [
      "C:\\Users\\STUDENT018\\AppData\\Local\\Temp\\ipykernel_13160\\3787471243.py:121: RuntimeWarning: invalid value encountered in scalar divide\n",
      "  wsim[j] = wsim[j] + (1 / ( i - k)) * np.dot(A,B)/(norm(A)*norm(B))\n",
      "C:\\Users\\STUDENT018\\AppData\\Local\\Temp\\ipykernel_13160\\3787471243.py:137: RuntimeWarning: invalid value encountered in scalar divide\n",
      "  wsim[j] = wsim[j] + (1 / ( i - k)) * np.dot(A,B)/(norm(A)*norm(B))\n",
      "C:\\Users\\STUDENT018\\AppData\\Local\\Temp\\ipykernel_13160\\3787471243.py:146: RuntimeWarning: invalid value encountered in scalar divide\n",
      "  return np.dot(A,B)/(norm(A)*norm(B))\n"
     ]
    },
    {
     "name": "stdout",
     "output_type": "stream",
     "text": [
      "[1.0, nan, nan, nan]\n",
      "[1.0, 0.36576212630768645, 0.36576212630768645, 1.0]\n",
      "[1.0, 0.5988059390911074, 0.5988059390911074, 1.0]\n",
      "[1.0, 0.37631095264663483, 0.37631095264663483, 1.0]\n",
      "[1.0, 0.3957079491813154, 0.3957079491813154, 1.0]\n",
      "[1.0, 0.5209068491975807, 0.5209068491975807, 1.0]\n"
     ]
    },
    {
     "name": "stderr",
     "output_type": "stream",
     "text": [
      "C:\\Users\\STUDENT018\\AppData\\Local\\Temp\\ipykernel_13160\\3787471243.py:121: RuntimeWarning: invalid value encountered in scalar divide\n",
      "  wsim[j] = wsim[j] + (1 / ( i - k)) * np.dot(A,B)/(norm(A)*norm(B))\n",
      "C:\\Users\\STUDENT018\\AppData\\Local\\Temp\\ipykernel_13160\\3787471243.py:137: RuntimeWarning: invalid value encountered in scalar divide\n",
      "  wsim[j] = wsim[j] + (1 / ( i - k)) * np.dot(A,B)/(norm(A)*norm(B))\n",
      "C:\\Users\\STUDENT018\\AppData\\Local\\Temp\\ipykernel_13160\\3787471243.py:146: RuntimeWarning: invalid value encountered in scalar divide\n",
      "  return np.dot(A,B)/(norm(A)*norm(B))\n"
     ]
    },
    {
     "name": "stdout",
     "output_type": "stream",
     "text": [
      "[1.0, nan, nan, nan]\n",
      "[1.0, 0.8187375507288246, 0.8187375507288246, 1.0]\n",
      "[1.0, 0.21953466502767635, 0.21953466502767635, 1.0]\n",
      "[1.0, 0.3739285653037498, 0.3739285653037498, 1.0]\n",
      "[1.0, 0.6371128512210368, 0.6371128512210368, 1.0]\n",
      "[1.0, 0.6088375810560874, 0.6088375810560874, 1.0]\n",
      "[1.0, 0.24078814451201253, 0.24078814451201253, 1.0]\n",
      "[1.0, 0.37189754679546044, 0.37189754679546044, 1.0]\n",
      "[1.0, 0.37372948411306955, 0.37372948411306955, 1.0]\n"
     ]
    },
    {
     "name": "stderr",
     "output_type": "stream",
     "text": [
      "C:\\Users\\STUDENT018\\AppData\\Local\\Temp\\ipykernel_13160\\3787471243.py:121: RuntimeWarning: invalid value encountered in scalar divide\n",
      "  wsim[j] = wsim[j] + (1 / ( i - k)) * np.dot(A,B)/(norm(A)*norm(B))\n",
      "C:\\Users\\STUDENT018\\AppData\\Local\\Temp\\ipykernel_13160\\3787471243.py:137: RuntimeWarning: invalid value encountered in scalar divide\n",
      "  wsim[j] = wsim[j] + (1 / ( i - k)) * np.dot(A,B)/(norm(A)*norm(B))\n",
      "C:\\Users\\STUDENT018\\AppData\\Local\\Temp\\ipykernel_13160\\3787471243.py:146: RuntimeWarning: invalid value encountered in scalar divide\n",
      "  return np.dot(A,B)/(norm(A)*norm(B))\n"
     ]
    },
    {
     "name": "stdout",
     "output_type": "stream",
     "text": [
      "[1.0, nan, nan, nan]\n",
      "[1.0, 0.37987623064803594, 0.37987623064803594, 1.0]\n",
      "[1.0, 0.27243001848859527, 0.27243001848859527, 1.0]\n",
      "[1.0, 0.3022957051109909, 0.3022957051109909, 1.0]\n"
     ]
    },
    {
     "name": "stderr",
     "output_type": "stream",
     "text": [
      "C:\\Users\\STUDENT018\\AppData\\Local\\Temp\\ipykernel_13160\\3787471243.py:121: RuntimeWarning: invalid value encountered in scalar divide\n",
      "  wsim[j] = wsim[j] + (1 / ( i - k)) * np.dot(A,B)/(norm(A)*norm(B))\n",
      "C:\\Users\\STUDENT018\\AppData\\Local\\Temp\\ipykernel_13160\\3787471243.py:137: RuntimeWarning: invalid value encountered in scalar divide\n",
      "  wsim[j] = wsim[j] + (1 / ( i - k)) * np.dot(A,B)/(norm(A)*norm(B))\n",
      "C:\\Users\\STUDENT018\\AppData\\Local\\Temp\\ipykernel_13160\\3787471243.py:146: RuntimeWarning: invalid value encountered in scalar divide\n",
      "  return np.dot(A,B)/(norm(A)*norm(B))\n"
     ]
    },
    {
     "name": "stdout",
     "output_type": "stream",
     "text": [
      "[1.0, nan, nan, nan]\n",
      "[1.0, 0.4032545782412439, 0.4032545782412439, 1.0]\n"
     ]
    },
    {
     "name": "stderr",
     "output_type": "stream",
     "text": [
      "C:\\Users\\STUDENT018\\AppData\\Local\\Temp\\ipykernel_13160\\3787471243.py:121: RuntimeWarning: invalid value encountered in scalar divide\n",
      "  wsim[j] = wsim[j] + (1 / ( i - k)) * np.dot(A,B)/(norm(A)*norm(B))\n",
      "C:\\Users\\STUDENT018\\AppData\\Local\\Temp\\ipykernel_13160\\3787471243.py:137: RuntimeWarning: invalid value encountered in scalar divide\n",
      "  wsim[j] = wsim[j] + (1 / ( i - k)) * np.dot(A,B)/(norm(A)*norm(B))\n",
      "C:\\Users\\STUDENT018\\AppData\\Local\\Temp\\ipykernel_13160\\3787471243.py:146: RuntimeWarning: invalid value encountered in scalar divide\n",
      "  return np.dot(A,B)/(norm(A)*norm(B))\n"
     ]
    },
    {
     "name": "stdout",
     "output_type": "stream",
     "text": [
      "[1.0, nan, nan, nan]\n",
      "[1.0, 0.13108563285011005, 0.13108563285011005, 1.0]\n",
      "[1.0, 0.5013502406224994, 0.5013502406224994, 1.0]\n",
      "[1.0, 0.4037971464535292, 0.4037971464535292, 1.0]\n",
      "[1.0, 0.3640809493889308, 0.3640809493889308, 1.0]\n"
     ]
    },
    {
     "name": "stderr",
     "output_type": "stream",
     "text": [
      "C:\\Users\\STUDENT018\\AppData\\Local\\Temp\\ipykernel_13160\\3787471243.py:121: RuntimeWarning: invalid value encountered in scalar divide\n",
      "  wsim[j] = wsim[j] + (1 / ( i - k)) * np.dot(A,B)/(norm(A)*norm(B))\n",
      "C:\\Users\\STUDENT018\\AppData\\Local\\Temp\\ipykernel_13160\\3787471243.py:137: RuntimeWarning: invalid value encountered in scalar divide\n",
      "  wsim[j] = wsim[j] + (1 / ( i - k)) * np.dot(A,B)/(norm(A)*norm(B))\n",
      "C:\\Users\\STUDENT018\\AppData\\Local\\Temp\\ipykernel_13160\\3787471243.py:146: RuntimeWarning: invalid value encountered in scalar divide\n",
      "  return np.dot(A,B)/(norm(A)*norm(B))\n"
     ]
    },
    {
     "name": "stdout",
     "output_type": "stream",
     "text": [
      "[1.0, nan, nan, nan]\n",
      "[1.0, 0.7114801337927883, 0.7114801337927883, 1.0]\n",
      "[1.0, 0.33194753245955644, 0.33194753245955644, 1.0]\n",
      "[1.0, 0.43120882398098215, 0.43120882398098215, 1.0]\n",
      "[1.0, 0.06677952354653059, 0.06677952354653059, 1.0]\n",
      "[1.0, 0.3286434651103786, 0.3286434651103786, 1.0]\n",
      "[1.0, 0.5537119659341503, 0.5537119659341503, 1.0]\n"
     ]
    },
    {
     "name": "stderr",
     "output_type": "stream",
     "text": [
      "C:\\Users\\STUDENT018\\AppData\\Local\\Temp\\ipykernel_13160\\3787471243.py:121: RuntimeWarning: invalid value encountered in scalar divide\n",
      "  wsim[j] = wsim[j] + (1 / ( i - k)) * np.dot(A,B)/(norm(A)*norm(B))\n",
      "C:\\Users\\STUDENT018\\AppData\\Local\\Temp\\ipykernel_13160\\3787471243.py:137: RuntimeWarning: invalid value encountered in scalar divide\n",
      "  wsim[j] = wsim[j] + (1 / ( i - k)) * np.dot(A,B)/(norm(A)*norm(B))\n",
      "C:\\Users\\STUDENT018\\AppData\\Local\\Temp\\ipykernel_13160\\3787471243.py:146: RuntimeWarning: invalid value encountered in scalar divide\n",
      "  return np.dot(A,B)/(norm(A)*norm(B))\n"
     ]
    },
    {
     "name": "stdout",
     "output_type": "stream",
     "text": [
      "[1.0, nan, nan, nan]\n",
      "[1.0, 0.3424481645465179, 0.3424481645465179, 1.0]\n",
      "[1.0, 0.2370641656429623, 0.2370641656429623, 1.0]\n",
      "[1.0, 0.5113437981367277, 0.5113437981367277, 1.0]\n",
      "[1.0, 0.4673098331282174, 0.4673098331282174, 1.0]\n",
      "[1.0, 0.6289407087390438, 0.6289407087390438, 1.0]\n",
      "[1.0, 0.254757134729904, 0.254757134729904, 1.0]\n"
     ]
    },
    {
     "name": "stderr",
     "output_type": "stream",
     "text": [
      "C:\\Users\\STUDENT018\\AppData\\Local\\Temp\\ipykernel_13160\\3787471243.py:121: RuntimeWarning: invalid value encountered in scalar divide\n",
      "  wsim[j] = wsim[j] + (1 / ( i - k)) * np.dot(A,B)/(norm(A)*norm(B))\n",
      "C:\\Users\\STUDENT018\\AppData\\Local\\Temp\\ipykernel_13160\\3787471243.py:137: RuntimeWarning: invalid value encountered in scalar divide\n",
      "  wsim[j] = wsim[j] + (1 / ( i - k)) * np.dot(A,B)/(norm(A)*norm(B))\n",
      "C:\\Users\\STUDENT018\\AppData\\Local\\Temp\\ipykernel_13160\\3787471243.py:146: RuntimeWarning: invalid value encountered in scalar divide\n",
      "  return np.dot(A,B)/(norm(A)*norm(B))\n"
     ]
    },
    {
     "name": "stdout",
     "output_type": "stream",
     "text": [
      "[1.0, nan, nan, nan]\n",
      "[1.0, 0.19958968544064076, 0.19958968544064076, 1.0]\n",
      "[1.0, 0.5335317336965861, 0.5335317336965861, 1.0]\n",
      "[1.0, -0.019563670838598904, -0.019563670838598904, 1.0]\n",
      "[1.0, 0.2716700323953248, 0.2716700323953248, 1.0]\n",
      "[1.0, 0.41185229429219167, 0.41185229429219167, 1.0]\n",
      "[1.0, 0.5459947081394471, 0.5459947081394471, 1.0]\n",
      "[1.0, 0.4470423095251348, 0.4470423095251348, 1.0]\n",
      "[1.0, 0.5603333878353731, 0.5603333878353731, 1.0]\n",
      "[1.0, 0.42559587996722903, 0.42559587996722903, 1.0]\n",
      "[1.0, 0.7402250306333197, 0.7402250306333197, 1.0]\n",
      "[1.0, 0.4235619103967913, 0.4235619103967913, 1.0]\n"
     ]
    },
    {
     "name": "stderr",
     "output_type": "stream",
     "text": [
      "C:\\Users\\STUDENT018\\AppData\\Local\\Temp\\ipykernel_13160\\3787471243.py:121: RuntimeWarning: invalid value encountered in scalar divide\n",
      "  wsim[j] = wsim[j] + (1 / ( i - k)) * np.dot(A,B)/(norm(A)*norm(B))\n",
      "C:\\Users\\STUDENT018\\AppData\\Local\\Temp\\ipykernel_13160\\3787471243.py:137: RuntimeWarning: invalid value encountered in scalar divide\n",
      "  wsim[j] = wsim[j] + (1 / ( i - k)) * np.dot(A,B)/(norm(A)*norm(B))\n",
      "C:\\Users\\STUDENT018\\AppData\\Local\\Temp\\ipykernel_13160\\3787471243.py:146: RuntimeWarning: invalid value encountered in scalar divide\n",
      "  return np.dot(A,B)/(norm(A)*norm(B))\n"
     ]
    },
    {
     "name": "stdout",
     "output_type": "stream",
     "text": [
      "[1.0, nan, nan, nan]\n",
      "[1.0, 0.48909488541884005, 0.48909488541884005, 1.0]\n",
      "[1.0, 0.3564634563247883, 0.3564634563247883, 1.0]\n",
      "[1.0, 0.3436705396619442, 0.3436705396619442, 1.0]\n",
      "[1.0, 0.5433275439695161, 0.5433275439695161, 1.0]\n"
     ]
    },
    {
     "name": "stderr",
     "output_type": "stream",
     "text": [
      "C:\\Users\\STUDENT018\\AppData\\Local\\Temp\\ipykernel_13160\\3787471243.py:121: RuntimeWarning: invalid value encountered in scalar divide\n",
      "  wsim[j] = wsim[j] + (1 / ( i - k)) * np.dot(A,B)/(norm(A)*norm(B))\n",
      "C:\\Users\\STUDENT018\\AppData\\Local\\Temp\\ipykernel_13160\\3787471243.py:137: RuntimeWarning: invalid value encountered in scalar divide\n",
      "  wsim[j] = wsim[j] + (1 / ( i - k)) * np.dot(A,B)/(norm(A)*norm(B))\n",
      "C:\\Users\\STUDENT018\\AppData\\Local\\Temp\\ipykernel_13160\\3787471243.py:146: RuntimeWarning: invalid value encountered in scalar divide\n",
      "  return np.dot(A,B)/(norm(A)*norm(B))\n"
     ]
    },
    {
     "name": "stdout",
     "output_type": "stream",
     "text": [
      "[1.0, nan, nan, nan]\n",
      "[1.0, 0.7081692763825778, 0.7081692763825778, 1.0]\n",
      "[1.0, 0.3364759046140786, 0.3364759046140786, 1.0]\n"
     ]
    },
    {
     "name": "stderr",
     "output_type": "stream",
     "text": [
      "C:\\Users\\STUDENT018\\AppData\\Local\\Temp\\ipykernel_13160\\3787471243.py:121: RuntimeWarning: invalid value encountered in scalar divide\n",
      "  wsim[j] = wsim[j] + (1 / ( i - k)) * np.dot(A,B)/(norm(A)*norm(B))\n",
      "C:\\Users\\STUDENT018\\AppData\\Local\\Temp\\ipykernel_13160\\3787471243.py:137: RuntimeWarning: invalid value encountered in scalar divide\n",
      "  wsim[j] = wsim[j] + (1 / ( i - k)) * np.dot(A,B)/(norm(A)*norm(B))\n",
      "C:\\Users\\STUDENT018\\AppData\\Local\\Temp\\ipykernel_13160\\3787471243.py:146: RuntimeWarning: invalid value encountered in scalar divide\n",
      "  return np.dot(A,B)/(norm(A)*norm(B))\n"
     ]
    },
    {
     "name": "stdout",
     "output_type": "stream",
     "text": [
      "[1.0, nan, nan, nan]\n",
      "[1.0, 0.4398880029261875, 0.4398880029261875, 1.0]\n",
      "[1.0, 0.6869672010303146, 0.6869672010303146, 1.0]\n",
      "[1.0, 0.35918880907397455, 0.35918880907397455, 1.0]\n",
      "[1.0, 0.5688516501862015, 0.5688516501862015, 1.0]\n",
      "[1.0, 0.5302266039328298, 0.5302266039328298, 1.0]\n",
      "[1.0, 0.6446012275431819, 0.6446012275431819, 1.0]\n",
      "[1.0, 0.9128136811498918, 0.9128136811498918, 1.0]\n",
      "[1.0, 0.6064834805456936, 0.6064834805456936, 1.0]\n",
      "[1.0, 0.3442097855513544, 0.3442097855513544, 1.0]\n",
      "[1.0, 0.6819658252614316, 0.6819658252614316, 1.0]\n",
      "[1.0, 0.8012956443286261, 0.8012956443286261, 1.0]\n",
      "[1.0, 0.8326465171818447, 0.8326465171818447, 1.0]\n",
      "[1.0, 0.7739228556051359, 0.7739228556051359, 1.0]\n",
      "[1.0, 0.6112095552986008, 0.6112095552986008, 1.0]\n",
      "[1.0, 0.5957845700568226, 0.5957845700568226, 1.0]\n",
      "[1.0, 0.7596568874139052, 0.7596568874139052, 1.0]\n",
      "[1.0, 0.947849161028155, 0.947849161028155, 1.0]\n",
      "[1.0, 0.9320294995693887, 0.9320294995693887, 1.0]\n",
      "[1.0, 0.8852941059688902, 0.8852941059688902, 1.0]\n",
      "[1.0, 0.7987883916916064, 0.7987883916916064, 1.0]\n",
      "[1.0, 0.9112261706231423, 0.9112261706231423, 1.0]\n",
      "[1.0, 0.9784840857094278, 0.9784840857094278, 1.0]\n",
      "[1.0, 0.5611423680647314, 0.5611423680647314, 1.0]\n",
      "[1.0, 0.8593628405694428, 0.8593628405694428, 1.0]\n",
      "[1.0, 0.9448515380275434, 0.9448515380275434, 1.0]\n",
      "[1.0, 0.8389767090962185, 0.8389767090962185, 1.0]\n",
      "[1.0, 0.6556548765458015, 0.6556548765458015, 1.0]\n",
      "[1.0, 0.9105590599279932, 0.9105590599279932, 1.0]\n",
      "[1.0, 0.6874236988065702, 0.6874236988065702, 1.0]\n",
      "[1.0, 0.9957082083727418, 0.9957082083727418, 1.0]\n",
      "[1.0, 0.7524209690683774, 0.7524209690683774, 1.0]\n",
      "[1.0, 0.9317134402809332, 0.9317134402809332, 1.0]\n",
      "[1.0, 0.9511882126860538, 0.9511882126860538, 1.0]\n",
      "[1.0, 0.9591964486487243, 0.9591964486487243, 1.0]\n",
      "[1.0, 0.8899332408750817, 0.8899332408750817, 1.0]\n",
      "[1.0, 0.7378955145421667, 0.7378955145421667, 1.0]\n",
      "[1.0, 0.541667942280794, 0.541667942280794, 1.0]\n",
      "[1.0, 0.7196055029990603, 0.7196055029990603, 1.0]\n",
      "[1.0, 0.724712337388219, 0.724712337388219, 1.0]\n",
      "[1.0, 0.7140937124109407, 0.7140937124109407, 1.0]\n",
      "[1.0, 0.9578817148098095, 0.9578817148098095, 1.0]\n",
      "[1.0, 0.9144448855139287, 0.9144448855139287, 1.0]\n",
      "[1.0, 0.9425305494235823, 0.9425305494235823, 1.0]\n",
      "[1.0, 0.8864423275211485, 0.8864423275211485, 1.0]\n",
      "[1.0, 0.7822995982665882, 0.7822995982665882, 1.0]\n",
      "[1.0, 0.7942449938690067, 0.7942449938690067, 1.0]\n",
      "[1.0, 0.9124290034441365, 0.9124290034441365, 1.0]\n",
      "[1.0, 0.7449916800572767, 0.7449916800572767, 1.0]\n",
      "[1.0, 0.8943726930466209, 0.8943726930466209, 1.0]\n",
      "[1.0, 0.5141724879771806, 0.5141724879771806, 1.0]\n",
      "[1.0, 0.5516776530120595, 0.5516776530120595, 1.0]\n",
      "[1.0, 0.528880437415195, 0.528880437415195, 1.0]\n",
      "[1.0, 0.5777144235331918, 0.5777144235331918, 1.0]\n",
      "[1.0, 0.7187977580369933, 0.7187977580369933, 1.0]\n",
      "[1.0, 0.6791584240722259, 0.6791584240722259, 1.0]\n",
      "[1.0, 0.8919199793807563, 0.8919199793807563, 1.0]\n",
      "[1.0, 0.9104992264547153, 0.9104992264547153, 1.0]\n",
      "[1.0, 0.9295520500490986, 0.9295520500490986, 1.0]\n",
      "[1.0, 0.8480605079868533, 0.8480605079868533, 1.0]\n",
      "[1.0, 0.5193600089688438, 0.5193600089688438, 1.0]\n",
      "[1.0, 0.5195236534532207, 0.5195236534532207, 1.0]\n",
      "[1.0, 0.6487377626278836, 0.6487377626278836, 1.0]\n",
      "[1.0, 0.6685701852295903, 0.6685701852295903, 1.0]\n",
      "[1.0, 0.8124033500016012, 0.8124033500016012, 1.0]\n",
      "[1.0, 0.821872403688661, 0.821872403688661, 1.0]\n",
      "[1.0, 0.7112590932347282, 0.7112590932347282, 1.0]\n",
      "[1.0, 0.7405716809977015, 0.7405716809977015, 1.0]\n",
      "[1.0, 0.827463457498045, 0.827463457498045, 1.0]\n",
      "[1.0, 0.6613366612911266, 0.6613366612911266, 1.0]\n",
      "[1.0, 0.8750516153699097, 0.8750516153699097, 1.0]\n",
      "[1.0, 0.6313258991094135, 0.6313258991094135, 1.0]\n",
      "[1.0, 0.727189842778406, 0.727189842778406, 1.0]\n",
      "[1.0, 0.8014034424752217, 0.8014034424752217, 1.0]\n",
      "[1.0, 0.9915972751255097, 0.9915972751255097, 1.0]\n",
      "[1.0, 0.642268101539479, 0.642268101539479, 1.0]\n",
      "[1.0, 0.801975217387848, 0.801975217387848, 1.0]\n",
      "[1.0, 0.9229465897405444, 0.9229465897405444, 1.0]\n",
      "[1.0, 0.9165459081531184, 0.9165459081531184, 1.0]\n",
      "[1.0, 0.6919248397331603, 0.6919248397331603, 1.0]\n",
      "[1.0, 0.7451331324787859, 0.7451331324787859, 1.0]\n",
      "[1.0, 0.9145959624061438, 0.9145959624061438, 1.0]\n",
      "[1.0, 0.7859440194185693, 0.7859440194185693, 1.0]\n",
      "[1.0, 0.5952629288407231, 0.5952629288407231, 1.0]\n"
     ]
    }
   ],
   "source": [
    "import openpyxl\n",
    "import pandas as pd\n",
    "import numpy as np\n",
    "from numpy.linalg import norm\n",
    "\n",
    "feature_names = ['Age',\t'Sex',\t'ALB',\t'ALP',\t'ALT',\t'AST',\t'BIL',\t'CHE',\t'CHOL',\t'CREA',\t'GGT',\t'PROT']\n",
    "noOfIterations = 100\n",
    "\n",
    "def convertSign(value):\n",
    "    if value == \"positive\":\n",
    "        return 1\n",
    "    elif value == \"negative\":\n",
    "        return 0\n",
    "    else:\n",
    "        return -1\n",
    "\n",
    "def generateSigns(feature_names):\n",
    "    dataframe = openpyxl.load_workbook(\"outputHepatitisKernelShapLOOCV_1.xlsx\")\n",
    "    sheet = dataframe.active\n",
    "   \n",
    "    list = []\n",
    "    for i in range(len(feature_names)):\n",
    "        list_feature = []\n",
    "        list.append(list_feature)\n",
    "    \n",
    "    df_KernelShap = pd.DataFrame()\n",
    "    \n",
    "    for i, row in enumerate(sheet):\n",
    "        step = 6\n",
    "        if i == 0: \n",
    "            continue\n",
    "        for k in range(len(feature_names)):\n",
    "            if k == 0:\n",
    "                list[k].append(convertSign(row[3].value))\n",
    "            else:\n",
    "                list[k].append(convertSign(row[step].value))\n",
    "                step = step + 3\n",
    "    dict = {}\n",
    "    for i in range(len(feature_names)):\n",
    "        new_data = {feature_names[i]: list[i]} \n",
    "        dict.update(new_data)\n",
    "        \n",
    "    df_KernelShap = pd.DataFrame(dict)\n",
    "     \n",
    "    df_KernelShap.to_excel(\"signsHepatitisKernelShap.xlsx\")\n",
    "   \n",
    "    #################################################################\n",
    "    dataframe = openpyxl.load_workbook(\"outputHepatitisTreeShapLOOCV_1.xlsx\")\n",
    "    sheet = dataframe.active\n",
    "   \n",
    "    list = []\n",
    "    for i in range(len(feature_names)):\n",
    "        list_feature = []\n",
    "        list.append(list_feature)\n",
    "    \n",
    "    df_TreeShap = pd.DataFrame()\n",
    "    \n",
    "    for i, row in enumerate(sheet):\n",
    "        step = 6\n",
    "        if i == 0: \n",
    "            continue\n",
    "        for k in range(len(feature_names)):\n",
    "            if k == 0:\n",
    "                list[k].append(convertSign(row[3].value))\n",
    "            else:\n",
    "                list[k].append(convertSign(row[step].value))\n",
    "                step = step + 3          \n",
    "          \n",
    "    dict = {}\n",
    "    for i in range(len(feature_names)):\n",
    "        new_data = {feature_names[i]: list[i]} \n",
    "        dict.update(new_data)\n",
    "        \n",
    "    df_TreeShap = pd.DataFrame(dict)\n",
    "    \n",
    "    df_TreeShap.to_excel(\"signsHepatitisTreeShap.xlsx\")    \n",
    "\n",
    "    ############################################################################\n",
    "    dataframe = openpyxl.load_workbook(\"outputHepatitisLIMELOOCV_100.xlsx\")\n",
    "    sheet = dataframe.active\n",
    "    \n",
    "    list = []\n",
    "    for i in range(len(feature_names)):\n",
    "        list_feature = []\n",
    "        list.append(list_feature)\n",
    "    \n",
    "    df_LIME = pd.DataFrame()\n",
    "    \n",
    "    for i, row in enumerate(sheet):\n",
    "        step = 10\n",
    "        if i == 0: \n",
    "            continue\n",
    "        for k in range(len(feature_names)):\n",
    "            if k == 0:\n",
    "                list[k].append(convertSign(row[5].value))\n",
    "            else:\n",
    "                list[k].append(convertSign(row[step].value))\n",
    "                step = step + 5            \n",
    "            \n",
    "    dict = {}\n",
    "    for i in range(len(feature_names)):\n",
    "        new_data = {feature_names[i]: list[i]} \n",
    "        dict.update(new_data)\n",
    "        \n",
    "    df_LIME = pd.DataFrame(dict)\n",
    "   \n",
    "    df_LIME.to_excel(\"signsHepatitisLIME.xlsx\")\n",
    "   \n",
    "\n",
    "def stackRowsColumns(M, noOfRows, noOfColumns):\n",
    "    pos = [0] * noOfRows\n",
    "    for i in range (0, noOfRows):\n",
    "        pos[i] = i\n",
    "    \n",
    "    for i in range(1, noOfRows):\n",
    "        wsim = [0] * noOfRows\n",
    "        for j in range(i, noOfRows):\n",
    "            for k in range(0, i):\n",
    "                A = M.loc[k]\n",
    "                B = M.loc[j]\n",
    "                wsim[j] = wsim[j] + (1 / ( i - k)) * np.dot(A,B)/(norm(A)*norm(B))\n",
    "        max_value = max(wsim)\n",
    "        max_index = wsim.index(max_value)\n",
    "        aux = M.loc[max_index]\n",
    "        M.loc[max_index] = M.loc[i]\n",
    "        M.loc[i] = aux\n",
    "        aux = pos[max_index]\n",
    "        pos[max_index] = pos[i]\n",
    "        pos[i] = aux\n",
    "    \n",
    "    for i in range(1, noOfColumns):\n",
    "        wsim = [0] * noOfColumns\n",
    "        for j in range(i, noOfColumns):\n",
    "            for k in range(0, i):\n",
    "                A = M.loc[k]\n",
    "                B = M.loc[j]\n",
    "                wsim[j] = wsim[j] + (1 / ( i - k)) * np.dot(A,B)/(norm(A)*norm(B))\n",
    "        max_value = max(wsim)\n",
    "        max_index = wsim.index(max_value)\n",
    "        aux = M.loc[max_index]\n",
    "        M.loc[max_index] = M.loc[i]\n",
    "        M.loc[i] = aux\n",
    "    return pos, M\n",
    "\n",
    "def cosineSimilarity(A, B):\n",
    "    return np.dot(A,B)/(norm(A)*norm(B))\n",
    "\n",
    "def similarityCase(M, i):\n",
    "    s = 0\n",
    "    k = i - 1\n",
    "    for j in range (1, k + 1):\n",
    "        s = s + cosineSimilarity(M.loc[i], M.loc[i - j]) * (1 / j)\n",
    "    return s\n",
    "\n",
    "def similarityMatrix(M, noOfRows):\n",
    "    s = 0\n",
    "    for i in range(1, noOfRows):\n",
    "        s = s + similarityCase(M, i)\n",
    "    s = s / (noOfRows - 1)\n",
    "    return s\n",
    "\n",
    "def GlobalAlign(MSP, MS, noOfRows):\n",
    "    if similarityMatrix(MSP, noOfRows) >  similarityMatrix(MS, noOfRows):\n",
    "        max = similarityMatrix(MSP, noOfRows)\n",
    "        min = similarityMatrix(MS, noOfRows)\n",
    "    else:\n",
    "        max = similarityMatrix(MS, noOfRows)\n",
    "        min = similarityMatrix(MSP, noOfRows)\n",
    "    return min / max\n",
    "    #return similarityMatrix(MSP, noOfRows) / similarityMatrix(MS, noOfRows)\n",
    "\n",
    "\n",
    "def createMSP(MP, MS, noOfRows):\n",
    "    MS_copy = MS.copy(deep = True)\n",
    "    MP_copy = MP.copy(deep = True)\n",
    "    posS, MS_copy = stackRowsColumns(MS_copy, noOfRows, len(feature_names))\n",
    "    posP, MP_copy = stackRowsColumns(MP_copy, noOfRows, len(feature_names))\n",
    "    # MSP = pd.DataFrame(columns = feature_names)\n",
    "    # for i in range(0, noOfRows):\n",
    "    #     MSP.loc[posP[i]] = MS_copy.loc[posS[i]]\n",
    "    return GlobalAlign(MP_copy, MS_copy, noOfRows)\n",
    "\n",
    "generateSigns(feature_names)\n",
    "df_KernelShap = pd.read_excel('signsHepatitisKernelShap.xlsx')\n",
    "df_KernelShap = df_KernelShap[df_KernelShap.columns[1:]]\n",
    "df_TreeShap = pd.read_excel('signsHepatitisTreeShap.xlsx')\n",
    "df_TreeShap = df_TreeShap[df_TreeShap.columns[1:]]\n",
    "df_LIME = pd.read_excel('signsHepatitisLIME.xlsx')\n",
    "df_LIME = df_LIME[df_LIME.columns[1:]]\n",
    "\n",
    "results = pd.DataFrame(columns = ['LL', 'LS', 'SL', 'SS'])\n",
    "noOfInstances = df_KernelShap.shape[0]\n",
    "\n",
    "for instance in range(0, noOfInstances):\n",
    "    result = []\n",
    "    data_Shap = []\n",
    "    for i in range(int(noOfIterations / 2)):\n",
    "        data_Shap.append(df_KernelShap.loc[instance].values.flatten().tolist())\n",
    "        data_Shap.append(df_TreeShap.loc[instance].values.flatten().tolist())\n",
    "    M_Shap  = pd.DataFrame(data_Shap, columns = feature_names)\n",
    "    \n",
    "    data_LIME = []\n",
    "    for i in range(noOfIterations):\n",
    "        data_LIME.append(df_LIME.loc[instance * noOfIterations + i].values.flatten().tolist())\n",
    "    M_LIME  = pd.DataFrame(data_LIME, columns = feature_names)\n",
    "    \n",
    "    MP = M_LIME\n",
    "    MS = M_LIME\n",
    "    result.append(createMSP(MP, MS, noOfIterations))\n",
    "    MP = M_LIME\n",
    "    MS = M_Shap\n",
    "    result.append(createMSP(MP, MS, noOfIterations))\n",
    "    MP = M_Shap\n",
    "    MS = M_LIME\n",
    "    result.append(createMSP(MP, MS, noOfIterations))\n",
    "    MP = M_Shap\n",
    "    MS = M_Shap\n",
    "    result.append(createMSP(MP, MS, noOfIterations))\n",
    "    print(result)\n",
    "    results.loc[instance] = result\n",
    "\n",
    "\n",
    "results.to_excel(\"resultsSignsHepatitisMPMS_MinMax.xlsx\")"
   ]
  },
  {
   "cell_type": "code",
   "execution_count": null,
   "id": "bb6e9baa-e4be-4dec-af53-c7561a895a2a",
   "metadata": {},
   "outputs": [],
   "source": []
  },
  {
   "cell_type": "code",
   "execution_count": null,
   "id": "5e3bb807-683d-41ad-aa3a-489e33014fcf",
   "metadata": {},
   "outputs": [],
   "source": []
  }
 ],
 "metadata": {
  "kernelspec": {
   "display_name": "Python 3 (ipykernel)",
   "language": "python",
   "name": "python3"
  },
  "language_info": {
   "codemirror_mode": {
    "name": "ipython",
    "version": 3
   },
   "file_extension": ".py",
   "mimetype": "text/x-python",
   "name": "python",
   "nbconvert_exporter": "python",
   "pygments_lexer": "ipython3",
   "version": "3.10.0"
  }
 },
 "nbformat": 4,
 "nbformat_minor": 5
}
