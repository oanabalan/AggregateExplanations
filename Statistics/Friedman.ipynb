{
 "cells": [
  {
   "cell_type": "code",
   "execution_count": 4,
   "id": "04bbd187-917f-48c9-94a8-89fbb9f1287f",
   "metadata": {},
   "outputs": [
    {
     "name": "stdout",
     "output_type": "stream",
     "text": [
      "Accuracy\n",
      "32.090163934426215\n",
      "0.00019210692231589566\n",
      "F1\n",
      "34.712981744421896\n",
      "6.694312927846082e-05\n",
      "ROC\n",
      "31.73205257836197\n",
      "0.00022151535383082985\n"
     ]
    }
   ],
   "source": [
    "from scipy.stats import friedmanchisquare\n",
    "\n",
    "#Accuracy\n",
    "R_AV = [0.750, 0.686, 0.930, 0.537,0.614, 0.925]\n",
    "R_FI = [0.741, 0.659, 0.955, 0.526, 0.624, 0.928]\n",
    "R_AVFI = [0.747, 0.690, 0.955, 0.545, 0.621, 0.935]\n",
    "R_A = [0.742, 0.679, 0.930, 0.543, 0.619, 0.925]\n",
    "R_AFI = [0.751, 0.687, 0.955, 0.542, 0.623, 0.935]\n",
    "S_A = [0.738, 0.673, 0.933, 0.535, 0.615, 0.922]\n",
    "S_AFI = [0.735, 0.673, 0.944, 0.532, 0.622, 0.929]\n",
    "SR_A = [0.738, 0.671, 0.930, 0.533, 0.609, 0.921]\n",
    "SR_AFI = [0.740, 0.676, 0.948, 0.535, 0.620, 0.930]\n",
    "NW_KNN =[0.726, 0.656, 0.924, 0.536, 0.609, 0.917]\n",
    "\n",
    "res = friedmanchisquare(R_AV, R_FI, R_AVFI, R_A, R_AFI, S_A, S_AFI, SR_A, SR_AFI, NW_KNN)\n",
    "print(\"Accuracy\")\n",
    "print(res.statistic)\n",
    "print(res.pvalue)\n",
    "\n",
    "\n",
    "#F1\n",
    "R_AV = [0.619, 0.785, 0.624, 0.479, 0.437, 0.821]\n",
    "R_FI = [0.599, 0.765, 0.779, 0.464, 0.446, 0.829]\n",
    "R_AVFI = [0.622, 0.786, 0.791, 0.486, 0.444, 0.848]\n",
    "R_A = [0.613, 0.778, 0.622, 0.488, 0.442, 0.820]\n",
    "R_AFI = [0.628, 0.784, 0.786, 0.485, 0.451, 0.848]\n",
    "S_A = [0.573, 0.780, 0.637, 0.481, 0.435, 0.811]\n",
    "S_AFI = [0.579, 0.779, 0.745, 0.475, 0.445, 0.834]\n",
    "SR_A = [0.569, 0.776, 0.614, 0.479, 0.431, 0.811]\n",
    "SR_AFI = [0.586, 0.779, 0.747, 0.482, 0.448, 0.832]\n",
    "NW_KNN = [0.557, 0.764, 0.550, 0.478, 0.428, 0.800]\n",
    "\n",
    "res = friedmanchisquare(R_AV, R_FI, R_AVFI, R_A, R_AFI, S_A, S_AFI, SR_A, SR_AFI, NW_KNN)\n",
    "print(\"F1\")\n",
    "print(res.statistic)\n",
    "print(res.pvalue)\n",
    "\n",
    "#ROC\n",
    "R_AV = [0.7128, 0.5988, 0.7345, 0.5324, 0.5728, 0.8717]\n",
    "R_FI = [0.6992, 0.5691, 0.8382, 0.5207, 0.5820, 0.8809]\n",
    "R_AVFI = [0.7135, 0.6140, 0.8502, 0.5392, 0.5792, 0.8901]\n",
    "R_A = [0.7069, 0.5963, 0.7323, 0.5386, 0.5770, 0.8705]\n",
    "R_AFI = [0.7193, 0.6039, 0.8454, 0.5369, 0.5828, 0.8935]\n",
    "S_A = [0.6843, 0.5684, 0.7389, 0.5302, 0.5729, 0.8640]\n",
    "S_AFI = [0.6866, 0.5732, 0.8283, 0.5268, 0.5804, 0.8819]\n",
    "SR_A = [0.6830, 0.5763, 0.7291, 0.5281, 0.5800, 0.8635]\n",
    "SR_AFI = [0.6915, 0.5808, 0.8181, 0.5309, 0.5800, 0.8806]\n",
    "NW_KNN = [0.6734, 0.5641, 0.6959, 0.5313, 0.5668, 0.8588]\n",
    "\n",
    "res = friedmanchisquare(R_AV, R_FI, R_AVFI, R_A, R_AFI, S_A, S_AFI, SR_A, SR_AFI, NW_KNN)\n",
    "print(\"ROC\")\n",
    "print(res.statistic)\n",
    "print(res.pvalue)"
   ]
  },
  {
   "cell_type": "code",
   "execution_count": null,
   "id": "08f9473b-f2c1-4d31-8515-c2dd190f05b5",
   "metadata": {},
   "outputs": [],
   "source": []
  }
 ],
 "metadata": {
  "kernelspec": {
   "display_name": "Python 3 (ipykernel)",
   "language": "python",
   "name": "python3"
  },
  "language_info": {
   "codemirror_mode": {
    "name": "ipython",
    "version": 3
   },
   "file_extension": ".py",
   "mimetype": "text/x-python",
   "name": "python",
   "nbconvert_exporter": "python",
   "pygments_lexer": "ipython3",
   "version": "3.10.0"
  }
 },
 "nbformat": 4,
 "nbformat_minor": 5
}
